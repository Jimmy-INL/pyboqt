{
 "cells": [
  {
   "cell_type": "markdown",
   "metadata": {},
   "source": [
    "[En el anterior capítulo preparamos las maletas (instalación de nuestras herramientas)](https://pybonacci.org/2019/11/12/curso-de-creacion-de-guis-con-qt5-y-python-capitulo-00-instalacion/) para nuestro viaje por el mundo de las aplicaciones de escritorio usando Python y Qt. **En este capítulo voy a intentar desenmarañar un poco lo que es Qt, PyQt, PySide, versiones,...**."
   ]
  },
  {
   "cell_type": "markdown",
   "metadata": {},
   "source": [
    "## Índice:\n",
    "\n",
    "* [Instalación de lo que vamos a necesitar](https://pybonacci.org/2019/11/12/curso-de-creacion-de-guis-con-qt-capitulo-00:-instalacion/).\n",
    "* [Qt, versiones y diferencias](https://pybonacci.org/2019/11/21/curso-de-creacion-de-guis-con-qt5-y-python-capitulo-01-qt-versiones-y-bindings/) (este capítulo).\n",
    "* [Hola, Mundo](https://pybonacci.org/2019/11/26/curso-de-creacion-de-guis-con-qt5-y-python-capitulo-02-hola-mundo/).\n",
    "* [Módulos en Qt](https://pybonacci.org/2019/12/02/curso-de-creacion-de-guis-con-qt5-y-python-capitulo-03-modulos-qt/).\n",
    "* [Añadimos icono a la ventana principal](https://pybonacci.org/2019/12/26/curso-de-creacion-de-guis-con-qt5-y-python-capitulo-04-icono-de-la-ventana/).\n",
    "* [Tipos de ventana en un GUI](https://pybonacci.org/2020/01/31/curso-de-creacion-de-guis-con-qt-capitulo-05-ventanas-principales-diferencias/).\n",
    "* [Ventana de inicio – SplashScreen](https://pybonacci.org/2020/02/26/curso-de-creacion-de-guis-con-qt-capitulo-06-splash-screen/).\n",
    "* [Menu principal. Introducción](https://pybonacci.org/2020/03/18/curso-de-creacion-de-guis-con-qt-capitulo-07-menu/).\n",
    "* [Mejorando algunas cosas vistas](https://pybonacci.org/2020/03/26/curso-de-creacion-de-guis-con-qt-capitulo-08-mejorando-lo-visto/).\n",
    "* [Gestión de eventos o Acción y reacción](https://pybonacci.org/2020/03/27/curso-de-creacion-de-guis-con-qt-capitulo-09-signals-y-slots/).\n",
    "* [Introducción a Designer](https://pybonacci.org/2020/04/14/curso-de-creacion-de-guis-con-qt-capitulo-10-introduccion-a-designer/).\n",
    "* [Los Widgets vistos a través de Designer: Primera parte](https://pybonacci.org/2020/05/01/curso-de-creacion-de-guis-con-qt-capitulo-11-widgets-en-designer-i/).\n",
    "* [Los Widgets vistos a través de Designer: Segunda parte](https://pybonacci.org/2020/05/02/curso-de-creacion-de-guis-con-qt-capitulo-12:-widgets-en-designer-(ii)/).\n",
    "* [Los Widgets vistos a través de Designer: Tercera parte](https://pybonacci.org/2020/05/03/curso-de-creacion-de-guis-con-qt-capitulo-13-widgets-en-designer-iii/).\n",
    "* [Los Widgets vistos a través de Designer: Cuarta parte](https://pybonacci.org/2020/05/04/curso-de-creacion-de-guis-con-qt-capitulo-14-widgets-en-designer-iv/).\n",
    "* [Los Widgets vistos a través de Designer: Quinta parte](https://pybonacci.org/2020/05/05/curso-de-creacion-de-guis-con-qt-capitulo-15-widgets-en-designer-v/).\n",
    "* [Los Widgets vistos a través de Designer: Sexta parte](https://pybonacci.org/2020/05/06/curso-de-creacion-de-guis-con-qt-capitulo-16:-widgets-en-designer-(vi)/).\n",
    "* TBD… (lo actualizaré cuando tenga más claro los siguientes pasos)."
   ]
  },
  {
   "cell_type": "markdown",
   "metadata": {},
   "source": [
    "**[Los materiales para este capítulo los podéis descargar de [aquí](https://github.com/kikocorreoso/pyboqt/tree/chapter01)]**"
   ]
  },
  {
   "cell_type": "markdown",
   "metadata": {},
   "source": [
    "**[INSTALACIÓN] Si todavía no has pasado por el [inicio del curso, donde explico cómo poner a punto todo](https://pybonacci.org/2019/11/12/curso-de-creacion-de-guis-con-qt5-y-python-capitulo-00-instalacion/), ahora es un buen momento para hacerlo y después podrás seguir con esta nueva receta.**"
   ]
  },
  {
   "cell_type": "markdown",
   "metadata": {},
   "source": [
    "## ¿Hola, Mundo?"
   ]
  },
  {
   "cell_type": "markdown",
   "metadata": {},
   "source": [
    "No, todavía no. Antes me voy a detener un momento a explicar una serie de cosas acerca de Qt, PyQt4, PyQt5, PySide y PySide2 y sus principales diferencias."
   ]
  },
  {
   "cell_type": "markdown",
   "metadata": {},
   "source": [
    "## ¿Qué es Qt y por qué hay tantas formas de acceder a Qt desde Python?"
   ]
  },
  {
   "cell_type": "markdown",
   "metadata": {},
   "source": [
    "## Qt"
   ]
  },
  {
   "cell_type": "markdown",
   "metadata": {},
   "source": [
    "En la [página oficial de Qt](https://www.qt.io/) podemos leer el siguiente párrafo:\n",
    "\n",
    "> Qt is much more than just a cross-platform SDK - it's a technology strategy that lets you quickly and cost-effectively design, develop, deploy, and maintain software while delivering a seamless user experience across all devices.\n",
    "\n",
    "Cómo párrafo vendemotos está bien pero no nos dice mucho. Algo un poco más sustancial sería:\n",
    "\n",
    "> Qt es un marco de trabajo multiplataforma y escrito en C++ para hacer aplicaciones gráficas.\n",
    "\n",
    "Es decir, es un *framework* para hacer GUIs (por las siglas en inglés de *Graphical User Interface*s o Interfaces Gráficas de Usuario) que nos permite disponer de un montón de cosas útiles para crear GUIs sin mucho esfuerzo y que soporta las plataformas más extendidas (Windows, Linux, MacOS,...).\n",
    "\n",
    "Qt está escrito en C++ y, por ello, necesitamos acceder al mismo usando unos *bindings* o puentes (no he encontrado mejor palabra para *bindings*) que nos permite comunicar nuestro código Python con el código de Qt escrito en C++."
   ]
  },
  {
   "cell_type": "markdown",
   "metadata": {},
   "source": [
    "## Versiones de Qt"
   ]
  },
  {
   "cell_type": "markdown",
   "metadata": {},
   "source": [
    "Ahora mismo [existen versiones](https://en.wikipedia.org/wiki/Qt_version_history) de Qt4.x y de Qt5.x. Qt4.x ya no se desarrolla más y todo el desarrollo va a la última versión de Qt5.x. Si decidiera comenzar una nueva herramienta usando Qt4.x estaría condicionado puesto que no obtendría nuevas funcionalidades, parches de seguridad,... La última versión de Qt4 es la 4.8 y salió en el 2011. Eso son unos cuantos siglos en el mundo tecnológico.\n",
    "\n",
    "Mi recomendación sería que usárais las versiones de Qt5.x puesto que incluye muchas mejoras y cosas más modernas que no se pueden encontrar en Qt4.x."
   ]
  },
  {
   "cell_type": "markdown",
   "metadata": {},
   "source": [
    "Por otro lado, parece que [Qt6 está a la vuelta de la esquina y el desarrollo de Qt for Python (PySide2) va a la par que el código en C++](https://www.qt.io/blog/2019/08/19/technical-vision-qt-python)."
   ]
  },
  {
   "cell_type": "markdown",
   "metadata": {},
   "source": [
    "## PyQt4, PySide, PyQt5, PySide2"
   ]
  },
  {
   "cell_type": "markdown",
   "metadata": {},
   "source": [
    "Los puentes o *bindings* de los que he hablado más arriba no son únicos y hay varias formas de poder acceder a Qt desde Python.\n",
    "\n",
    "Como habéis visto, también hay varias versiones de Qt. Vamos a ver en una tabla un resumen no muy riguroso de versiones, licencias,...:\n",
    "\n",
    "<table>\n",
    "  <tr>\n",
    "    <th width=10%>Binding</th>\n",
    "    <th width=20%>Python</th>\n",
    "    <th width=20%>Qt</th>\n",
    "    <th width=10%>¿En desarrollo?</th>\n",
    "    <th width=10%>Licencia</th>\n",
    "    <th width=30%>Comentarios</th>\n",
    "  </tr>\n",
    "  <tr>\n",
    "    <td><b>PyQt4</b></td>\n",
    "    <td>CPython2 &ge; 2.7, CPython3 &ge; 3.5</td>\n",
    "    <td>Qt = 4.x, Qt = 5.x</td>\n",
    "    <td>No</td>\n",
    "    <td>GPLv3 o comercial</td>\n",
    "    <td>Abandonado en favor de PyQt5. La última versión es la 4.12.3 lanzada el 31 de agosto de 2018. La última versión de Qt4 salió en 2011. Es más complejo de encontrar determinadas combinaciones.</td>\n",
    "  </tr>\n",
    "  <tr>\n",
    "    <td><b>PySide</b></td>\n",
    "    <td>CPython2 &ge; 2.6, 3.2 &le; CPython3 &le; 3.4</td>\n",
    "    <td>Qt &le; 4.8.x</td>\n",
    "    <td>No</td>\n",
    "    <td>LGPL</td>\n",
    "    <td>Abandonado en favor de PySide2. La última versión de Qt4 salió en 2011.</td>\n",
    "  </tr>\n",
    "  <tr>\n",
    "    <td><b>PyQt5</b></td>\n",
    "    <td>CPython &ge; 3.5</td>\n",
    "    <td>Qt &ge; 5.6</td>\n",
    "    <td>Sí</td>\n",
    "    <td>GPLv3 o comercial</td>\n",
    "    <td>Los desarrolladores <b>intentan</b> que las versiones de PyQt5 vayan en sintonía con las de Qt. Si, por ejemplo, instalamos PyQt5 5.6.x, teóricamente, soportará versiones de Qt iguales o inferiores a 5.6.x.</td>\n",
    "  </tr>\n",
    "  <tr>\n",
    "    <td><b>PySide2</b></td>\n",
    "    <td>CPython2 &ge; 2.7, CPython3 &ge; 3.5</td>\n",
    "    <td>Qt &ge; 5.6</td>\n",
    "    <td>Sí</td>\n",
    "    <td>GPL, LGPL o comercial</td>\n",
    "    <td>El proyecto también se conoce como \"Qt for Python\". Las versiones de PySide2 van a la par que las versiones de Qt5. La mejor forma de estar actualizado es seguir <a href=\"https://www.qt.io/blog/tag/qt-for-python\">su blog</td>\n",
    "  </tr>\n",
    "</table>\n",
    "\n",
    "Muchas versiones, un poco lioso todo. Me surge la pregunta:\n",
    "\n",
    "> Ok, muy bien, ¿qué elijo?\n",
    "\n",
    "Pues depende... Según mi opinión (sin entrar mucho en el tema de licencias, que es un poco más complejo que lo que comento en los siguientes puntos):\n",
    "\n",
    "- ¿Tienes código antiguo que mantener que dependía de Qt4.x, PyQt4/PySide? Mi opción sería ir con PyQt4 a no ser que tengas un problema de licencia y te convenga más usar PySide. Estás destinado a morir dando soporte a versiones antiguas que no recibirán mejoras y que pueden tener errores. Lo suyo sería que empezaras a portar el código a nuevas versiones de Qt, PyQt5/PySide2 y Python. El cambio no es tan drástico y se puede hacer de forma rápida.\n",
    "\n",
    "- ¿No tienes código antiguo que mantener y la GPLv3 o la licencia comercial no son problema? Sin duda usaría PyQt5 o PySide2. El segundo ya es estable a día de hoy.\n",
    "\n",
    "- ¿No tienes código antiguo que mantener, la GPLv3 es un problema y no tienes dinero para una licencia comercial? PySide2."
   ]
  },
  {
   "cell_type": "markdown",
   "metadata": {},
   "source": [
    "## Uso de código Python compatible con PyQt4, PySide, PyQt5, PySide2"
   ]
  },
  {
   "cell_type": "markdown",
   "metadata": {},
   "source": [
    "Gracias a gente maravillosa e inteligente existen bibliotecas que nos permiten trabajar con Qt olvidándonos un poco de tanto problema de versiones de *bindings* pythónicos de Qt. Estas bibliotecas nos permiten importar las cosas que necesitamos usando una API (Application Programming Interface) común.\n",
    "\n",
    "En la siguiente tabla (prestada del [README de Qt.py](https://github.com/mottosso/Qt.py)) tenéis algo de información sobre las diferentes bibliotecas de las que podríais hacer uso:\n",
    "\n",
    "| Project   | Audience   | Reference binding | License | PEP8 | Standalone | PyPI | Co-existence |\n",
    "|:----------|:-----------|:------------------|:--------|:-----|:-----------|:-----|:-------------|\n",
    "| Qt.py     | Film       | PySide2           | MIT     | Yes  | Yes        | Yes  | Yes |\n",
    "| jupyter   | Scientific | N/A               | N/A     | Yes  | No         | No   | No |\n",
    "| QtPy      | Scientific | N/A               | MIT     | No   | Yes        | Yes  | No |\n",
    "| pyqode.qt | Scientific | PyQt5             | MIT     | Yes  | No         | Yes  | No |\n",
    "| QtExt     | Film       | N/A               | N/A     | No   | Yes        | No   | No |\n",
    "\n",
    "En este curso voy a usar [QtPy](https://github.com/spyder-ide/qtpy), desarrollada por la gente de [Spyder-IDE](https://www.spyder-ide.org/). Por tanto, cualquier versión de PyQt5 o de PySide2 os debería funcionar sin problemas. En el capítulo anterior instalamos un entorno virtual donde estaban tanto la biblioteca PyQt5 como la biblioteca PySide2 instaladas.\n",
    "\n",
    "Si tenemos instalado QtPy y PyQt5 y PySide2, como es nuestro caso, QtPy seleccona PyQt5 por defecto a no ser que le digamos otra cosa usando la variable de entorno `QT_API`. `QT_API` puede usar cualquiera de estos valores:\n",
    "\n",
    "- `pyqt5` (para usar PyQt5).\n",
    "- `pyqt` o `pyqt4` (para usar PyQt4).\n",
    "- `pyside2` (para usar PySide2)\n",
    "- `pyside` (para usar PySide)."
   ]
  },
  {
   "cell_type": "markdown",
   "metadata": {},
   "source": [
    "# Pequeño ejemplo de uso de QtPy"
   ]
  },
  {
   "cell_type": "markdown",
   "metadata": {},
   "source": [
    "Si usamos PyQt5 los módulos los importariamos así:\n",
    "\n",
    "```python\n",
    "import sys\n",
    "from PyQt5.QtWidgets import QApplication, QLabel\n",
    "#...\n",
    "```\n",
    "\n",
    "Para el caso de PySide2 hemos de cambiar, básicamente, `PyQt5` por `PySide2`:\n",
    "\n",
    "```python\n",
    "import sys\n",
    "from PySide2.QtWidgets import QApplication, QLabel\n",
    "#...\n",
    "```\n",
    "\n",
    "Con QtPy no hemos de hacer cosas como lo siguiente para saber si tenemos instalado PyQt5 o PySide2:\n",
    "\n",
    "```python\n",
    "import sys\n",
    "try:\n",
    "    from PySide2.QtWidgets import QApplication, QLabel\n",
    "except ImportError:\n",
    "    from PyQt5.QtWidgets import QApplication, QLabel\n",
    "#...\n",
    "```\n",
    "\n",
    "Ya que podríamos hacer, simplemente:\n",
    "\n",
    "```python\n",
    "import sys\n",
    "import qtpy\n",
    "from qtpy.QtWidgets import QApplication, QLabel\n",
    "\n",
    "print(qtpy.API_NAME, qtpy.QT_VERSION, sep='; ')\n",
    "#...\n",
    "```\n",
    "\n",
    "En el caso anterior estaría usando PyQt5 puesto que si tenemos varias bibliotecas de *bindings* instaladas, PyQt5 y PySide2 en nuestro caso, por defecto usa PyQt5, como he comentado más arriba. Los `print`s nos darían `PyQt5; 5.12.3` (o la versión que tengáis instalada).\n",
    "\n",
    "Si quisiera usar PySide2 he de establecer la variable de entorno `QT_API`, como he comentado más arriba:\n",
    "\n",
    "```python\n",
    "import sys\n",
    "import os\n",
    "os.environ['QT_API'] = 'pyside2'\n",
    "import qtpy\n",
    "from qtpy.QtWidgets import QApplication, QLabel\n",
    "\n",
    "print(qtpy.API_NAME, qtpy.QT_VERSION, sep='; ')\n",
    "#...\n",
    "```\n",
    "\n",
    "En el caso anterior estaría usando PySide2 puesto que he establecido la variable de entorno de tal forma que use PySide2. Los `print`s nos darían `PySide2; 5.13.1` (o la versión que tengáis instalada).\n",
    "\n",
    "En mi caso voy a intentar usar PySide2 todo el rato por lo que incluiré las dos líneas siguientes al principio de los programas que lo requieran:\n",
    "\n",
    "```python\n",
    "import os\n",
    "os.environ['QT_API'] = 'pyside2'\n",
    "```\n",
    "\n",
    "Si, por la razón que sea, queréis usar PyQt5 eliminad esas dos líneas siempre que las veáis o importad las cosas usando `PyQt5` en lugar de `qtpy`."
   ]
  },
  {
   "cell_type": "markdown",
   "metadata": {},
   "source": [
    "# Terminando"
   ]
  },
  {
   "cell_type": "markdown",
   "metadata": {},
   "source": [
    "Bueno, ahora parece que ya tenemos todo en orden para pasar a nuestro 'Hola, Mundo' donde crearemos nuestro primer GUI totalmente inútil pero que nos ayudará a empezar a ver una serie de conceptos.\n",
    "\n",
    "Nos vemos en el siguiente capítulo."
   ]
  }
 ],
 "metadata": {
  "kernelspec": {
   "display_name": "Python 3",
   "language": "python",
   "name": "python3"
  },
  "language_info": {
   "codemirror_mode": {
    "name": "ipython",
    "version": 3
   },
   "file_extension": ".py",
   "mimetype": "text/x-python",
   "name": "python",
   "nbconvert_exporter": "python",
   "pygments_lexer": "ipython3",
   "version": "3.7.6"
  }
 },
 "nbformat": 4,
 "nbformat_minor": 2
}
