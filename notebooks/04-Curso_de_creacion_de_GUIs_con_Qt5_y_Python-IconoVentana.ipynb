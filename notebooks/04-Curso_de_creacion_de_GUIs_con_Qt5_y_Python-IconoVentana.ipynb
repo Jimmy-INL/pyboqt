{
 "cells": [
  {
   "cell_type": "markdown",
   "metadata": {},
   "source": [
    "Con la base establecida vamos a empezar a hacer que el GUI sea más nuestro mientras seguimos en nuestro viaje por el mundo de las aplicaciones de escritorio usando Python y Qt. **En este capítulo describo como añadir un icono a la ventana principal del GUI**."
   ]
  },
  {
   "cell_type": "markdown",
   "metadata": {},
   "source": [
    "## Índice:\n",
    "\n",
    "* [Instalación de lo que vamos a necesitar](https://pybonacci.org/2019/11/12/curso-de-creacion-de-guis-con-qt-capitulo-00:-instalacion/).\n",
    "* [Qt, versiones y diferencias](https://pybonacci.org/2019/11/21/curso-de-creacion-de-guis-con-qt5-y-python-capitulo-01-qt-versiones-y-bindings/).\n",
    "* [Hola, Mundo](https://pybonacci.org/2019/11/26/curso-de-creacion-de-guis-con-qt5-y-python-capitulo-02-hola-mundo/).\n",
    "* [Módulos en Qt](https://pybonacci.org/2019/12/02/curso-de-creacion-de-guis-con-qt5-y-python-capitulo-03-modulos-qt/).\n",
    "* [Añadimos icono a la ventana principal](https://pybonacci.org/2019/12/26/curso-de-creacion-de-guis-con-qt5-y-python-capitulo-04-icono-de-la-ventana/) (este capítulo).\n",
    "* [Tipos de ventana en un GUI](https://pybonacci.org/2020/01/31/curso-de-creacion-de-guis-con-qt-capitulo-05-ventanas-principales-diferencias/).\n",
    "* [Ventana de inicio – SplashScreen](https://pybonacci.org/2020/02/26/curso-de-creacion-de-guis-con-qt-capitulo-06-splash-screen/).\n",
    "* [Menu principal. Introducción](https://pybonacci.org/2020/03/18/curso-de-creacion-de-guis-con-qt-capitulo-07-menu/).\n",
    "* [Mejorando algunas cosas vistas](https://pybonacci.org/2020/03/26/curso-de-creacion-de-guis-con-qt-capitulo-08-mejorando-lo-visto/).\n",
    "* [Gestión de eventos o Acción y reacción](https://pybonacci.org/2020/03/27/curso-de-creacion-de-guis-con-qt-capitulo-09-signals-y-slots/).\n",
    "* [Introducción a Designer](https://pybonacci.org/2020/04/14/curso-de-creacion-de-guis-con-qt-capitulo-10-introduccion-a-designer/).\n",
    "* [Los Widgets vistos a través de Designer: Primera parte](https://pybonacci.org/2020/05/01/curso-de-creacion-de-guis-con-qt-capitulo-11-widgets-en-designer-i/).\n",
    "* [Los Widgets vistos a través de Designer: Segunda parte](https://pybonacci.org/2020/05/02/curso-de-creacion-de-guis-con-qt-capitulo-12:-widgets-en-designer-(ii)/).\n",
    "* [Los Widgets vistos a través de Designer: Tercera parte](https://pybonacci.org/2020/05/03/curso-de-creacion-de-guis-con-qt-capitulo-13-widgets-en-designer-iii/).\n",
    "* [Los Widgets vistos a través de Designer: Cuarta parte](https://pybonacci.org/2020/05/04/curso-de-creacion-de-guis-con-qt-capitulo-14-widgets-en-designer-iv/).\n",
    "* [Los Widgets vistos a través de Designer: Quinta parte](https://pybonacci.org/2020/05/05/curso-de-creacion-de-guis-con-qt-capitulo-15-widgets-en-designer-v/).\n",
    "* [Los Widgets vistos a través de Designer: Sexta parte](https://pybonacci.org/2020/05/06/curso-de-creacion-de-guis-con-qt-capitulo-16:-widgets-en-designer-(vi)/).\n",
    "* TBD… (lo actualizaré cuando tenga más claro los siguientes pasos)."
   ]
  },
  {
   "cell_type": "markdown",
   "metadata": {},
   "source": [
    "**[Los materiales para este capítulo los podéis descargar de [aquí](https://github.com/kikocorreoso/pyboqt/tree/chapter04)]**"
   ]
  },
  {
   "cell_type": "markdown",
   "metadata": {},
   "source": [
    "**[INSTALACIÓN] Si todavía no has pasado por el [inicio del curso, donde explico cómo poner a punto todo](https://pybonacci.org/2019/11/12/curso-de-creacion-de-guis-con-qt-capitulo-00:-instalacion/), ahora es un buen momento para hacerlo y después podrás seguir con esta nueva receta.**"
   ]
  },
  {
   "cell_type": "markdown",
   "metadata": {},
   "source": [
    "## Añadiendo un icono a la ventana"
   ]
  },
  {
   "cell_type": "markdown",
   "metadata": {},
   "source": [
    "En esta pequeña receta vamos a hacer uso de `QIcon` contenido en el módulo `QtGui`. La documentación para esta clase la podéis encontrar [aquí](https://doc-snapshots.qt.io/qtforpython/PySide2/QtGui/QIcon.html).\n",
    "\n",
    "Como comento, haremos uso de `QIcon` para añadir iconos y vamos a empezar por añadir un icono a la ventana para que nuestra aplicación se vea bonita y lustrosa frente al resto de aplicaciones con las que estemos trabajando en nuestro escritorio.\n",
    "\n",
    "Empecemos a escribir algo de código. Vamos a partir del código que vimos en el [capítulo 02](https://pybonacci.org/2019/11/26/curso-de-creacion-de-guis-con-qt5-y-python-capitulo-02-hola-mundo/)."
   ]
  },
  {
   "cell_type": "markdown",
   "metadata": {},
   "source": [
    "```python\n",
    "'''\n",
    "Curso de creación de GUIs con Qt5 y Python\n",
    "\n",
    "Author: Kiko Correoso\n",
    "Website: pybonacci.org \n",
    "Licencia: MIT\n",
    "'''\n",
    "\n",
    "import os\n",
    "os.environ['QT_API'] = 'pyside2'\n",
    "import sys\n",
    "\n",
    "from qtpy.QtWidgets import QApplication, QWidget\n",
    "\n",
    "if __name__ == '__main__':\n",
    "\n",
    "    app = QApplication(sys.argv)\n",
    "\n",
    "    w = QWidget()\n",
    "    w.resize(500, 300)\n",
    "    w.move(0, 0)\n",
    "    w.setWindowTitle('Hola, Mundo')\n",
    "    w.show()\n",
    "\n",
    "    sys.exit(app.exec_())\n",
    "```"
   ]
  },
  {
   "cell_type": "markdown",
   "metadata": {},
   "source": [
    "Si no sabes lo que hace el código anterior visita el [capítulo 02](https://pybonacci.org/2019/11/26/curso-de-creacion-de-guis-con-qt5-y-python-capitulo-02-hola-mundo/) para poder entender lo que está pasando.\n",
    "\n",
    "Al código anterior le vamos a añadir unas pocas líneas más que nos permitirán tener un icono para la ventana como el que vemos a continuación (el logo de Pybonacci arriba a la izquierda de la ventana):\n",
    "\n",
    "![](../imgs/04_01_screenshot.png)"
   ]
  },
  {
   "cell_type": "markdown",
   "metadata": {},
   "source": [
    "*Aviso, dependiendo del entorno de ventanas en el que os encontréis igual no veis el icono. Por ejemplo, en mi caso cuando uso Cinnamon con Linux Mint no me salen los iconos de las ventanas (los iconos de arriba a la izquierda de la ventana, no el resto).*"
   ]
  },
  {
   "cell_type": "markdown",
   "metadata": {},
   "source": [
    "Para conseguir lo anterior vamos a añadir el código correspondiente donde las nuevas líneas que no vimos en el [capítulo 02](https://pybonacci.org/2019/11/26/curso-de-creacion-de-guis-con-qt5-y-python-capitulo-02-hola-mundo/) contienen un comentario de la siguiente forma `## NUEVA LÍNEA`:"
   ]
  },
  {
   "cell_type": "markdown",
   "metadata": {},
   "source": [
    "```python\n",
    "'''\n",
    "Curso de creación de GUIs con Qt5 y Python\n",
    "\n",
    "Author: Kiko Correoso\n",
    "Website: pybonacci.org \n",
    "Licencia: MIT\n",
    "'''\n",
    "\n",
    "import os\n",
    "os.environ['QT_API'] = 'pyside2'\n",
    "import sys\n",
    "from pathlib import Path ## NUEVA LÍNEA\n",
    "\n",
    "from qtpy.QtWidgets import QApplication, QWidget\n",
    "from qtpy.QtGui import QIcon ## NUEVA LÍNEA\n",
    "\n",
    "if __name__ == '__main__':\n",
    "    \n",
    "    ruta_icono = Path('.', 'imgs', 'pybofractal.png') ## NUEVA LÍNEA\n",
    "    app = QApplication(sys.argv)\n",
    "\n",
    "    w = QWidget()\n",
    "    w.resize(500, 300)\n",
    "    w.move(0, 0)\n",
    "    w.setWindowTitle('Hola, Icono')\n",
    "    w.setWindowIcon(QIcon(str(ruta_icono))) ## NUEVA LÍNEA\n",
    "    w.show()\n",
    "\n",
    "    sys.exit(app.exec_())\n",
    "```"
   ]
  },
  {
   "cell_type": "markdown",
   "metadata": {},
   "source": [
    "Al código inicial le hemos añadido cuatro líneas nuevas que he destacado metiendo el comentario `## NUEVA LÍNEA` al final del código de cada nueva línea.\n",
    "\n",
    "Vamos a comentar estas cuatro líneas:"
   ]
  },
  {
   "cell_type": "markdown",
   "metadata": {},
   "source": [
    "----------------------\n",
    "```python\n",
    "from pathlib import Path\n",
    "```\n",
    "\n",
    "Sin misterios, vamos a usar `pathlib` para trabajar con rutas en nuestro sistema de ficheros. [Esta biblioteca está disponible en Python desde la versión 3.4](https://docs.python.org/3/library/pathlib.html) y como no es el objeto de este [tutorial hablar sobre pathlib puedes visitar este otro post que ya escribimos hace algún tiempo](https://www.pybonacci.org/2016/05/18/joyitas-en-la-stdlib-pathlib/)."
   ]
  },
  {
   "cell_type": "markdown",
   "metadata": {},
   "source": [
    "--------------\n",
    "```python\n",
    "from qtpy.QtGui import QIcon\n",
    "```\n",
    "\n",
    "Tampoco hay mucho misterio en esta línea. Importamos la clase `QIcon` que usaremos más tarde. Si no usas `qtpy` podríamos importar esto usando lo siguiente:\n",
    "\n",
    "```python\n",
    "from PyQt5.QtGui import QIcon  ## Para PyQt5\n",
    "from PySide2.QtGui import QIcon  ## Para PySide2\n",
    "```"
   ]
  },
  {
   "cell_type": "markdown",
   "metadata": {},
   "source": [
    "-----------------\n",
    "```python\n",
    "ruta_icono = Path('.', 'imgs', 'pybofractal.png')\n",
    "```\n",
    "\n",
    "En esta línea definimos la ruta a la imagen que queremos usar como icono. En mi caso, estoy usando una imagen que se llama *pybofractal.png* que está contenida en una carpeta llamada *imgs/* en el [repositorio](https://github.com/kikocorreoso/pyboqt). Podéis usar la imagen que queráis o la que estoy usando yo. Simplemente, debes añadir la ruta correcta a tu imagen."
   ]
  },
  {
   "cell_type": "markdown",
   "metadata": {},
   "source": [
    "----------------\n",
    "```python\n",
    "w.setWindowIcon(QIcon(str(ruta_icono)))\n",
    "```\n",
    "\n",
    "En esta línea, a la instancia de `QWidget` le pasamos el objeto `QIcon` con la ruta de la imagen que queremos usar mediante el método `setWindowIcon`."
   ]
  },
  {
   "cell_type": "markdown",
   "metadata": {},
   "source": [
    "Y eso sería todo..."
   ]
  },
  {
   "cell_type": "markdown",
   "metadata": {},
   "source": [
    "Si guardamos el anterior código en un fichero que se llame, por ejemplo, *main00.py*, lo podríamos ejecutar desde una terminal o Anaconda Prompt (si estás en Windows) haciendo lo siguiente. Primero activamos el entorno virtual que ya deberías tener instalado:"
   ]
  },
  {
   "cell_type": "markdown",
   "metadata": {},
   "source": [
    "`conda activate pyboqt`"
   ]
  },
  {
   "cell_type": "markdown",
   "metadata": {},
   "source": [
    "Y luego, en la misma línea de comandos, primero vamos a la carpeta donde hemos guardado el fichero *main00.py*:"
   ]
  },
  {
   "cell_type": "markdown",
   "metadata": {},
   "source": [
    "`cd /ruta/a/carpeta/ # Si estás en linux o Mac`"
   ]
  },
  {
   "cell_type": "markdown",
   "metadata": {},
   "source": [
    "o"
   ]
  },
  {
   "cell_type": "markdown",
   "metadata": {},
   "source": [
    "`cd C:\\ruta\\a\\carpeta\\ # Si estás en Windows`"
   ]
  },
  {
   "cell_type": "markdown",
   "metadata": {},
   "source": [
    "Y cuando ya estemos en la carpeta debemos tener el fichero *main00.py* y una carpeta *imgs* con la imagen que usaremos de icono y que hayamos incluido correctamente en el código. Para ejecutar nuestra aplicación usamos:"
   ]
  },
  {
   "cell_type": "markdown",
   "metadata": {},
   "source": [
    "`python main00.py`"
   ]
  },
  {
   "cell_type": "markdown",
   "metadata": {},
   "source": [
    "Si has descargado el material desde el repositorio deberías tener el programa ya listo en la carpeta *apps/04-IconoVentana/* del mismo. Puedes ir hasta esa carpeta y (con el entorno virtual activado) puedes ejecutar la línea anterior (`python main00.py`)."
   ]
  },
  {
   "cell_type": "markdown",
   "metadata": {},
   "source": [
    "## Refactorizando"
   ]
  },
  {
   "cell_type": "markdown",
   "metadata": {},
   "source": [
    "Pero en el código anterior estamos creando todo de forma un poco desorganizada. Vamos a empezar a usar clases para crear nuestros GUIs y que estén un poco mejor organizados. Por tanto, el código anterior podría quedar de la siguiente forma:"
   ]
  },
  {
   "cell_type": "markdown",
   "metadata": {},
   "source": [
    "```python\n",
    "'''\n",
    "Curso de creación de GUIs con Qt5 y Python\n",
    "\n",
    "Author: Kiko Correoso\n",
    "Website: pybonacci.org \n",
    "Licencia: MIT\n",
    "'''\n",
    "\n",
    "import os\n",
    "os.environ['QT_API'] = 'pyside2'\n",
    "import sys\n",
    "from pathlib import Path\n",
    "\n",
    "from qtpy.QtWidgets import QApplication, QWidget\n",
    "from qtpy.QtGui import QIcon\n",
    "\n",
    "class MiVentana(QWidget):\n",
    "    def __init__(self):\n",
    "        super().__init__()\n",
    "        self._create_ui()\n",
    "    \n",
    "    def _create_ui(self):\n",
    "        self.resize(500, 300)\n",
    "        self.move(0, 0)\n",
    "        self.setWindowTitle('Hola, Icono refactorizado')\n",
    "        ruta_icono = Path('.', 'imgs', 'pybofractal.png')\n",
    "        self.setWindowIcon(QIcon(str(ruta_icono)))\n",
    "        self.show()\n",
    "\n",
    "if __name__ == '__main__':\n",
    "    \n",
    "    app = QApplication(sys.argv)\n",
    "    w = MiVentana()\n",
    "    sys.exit(app.exec_())\n",
    "```"
   ]
  },
  {
   "cell_type": "markdown",
   "metadata": {},
   "source": [
    "Esto es muy parecido a lo anterior pero ahora estamos creando nuestra propia clase que hereda de `QWidget`. Esa clase contendrá la ventana principal y alguna configuración de la misma. Dentro de esta clase delegamos la configuración de la interfaz de usuario al método `_create_ui`. El código que contiene este método ya lo hemos comentado anteriormente. Finalmente, creamos el bucle de eventos (*eventloop*) e instanciamos nuestras nueva clase a continuación de declarar el bucle de eventos (penúltima línea del código anterior). Y, finalmente, ejecutamos la aplicación para que se vea en pantalla (última línea del código).\n",
    "\n",
    "De momento, el código era corto y entendible (*main00.py*) pero es mejor que empecemos a organizarlo mejor como hemos hecho en esta parte. Hemos creado un método,`_create_ui` , al que se le delega la configuración y creación de la interfaz de usuario.\n",
    "\n",
    "El nuevo código lo podéis guardar en el fichero *main01.py* y guardar ese fichero en el mismo sitio en el que habéis guardado *main00.py*. Una vez guardado, desde la línea de comandos en la misma carpeta donde se encuentra el fichero y con el entorno virtual activado podéis hacer:"
   ]
  },
  {
   "cell_type": "markdown",
   "metadata": {},
   "source": [
    "`python main01.py`"
   ]
  },
  {
   "cell_type": "markdown",
   "metadata": {},
   "source": [
    "Y veréis la misma ventana que anteriormente."
   ]
  },
  {
   "cell_type": "markdown",
   "metadata": {},
   "source": [
    "Ahora sí que hemos terminado por hoy. \n",
    "\n",
    "¿Nos vemos en el siguiente capítulo?"
   ]
  }
 ],
 "metadata": {
  "kernelspec": {
   "display_name": "Python 3",
   "language": "python",
   "name": "python3"
  },
  "language_info": {
   "codemirror_mode": {
    "name": "ipython",
    "version": 3
   },
   "file_extension": ".py",
   "mimetype": "text/x-python",
   "name": "python",
   "nbconvert_exporter": "python",
   "pygments_lexer": "ipython3",
   "version": "3.7.6"
  }
 },
 "nbformat": 4,
 "nbformat_minor": 2
}
