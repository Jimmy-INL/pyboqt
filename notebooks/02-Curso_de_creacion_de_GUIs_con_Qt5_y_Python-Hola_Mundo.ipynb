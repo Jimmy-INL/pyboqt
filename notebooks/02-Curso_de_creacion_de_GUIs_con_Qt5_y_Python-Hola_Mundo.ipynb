{
 "cells": [
  {
   "cell_type": "markdown",
   "metadata": {},
   "source": [
    "En el anterior capítulo ya teníamos [las maletas preparadas (instalación de nuestras herramientas)](https://pybonacci.org/2019/11/12/curso-de-creacion-de-guis-con-qt5-y-python-capitulo-00-instalacion/) y empezamos a leer [nuestra guía de viajes](https://pybonacci.org/2019/11/21/curso-de-creacion-de-guis-con-qt5-y-python-capitulo-01-qt-versiones-y-bindings/) para nuestro viaje por el mundo de las aplicaciones de escritorio usando Python y Qt. **En este capítulo voy a escribir el 'Hola, Mundo' de rigor para empezar a ver conceptos clave**."
   ]
  },
  {
   "cell_type": "markdown",
   "metadata": {},
   "source": [
    "## Índice:\n",
    "\n",
    "* [Instalación de lo que vamos a necesitar](https://pybonacci.org/2019/11/12/curso-de-creacion-de-guis-con-qt-capitulo-00:-instalacion/).\n",
    "* [Qt, versiones y diferencias](https://pybonacci.org/2019/11/21/curso-de-creacion-de-guis-con-qt5-y-python-capitulo-01-qt-versiones-y-bindings/).\n",
    "* [Hola, Mundo](https://pybonacci.org/2019/11/26/curso-de-creacion-de-guis-con-qt5-y-python-capitulo-02-hola-mundo/) (este capítulo).\n",
    "* [Módulos en Qt](https://pybonacci.org/2019/12/02/curso-de-creacion-de-guis-con-qt5-y-python-capitulo-03-modulos-qt/).\n",
    "* [Añadimos icono a la ventana principal](https://pybonacci.org/2019/12/26/curso-de-creacion-de-guis-con-qt5-y-python-capitulo-04-icono-de-la-ventana/).\n",
    "* [Tipos de ventana en un GUI](https://pybonacci.org/2020/01/31/curso-de-creacion-de-guis-con-qt-capitulo-05-ventanas-principales-diferencias/).\n",
    "* [Ventana de inicio – SplashScreen](https://pybonacci.org/2020/02/26/curso-de-creacion-de-guis-con-qt-capitulo-06-splash-screen/).\n",
    "* [Menu principal. Introducción](https://pybonacci.org/2020/03/18/curso-de-creacion-de-guis-con-qt-capitulo-07-menu/).\n",
    "* [Mejorando algunas cosas vistas](https://pybonacci.org/2020/03/26/curso-de-creacion-de-guis-con-qt-capitulo-08-mejorando-lo-visto/).\n",
    "* [Gestión de eventos o Acción y reacción](https://pybonacci.org/2020/03/27/curso-de-creacion-de-guis-con-qt-capitulo-09-signals-y-slots/).\n",
    "* [Introducción a Designer](https://pybonacci.org/2020/04/14/curso-de-creacion-de-guis-con-qt-capitulo-10-introduccion-a-designer/).\n",
    "* [Los Widgets vistos a través de Designer: Primera parte](https://pybonacci.org/2020/05/01/curso-de-creacion-de-guis-con-qt-capitulo-11-widgets-en-designer-i/).\n",
    "* [Los Widgets vistos a través de Designer: Segunda parte](https://pybonacci.org/2020/05/02/curso-de-creacion-de-guis-con-qt-capitulo-12:-widgets-en-designer-(ii)/).\n",
    "* [Los Widgets vistos a través de Designer: Tercera parte](https://pybonacci.org/2020/05/03/curso-de-creacion-de-guis-con-qt-capitulo-13-widgets-en-designer-iii/).\n",
    "* [Los Widgets vistos a través de Designer: Cuarta parte](https://pybonacci.org/2020/05/04/curso-de-creacion-de-guis-con-qt-capitulo-14-widgets-en-designer-iv/).\n",
    "* [Los Widgets vistos a través de Designer: Quinta parte](https://pybonacci.org/2020/05/05/curso-de-creacion-de-guis-con-qt-capitulo-15-widgets-en-designer-v/).\n",
    "* [Los Widgets vistos a través de Designer: Sexta parte](https://pybonacci.org/2020/05/06/curso-de-creacion-de-guis-con-qt-capitulo-16:-widgets-en-designer-(vi)/).\n",
    "* TBD… (lo actualizaré cuando tenga más claro los siguientes pasos)."
   ]
  },
  {
   "cell_type": "markdown",
   "metadata": {},
   "source": [
    "**[Los materiales para este capítulo los podéis descargar de [aquí](https://github.com/kikocorreoso/pyboqt/tree/chapter02)]**"
   ]
  },
  {
   "cell_type": "markdown",
   "metadata": {},
   "source": [
    "**[INSTALACIÓN] Si todavía no has pasado por el [inicio del curso, donde explico cómo poner a punto todo](https://pybonacci.org/2019/11/12/curso-de-creacion-de-guis-con-qt5-y-python-capitulo-00-instalacion/), ahora es un buen momento para hacerlo y después podrás seguir con esta nueva receta.**"
   ]
  },
  {
   "cell_type": "markdown",
   "metadata": {},
   "source": [
    "**[AVISO] Cuando ejecute algo de código siempre voy a asumir que os encontráis en la carpeta correcta del repositorio y que tenéis activado el entorno virtual `pyboqt`. Todos los códigos estarán en la carpeta *apps* del repositorio. Por ejemplo, si voy a ejecutar un código del capítulo 02 (este capítulo) y os digo que lo ejecutéis desde una línea de comandos usando `python programa_a_ejecutar.py` siempre voy a asumir que la línea de comandos del terminal la tenéis localizada en la carpeta donde se encuentra el programa. Por ejemplo, si quiero ejecutar el programa *main.py* del capítulo 02 deberás estar en:**\n",
    "\n",
    "```\n",
    "cd /ruta/al/repo/pyboqt/apps/02-HolaMundo # En linux, MacOS\n",
    "```\n",
    "\n",
    "```\n",
    "cd C:\\ruta\\al\\repo\\pyboqt\\apps\\02-HolaMundo # En windows\n",
    "```\n",
    "\n",
    "**Deberás tener el entorno virtual instalado y activado. Si aun no lo tienes instalado mira en los párrafos anteriores:**\n",
    "\n",
    "```\n",
    "conda activate pyboqt\n",
    "```\n",
    "\n",
    "**Y una vez que el terminal esté ahí podréis hacer:**\n",
    "\n",
    "```\n",
    "python main.py\n",
    "```\n",
    "\n",
    "**Para que se ejecute todo correcto.**"
   ]
  },
  {
   "cell_type": "markdown",
   "metadata": {},
   "source": [
    "## Hola, Mundo"
   ]
  },
  {
   "cell_type": "markdown",
   "metadata": {},
   "source": [
    "Vamos a escribir nuestro primer GUI con Python y Qt y vamos a aprender una serie de conceptos sobre los GUIs, Qt,... No os preocupéis si lo que vemos no tiene mucho sentido ahora mismo. Lo veremos más en detalle en próximos capítulos.\n",
    "\n",
    "**[Descargo de responsabilidad]** Este GUI no va a hacer nada útil."
   ]
  },
  {
   "cell_type": "markdown",
   "metadata": {},
   "source": [
    "# El Código"
   ]
  },
  {
   "cell_type": "markdown",
   "metadata": {},
   "source": [
    "```python\n",
    "'''\n",
    "Curso de creación de GUIs con Qt5 y Python\n",
    "\n",
    "Author: Kiko Correoso\n",
    "Website: pybonacci.org \n",
    "Licencia: MIT\n",
    "'''\n",
    "\n",
    "import os\n",
    "os.environ['QT_API'] = 'pyside2'\n",
    "import sys\n",
    "\n",
    "from qtpy.QtWidgets import QApplication, QWidget\n",
    "\n",
    "if __name__ == '__main__':\n",
    "    \n",
    "    app = QApplication(sys.argv)\n",
    "\n",
    "    w = QWidget()\n",
    "    w.resize(500, 300)\n",
    "    w.move(0, 0)\n",
    "    w.setWindowTitle('Hola, Mundo')\n",
    "    w.show()\n",
    "    \n",
    "    sys.exit(app.exec_())\n",
    "```"
   ]
  },
  {
   "cell_type": "markdown",
   "metadata": {},
   "source": [
    "# Ejecución del código"
   ]
  },
  {
   "cell_type": "markdown",
   "metadata": {},
   "source": [
    "Guardad el anterior código en un fichero con extensión *.py*, por ejemplo, *fichero.py*. en la carpeta que queráis. Si habéis descargado el material del repositorio tendréis el anterior código en el fichero \"[/ruta/al/repo/pyboqt/apps/02-HolaMundo/main.py](https://github.com/kikocorreoso/pyboqt/blob/chapter02/apps/02-HolaMundo/main.py)\". Abrid un terminal o Anaconda Prompt (Windows) y escribid:\n",
    "\n",
    "`conda activate pyboqt`\n",
    "\n",
    "y pulsad 'Intro' para que se active el entorno virtual donde tenemos todo instalado. \n",
    "\n",
    "En este momento vamos a instalar qtpy. Igual ya está instalado pero por si acaso. Para ello hacemos:\n",
    "\n",
    "```\n",
    "conda install qtpy -c conda-forge\n",
    "```\n",
    "\n",
    "Ahora, podéis hacer lo siguiente:\n",
    "\n",
    "`python /ruta/al/fichero.py # Linux o Mac`\n",
    "\n",
    "o \n",
    "\n",
    "`python C:\\ruta\\al\\fichero.py # Windows`\n",
    "\n",
    "y pulsad 'Intro'. Si todo funciona correctamente os debería de salir una ventanita como la siguiente:\n",
    "\n",
    "![](../imgs/02_01_screenshot.png)"
   ]
  },
  {
   "cell_type": "markdown",
   "metadata": {},
   "source": [
    "Enhorabuena. Has creado tu primer GUI con Qt5."
   ]
  },
  {
   "cell_type": "markdown",
   "metadata": {},
   "source": [
    "# El código explicado"
   ]
  },
  {
   "cell_type": "markdown",
   "metadata": {},
   "source": [
    "-----------------\n",
    "```python\n",
    "import os\n",
    "os.environ['QT_API'] = 'pyside2'\n",
    "import sys\n",
    "```\n",
    "\n",
    "Importamos la biblioteca `sys` (luego comento para qué la usamos) y establecemos la variable de entorno `QT_API` para usar PySide2 con ayuda de la biblioteca `os` (comenta las dos primeras líneas si prefieres usar PyQt5). De momento, esto no hace ninguna magia para mostrarnos GUIs en pantalla."
   ]
  },
  {
   "cell_type": "markdown",
   "metadata": {},
   "source": [
    "----------------------\n",
    "```python\n",
    "from qtpy.QtWidgets import QApplication, QWidget\n",
    "```\n",
    "\n",
    "Importamos `QApplication` y `QWidget` del módulo `QtWidgets` de PyQt5 o de PySide2.\n",
    "\n",
    "- `QApplication`: Cualquier aplicación debe crear una instancia de esta clase. Más información abajo.\n",
    "- `QWidget`: Es la clase base de todos los *widgets*. Los *widgets* vienen a ser las interfaces que permiten interactuar al usuario con el GUI (botones, líneas de texto, deslizadores,...)."
   ]
  },
  {
   "cell_type": "markdown",
   "metadata": {},
   "source": [
    "----------------------\n",
    "```python\n",
    "if __name__ == '__main__':\n",
    "```\n",
    "\n",
    "[Lee aquí, DRY](https://stackoverflow.com/questions/419163/what-does-if-name-main-do#419185)."
   ]
  },
  {
   "cell_type": "markdown",
   "metadata": {},
   "source": [
    "----------------------\n",
    "```\n",
    "    app = QApplication(sys.argv)\n",
    "```\n",
    "\n",
    "Aquí es donde creamos una instancia de `QApplication`. Todo GUI hecho con PyQt5/PySide2 debe tener una instancia de `QApplication`. Esta instancia nos proporciona acceso a información global como la carpeta de la aplicación, la hoja de estilos usada, el tamaño de la pantalla en la que corre el GUI,...\n",
    "\n",
    "Si hiciéramos un `print(dir(app))` obtendríamos lo siguiente:\n",
    "\n",
    "```\n",
    "['ApplicationFlags', 'ColorSpec', 'CustomColor', 'ManyColor', 'NormalColor', '__class__', '__delattr__', '__dict__', '__dir__', '__doc__', '__eq__', '__format__', '__ge__', '__getattribute__', '__gt__', '__hash__', '__init__', '__init_subclass__', '__le__', '__lt__', '__ne__', '__new__', '__reduce__', '__reduce_ex__', '__repr__', '__setattr__', '__sizeof__', '__str__', '__subclasshook__', 'aboutQt', 'aboutToQuit', 'activeModalWidget', 'activePopupWidget', 'activeWindow', 'addLibraryPath', 'alert', 'allWidgets', 'allWindows', 'applicationDirPath', 'applicationDisplayName', 'applicationFilePath', 'applicationName', 'applicationNameChanged', 'applicationPid', 'applicationState', 'applicationStateChanged', 'applicationVersion', 'applicationVersionChanged', 'arguments', 'autoSipEnabled', 'beep', 'blockSignals', 'changeOverrideCursor', 'childEvent', 'children', 'clipboard', 'closeAllWindows', 'closingDown', 'colorSpec', 'commitDataRequest', 'connect', 'connectNotify', 'cursorFlashTime', 'customEvent', 'deleteLater', 'desktop', 'desktopSettingsAware', 'destroyed', 'devicePixelRatio', 'disconnect', 'disconnectNotify', 'doubleClickInterval', 'dumpObjectInfo', 'dumpObjectTree', 'dynamicPropertyNames', 'emit', 'event', 'eventDispatcher', 'eventFilter', 'exec_', 'exit', 'findChild', 'findChildren', 'flush', 'focusChanged', 'focusObject', 'focusObjectChanged', 'focusWidget', 'focusWindow', 'focusWindowChanged', 'font', 'fontDatabaseChanged', 'fontMetrics', 'globalStrut', 'hasPendingEvents', 'inherits', 'installEventFilter', 'installTranslator', 'instance', 'isEffectEnabled', 'isFallbackSessionManagementEnabled', 'isLeftToRight', 'isQuitLockEnabled', 'isRightToLeft', 'isSavingSession', 'isSessionRestored', 'isSetuidAllowed', 'isSignalConnected', 'isWidgetType', 'isWindowType', 'keyboardInputInterval', 'keyboardModifiers', 'killTimer', 'lastWindowClosed', 'layoutDirection', 'layoutDirectionChanged', 'libraryPaths', 'metaObject', 'modalWindow', 'mouseButtons', 'moveToThread', 'notify', 'objectName', 'objectNameChanged', 'organizationDomain', 'organizationDomainChanged', 'organizationName', 'organizationNameChanged', 'overrideCursor', 'palette', 'paletteChanged', 'parent', 'platformName', 'postEvent', 'primaryScreen', 'primaryScreenChanged', 'processEvents', 'property', 'queryKeyboardModifiers', 'quit', 'quitOnLastWindowClosed', 'receivers', 'registerUserData', 'removeEventFilter', 'removeLibraryPath', 'removePostedEvents', 'removeTranslator', 'restoreOverrideCursor', 'saveStateRequest', 'screenAdded', 'screenRemoved', 'screens', 'sendEvent', 'sendPostedEvents', 'sender', 'senderSignalIndex', 'sessionId', 'sessionKey', 'setActiveWindow', 'setApplicationDisplayName', 'setApplicationName', 'setApplicationVersion', 'setAttribute', 'setAutoSipEnabled', 'setColorSpec', 'setCursorFlashTime', 'setDesktopSettingsAware', 'setDoubleClickInterval', 'setEffectEnabled', 'setEventDispatcher', 'setFallbackSessionManagementEnabled', 'setFont', 'setGlobalStrut', 'setKeyboardInputInterval', 'setLayoutDirection', 'setLibraryPaths', 'setObjectName', 'setOrganizationDomain', 'setOrganizationName', 'setOverrideCursor', 'setPalette', 'setParent', 'setProperty', 'setQuitLockEnabled', 'setQuitOnLastWindowClosed', 'setSetuidAllowed', 'setStartDragDistance', 'setStartDragTime', 'setStyle', 'setStyleSheet', 'setWheelScrollLines', 'setWindowIcon', 'signalsBlocked', 'startDragDistance', 'startDragTime', 'startTimer', 'startingUp', 'staticMetaObject', 'style', 'styleHints', 'styleSheet', 'sync', 'testAttribute', 'thread', 'timerEvent', 'topLevelAt', 'topLevelWidgets', 'topLevelWindows', 'tr', 'translate', 'wheelScrollLines', 'widgetAt', 'windowIcon']\n",
    "```\n",
    "\n",
    "Si os fijáis, al instanciar `QApplication` le pasamos `sys.argv` como argumento. Esto nos permite recoger los argumentos que pasamos a través de la línea de comandos. En el caso anterior lo único que le hemos pasado a Python es el nombre del programa (`python fichero.py`) y ese sería el único argumento de entrada y que podemos obtener mediante `sys.argv[0]` (`sys.argv` es una lista). \n",
    "\n",
    "`QApplication` puede recibir una serie de argumentos desde la línea de comandos que le permiten definir su estado interno. Algunos ya vienen predefinidos desde C++ ([más información aquí](https://doc.qt.io/qt-5/qapplication.html#QApplication)). De momento nos vale con saber esto y ya veremos más sobre esto (o no) en otras recetas."
   ]
  },
  {
   "cell_type": "markdown",
   "metadata": {},
   "source": [
    "-----------------\n",
    "```python\n",
    "    w = QWidget()\n",
    "    w.resize(500, 300)\n",
    "    w.move(0, 0)\n",
    "    w.setWindowTitle('Hola, Mundo')\n",
    "    w.show()\n",
    "```\n",
    "\n",
    "En el ejemplo creamos una instancia de `QWidget`, que es la ventana que vemos. A `QWidget` le podríamos pasar un objeto padre (un objeto al que pertenecería nuestra instancia `w`, luego veremos más en detalle qué significa esto). Como no le pasamos ningún padre esta será la ventana padre, ventana principal de nuestra aplicación o una ventana *top level window*. La instancia `w` dispone de varios métodos. En este caso usamos:\n",
    "\n",
    "* `resize` para darle un tamaño a la ventana (500 x 300 píxeles), \n",
    "* `move` para colocar la ventana en la posición que queremos de nuestra pantalla (arriba a la izquierda en el ejemplo), \n",
    "* `setWindowTitle` nos permite poner un texto en la barra de arriba de la ventana y, por último, llamamos a \n",
    "* `show` para que se muestre en pantalla ya que hasta ahora solo estaba en memoria."
   ]
  },
  {
   "cell_type": "markdown",
   "metadata": {},
   "source": [
    "------------------\n",
    "```python\n",
    "    sys.exit(app.exec_())\n",
    "```\n",
    "\n",
    "Aquí llamamos al método `exec_` de la instancia de `QApplication`. Notad que el método lleva una barra baja al final para diferenciarlo del `exec` de Python y que no haya conflictos. Cuando llamamos al método `exec_` lo que estamos haciendo es iniciar el bucle de eventos o *event loop*. \n",
    "\n",
    "¿Qué es el bucle de eventos? \n",
    "\n",
    "Digamos que, desde el momento en que llamamos a `app.exec_()`, la aplicación inicia el bucle de eventos y su estado pasa a ser el de esperar/escuchar/estar pendiente de eventos/señales que vengan de la propia aplicación. Estos eventos/señales pueden ser cosas como un click en un botón, un cambio de estado de una celda de una tabla (cuyo *widget* en Qt es un `QTableWidget`), un *timeout* de un temporizador,..., y la reacción del GUI a estos mismos eventos. \n",
    "\n",
    "El bucle de eventos estará 'escuchando' hasta que llamemos al método `exit` de la instancia `app`.\n",
    "\n",
    "¿Por qué llamamos a `app.exec_()` dentro de `sys.exit`? \n",
    "\n",
    "De esta forma nos aseguramos que el proceso finaliza correctamente o, si ha surgido un error, podemos devolver un código de error al sistema."
   ]
  },
  {
   "cell_type": "markdown",
   "metadata": {},
   "source": [
    "## El bucle de eventos en más detalle"
   ]
  },
  {
   "cell_type": "markdown",
   "metadata": {},
   "source": [
    "Voy a dejar un esquema de cómo funciona, grosso modo, el bucle de eventos principal del GUI. Este esquema está adaptado (más bien copiado) del libro de Mark Summerfield [[1](#Referencias)]:\n",
    "\n",
    "![](../imgs/02_02_Esquema_eventloop.png)\n",
    "\n",
    "En la anterior imagen:\n",
    "\n",
    "- [1] indica que llamamos al método `exec_` de la instancia de `QApplication`.\n",
    "- [2] Lo anterior provoca que se inicie el bucle de eventos y que nuestra aplicación se ponga a 'escuchar'. Si no ocurre ningún evento sigue esperando. Pero si ocurre un evento reacciona.\n",
    "- [3] Si el evento NO es llamar al método `exit` de la instancia de `QApplication` lo procesará como corresponda y volverá a [2] a seguir esperando por nuevos eventos.\n",
    "- [4] Si el evento SÍ es llamar al método `exit` de la instancia de `QApplication` entonces cerrará la aplicación y devolverá el mensaje de estátus (normalmente `0` si ha ido todo correctamente)."
   ]
  },
  {
   "cell_type": "markdown",
   "metadata": {},
   "source": [
    "# Recapitulando un poco el ciclo de vida de un GUI"
   ]
  },
  {
   "cell_type": "markdown",
   "metadata": {},
   "source": [
    "- La aplicación será una instancia de `QApplication`.\n",
    "- En el momento que se ha instanciado la aplicación podemos llamar y mostrar nuestras ventanas.\n",
    "- Arrancamos el bucle de eventos (*event loop*) de la ventana principal y Qt empieza a gestionar los eventos relacionados con la aplicación.\n",
    "- Finalizamos la aplicación cuando llamamos al método `exit` de la aplicación o cuando la cerramos, como en el caso del ejemplo, pulsando la 'X' de arriba a la derecha de la ventana o pulsando 'Alt+F4'. El hecho de pulsar es un evento que recibe el *event loop* y reacciona como le hayamos dicho. En este caso, la reacción es llamar al metodo `exit` de forma implícita vía el *widget*."
   ]
  },
  {
   "cell_type": "markdown",
   "metadata": {},
   "source": [
    "# Terminando"
   ]
  },
  {
   "cell_type": "markdown",
   "metadata": {},
   "source": [
    "Esto ya se ha puesto más interesante y hemos visto como crear nuestra primera ventana. Han surgido conceptos nuevos que se han explicado muy brevemente. Muchos de ellos los veremos en los próximos capítulos.\n",
    "\n",
    "Estad atentos al siguiente capítulo."
   ]
  },
  {
   "cell_type": "markdown",
   "metadata": {},
   "source": [
    "# Referencias"
   ]
  },
  {
   "cell_type": "markdown",
   "metadata": {},
   "source": [
    "- Mark Summerfield, 2007: \"Rapid GUI programming with Python and Qt: the definitive guide to PyQt programming\". Prentice Hall."
   ]
  }
 ],
 "metadata": {
  "kernelspec": {
   "display_name": "Python 3",
   "language": "python",
   "name": "python3"
  },
  "language_info": {
   "codemirror_mode": {
    "name": "ipython",
    "version": 3
   },
   "file_extension": ".py",
   "mimetype": "text/x-python",
   "name": "python",
   "nbconvert_exporter": "python",
   "pygments_lexer": "ipython3",
   "version": "3.7.6"
  }
 },
 "nbformat": 4,
 "nbformat_minor": 2
}
