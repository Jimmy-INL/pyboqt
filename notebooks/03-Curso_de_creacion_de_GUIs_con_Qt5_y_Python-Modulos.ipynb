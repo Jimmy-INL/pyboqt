{
 "cells": [
  {
   "cell_type": "markdown",
   "metadata": {},
   "source": [
    "En los anteriores capítulos hemos establecido una base para intentar que los pequeños pasos que demos sean cada vez más firmes en nuestro viaje por el mundo de las aplicaciones de escritorio usando Python y Qt. **En este capítulo describo muy por encima los módulos más importantes que tenemos en Qt**."
   ]
  },
  {
   "cell_type": "markdown",
   "metadata": {},
   "source": [
    "## Índice:\n",
    "\n",
    "* [Instalación de lo que vamos a necesitar](https://pybonacci.org/2019/11/12/curso-de-creacion-de-guis-con-qt-capitulo-00:-instalacion/).\n",
    "* [Qt, versiones y diferencias](https://pybonacci.org/2019/11/21/curso-de-creacion-de-guis-con-qt5-y-python-capitulo-01-qt-versiones-y-bindings/).\n",
    "* [Hola, Mundo](https://pybonacci.org/2019/11/26/curso-de-creacion-de-guis-con-qt5-y-python-capitulo-02-hola-mundo/).\n",
    "* [Módulos en Qt](https://pybonacci.org/2019/12/02/curso-de-creacion-de-guis-con-qt5-y-python-capitulo-03-modulos-qt/) (este capítulo).\n",
    "* [Añadimos icono a la ventana principal](https://pybonacci.org/2019/12/26/curso-de-creacion-de-guis-con-qt5-y-python-capitulo-04-icono-de-la-ventana/).\n",
    "* [Tipos de ventana en un GUI](https://pybonacci.org/2020/01/31/curso-de-creacion-de-guis-con-qt-capitulo-05-ventanas-principales-diferencias/).\n",
    "* [Ventana de inicio – SplashScreen](https://pybonacci.org/2020/02/26/curso-de-creacion-de-guis-con-qt-capitulo-06-splash-screen/).\n",
    "* [Menu principal. Introducción](https://pybonacci.org/2020/03/18/curso-de-creacion-de-guis-con-qt-capitulo-07-menu/).\n",
    "* [Mejorando algunas cosas vistas](https://pybonacci.org/2020/03/26/curso-de-creacion-de-guis-con-qt-capitulo-08-mejorando-lo-visto/).\n",
    "* [Gestión de eventos o Acción y reacción](https://pybonacci.org/2020/03/27/curso-de-creacion-de-guis-con-qt-capitulo-09-signals-y-slots/).\n",
    "* [Introducción a Designer](https://pybonacci.org/2020/04/14/curso-de-creacion-de-guis-con-qt-capitulo-10-introduccion-a-designer/).\n",
    "* [Los Widgets vistos a través de Designer: Primera parte](https://pybonacci.org/2020/05/01/curso-de-creacion-de-guis-con-qt-capitulo-11-widgets-en-designer-i/).\n",
    "* [Los Widgets vistos a través de Designer: Segunda parte](https://pybonacci.org/2020/05/02/curso-de-creacion-de-guis-con-qt-capitulo-12:-widgets-en-designer-(ii)/).\n",
    "* [Los Widgets vistos a través de Designer: Tercera parte](https://pybonacci.org/2020/05/03/curso-de-creacion-de-guis-con-qt-capitulo-13-widgets-en-designer-iii/).\n",
    "* [Los Widgets vistos a través de Designer: Cuarta parte](https://pybonacci.org/2020/05/04/curso-de-creacion-de-guis-con-qt-capitulo-14-widgets-en-designer-iv/).\n",
    "* [Los Widgets vistos a través de Designer: Quinta parte](https://pybonacci.org/2020/05/05/curso-de-creacion-de-guis-con-qt-capitulo-15-widgets-en-designer-v/).\n",
    "* [Los Widgets vistos a través de Designer: Sexta parte](https://pybonacci.org/2020/05/06/curso-de-creacion-de-guis-con-qt-capitulo-16:-widgets-en-designer-(vi)/).\n",
    "* TBD… (lo actualizaré cuando tenga más claro los siguientes pasos)."
   ]
  },
  {
   "cell_type": "markdown",
   "metadata": {},
   "source": [
    "**[Los materiales para este capítulo los podéis descargar de [aquí](https://github.com/kikocorreoso/pyboqt/tree/chapter03)]**"
   ]
  },
  {
   "cell_type": "markdown",
   "metadata": {},
   "source": [
    "**[INSTALACIÓN] Si todavía no has pasado por el [inicio del curso, donde explico cómo poner a punto todo](https://pybonacci.org/2019/11/12/curso-de-creacion-de-guis-con-qt-capitulo-00:-instalacion/), ahora es un buen momento para hacerlo y después podrás seguir con esta nueva receta.**"
   ]
  },
  {
   "cell_type": "markdown",
   "metadata": {},
   "source": [
    "## Módulos"
   ]
  },
  {
   "cell_type": "markdown",
   "metadata": {},
   "source": [
    "Qt dispone de un montón de funcionalidad. Vamos a ver un poco por encima lo más habitual para saber todo lo que podríamos llegar a hacer.\n",
    "\n",
    "- Aquí tenéis [la referencia a PyQt5](https://www.riverbankcomputing.com/static/Docs/PyQt5/module_index.html).\n",
    "- Y aquí tenéis [la referencia a PySide2](https://doc-snapshots.qt.io/qtforpython/modules.html)."
   ]
  },
  {
   "cell_type": "markdown",
   "metadata": {},
   "source": [
    "## QtCore (PyQt5 y PySide2)"
   ]
  },
  {
   "cell_type": "markdown",
   "metadata": {},
   "source": [
    "Contiene todas las clases principales que no están relacionadas directamente con el GUI: contiene la clase base de todos los objetos de Qt (`QObject`), contiene la clase para el bucle de eventos (`QEventLoop`), clases para fechas (`QDate`, `QDateTime`,...), clases abstractas para crear modelos (`QAbstractTableModel`, `QAbstractListModel`),...\n",
    "\n",
    "Ahora mismo todo esto no tiene porque tener mucho sentido para nosotros y no vamos a usar muchas de estas cosas explícitamente pero está bien que tengamos una pequeña noción acerca de dónde vienen algunas cosas."
   ]
  },
  {
   "cell_type": "markdown",
   "metadata": {},
   "source": [
    "# QtWidgets (PyQt5 y PySide2)"
   ]
  },
  {
   "cell_type": "markdown",
   "metadata": {},
   "source": [
    "Contiene clases que se traducen en elementos que permiten añadir a nuestra ventana elementos típicos de aplicaciones de escritorio como botones, deslizadores, *checkboxes*, áreas de texto, tablas,...\n",
    "\n",
    "Este módulo lo usaremos bastante a lo largo del tutorial/curso."
   ]
  },
  {
   "cell_type": "markdown",
   "metadata": {},
   "source": [
    "# QtGui (PyQt5 y PySide2)"
   ]
  },
  {
   "cell_type": "markdown",
   "metadata": {},
   "source": [
    "Contiene clases relacionadas con la integración del sistema de ventanas, texto, gráficos,... Se usan internamente por Qt para poder proporcionarnos los *widgets* (alto nivel) por lo que usando los *widgets* estamos usando estas clases de alguna forma entre bambalinas. Si usamos las clases que provienen de este módulo nos permitirá tener mayor control (más bajo nivel) en algunos contextos.\n",
    "\n",
    "Usaremos algunas de estas cosas pero de forma bastante limitada."
   ]
  },
  {
   "cell_type": "markdown",
   "metadata": {},
   "source": [
    "# Otros módulos disponibles\n",
    "\n",
    "Seguramente veremos poco o nada del resto de módulos pero para que os hagáis una idea dejo algunos de ellos aquí citados. Fijaos que algunos solo están disponibles para PyQt5 o para PySide2. En esos casos se indicará entre paréntesis. También puede ser que cambie el nombre como `QtChart` y `QtCharts`:\n",
    "\n",
    "* `Qt3DAnimation`, `Qt3DCore`, `Qt3DExtras`, `Qt3DInput`, `Qt3DLogic`, `Qt3DRender`: Clases para trabajar con objetos 3D.\n",
    "\n",
    "* `QtBluetooth` (solo PyQt5): Clases para conectividad Bluetooth entre dispositivos.\n",
    "\n",
    "* `QtChart` (PyQt5) / `QtCharts` (PySide2): Clases para la creación de gráficos 2D.\n",
    "\n",
    "* `QtDataVisualization`: Clases para visualizar datos en 3D.\n",
    "\n",
    "* `QtTextToSpeech` (PySide2): Proporciona una API para el acceso a motores de *text-to-speech*.\n",
    "\n",
    "* `QtMultimedia`, `QtMultimediaWidgets`: Clases para contenido multimedia, cámaras y radios.\n",
    "\n",
    "* `QtLocation`: Clases para la creación de aplicaciones de mapas.\n",
    "\n",
    "* `QtPositioning`: Clases para obtener información de posicionamiento a partir de satelite, wifi etc.\n",
    "\n",
    "* `QtSensors`: Clases para acceder a sensores del sistema.\n",
    "\n",
    "* `QtSvg`: Clases para soporte a SVG.\n",
    "\n",
    "* `QtHelp`: Clases para crear y ver documentación con búsqueda.\n",
    "\n",
    "* `QtPrintSupport`: Clases para poder imprimir de forma más simple y portable.\n",
    "\n",
    "* `QtSql`: Clases para la integración con BBDD SQL.\n",
    "\n",
    "* `QtTest`: Soporte para poder realizar *Unit Testing* en aplicaciones GUI.\n",
    "\n",
    "* ..."
   ]
  },
  {
   "cell_type": "markdown",
   "metadata": {},
   "source": [
    "# Resumen"
   ]
  },
  {
   "cell_type": "markdown",
   "metadata": {},
   "source": [
    "Como véis, hay muchísima funcionalidad. Es raro que una sola aplicación vaya a hacer uso de toda la funcionalidad indicada más arriba pero lo que sí que es más o menos seguro es que se usarán los tres primeros módulos que he indicado, `QtCore`, `QtWidgets` y `QtGui`, en casi todos los GUIs que hagamos. Es por ello que nos vamos a centrar, sobre todo, en ellos."
   ]
  },
  {
   "cell_type": "markdown",
   "metadata": {},
   "source": [
    "# Terminando"
   ]
  },
  {
   "cell_type": "markdown",
   "metadata": {},
   "source": [
    "Este capítulo ha sido muy cortito pero es algo que quería comentar y que no tenía sentido mezclar con otros temas mucho más prácticos que vamos a ir tratando.\n",
    "\n",
    "Espero que no os haya sabido a poco y que tengáis ganas de ver el nuevo capítulo."
   ]
  }
 ],
 "metadata": {
  "kernelspec": {
   "display_name": "Python 3",
   "language": "python",
   "name": "python3"
  },
  "language_info": {
   "codemirror_mode": {
    "name": "ipython",
    "version": 3
   },
   "file_extension": ".py",
   "mimetype": "text/x-python",
   "name": "python",
   "nbconvert_exporter": "python",
   "pygments_lexer": "ipython3",
   "version": "3.7.6"
  }
 },
 "nbformat": 4,
 "nbformat_minor": 2
}
