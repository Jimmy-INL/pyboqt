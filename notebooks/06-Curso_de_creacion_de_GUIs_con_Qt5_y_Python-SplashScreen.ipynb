{
 "cells": [
  {
   "cell_type": "markdown",
   "metadata": {},
   "source": [
    "Vamos a seguir evolucionando hacia hacer GUIs cada vez más sofisticados. **En este capítulo describo como crear una pantalla inicial que sale previamente a la carga de la aplicación principal y que permite ir informando sobre como va el proceso de arranque de la misma**."
   ]
  },
  {
   "cell_type": "markdown",
   "metadata": {},
   "source": [
    "Índice:\n",
    "\n",
    "* [Instalación de lo que vamos a necesitar](https://pybonacci.org/2019/11/12/curso-de-creacion-de-guis-con-qt-capitulo-00:-instalacion/).\n",
    "* [Qt, versiones y diferencias](https://pybonacci.org/2019/11/10/curso-de-creacion-de-guis-con-qt-capitulo-01:-qt,-versiones-y-bindings/).\n",
    "* [Hola, Mundo](https://pybonacci.org/2019/11/26/curso-de-creacion-de-guis-con-qt5-y-python-capitulo-02-hola-mundo/).\n",
    "* [Módulos en Qt](https://pybonacci.org/2019/12/02/curso-de-creacion-de-guis-con-qt5-y-python-capitulo-03-modulos-qt/).\n",
    "* [Añadimos icono a la ventana principal](https://pybonacci.org/2019/12/26/curso-de-creacion-de-guis-con-qt5-y-python-capitulo-04-icono-de-la-ventana/).\n",
    "* [Tipos de ventana en un GUI](https://pybonacci.org/2020/01/31/curso-de-creacion-de-guis-con-qt-capitulo-05-ventanas-principales-diferencias/).\n",
    "* [Ventana de inicio – SplashScreen](https://pybonacci.org/2020/02/26/curso-de-creacion-de-guis-con-qt-capitulo-06-splash-screen/). (este capítulo).\n",
    "* [Menu principal. Introducción](https://pybonacci.org/2020/03/18/curso-de-creacion-de-guis-con-qt-capitulo-07-menu/).\n",
    "* [Mejorando algunas cosas vistas](https://pybonacci.org/2020/03/26/curso-de-creacion-de-guis-con-qt-capitulo-08-mejorando-lo-visto/).\n",
    "* [Gestión de eventos o Acción y reacción](https://pybonacci.org/2020/03/27/curso-de-creacion-de-guis-con-qt-capitulo-09-signals-y-slots/).\n",
    "* [Introducción a Designer](https://pybonacci.org/2020/04/14/curso-de-creacion-de-guis-con-qt-capitulo-10-introduccion-a-designer/).\n",
    "* [Los Widgets vistos a través de Designer: Primera parte](https://pybonacci.org/2020/05/01/curso-de-creacion-de-guis-con-qt-capitulo-11-widgets-en-designer-i/).\n",
    "* [Los Widgets vistos a través de Designer: Segunda parte](https://pybonacci.org/2020/05/02/curso-de-creacion-de-guis-con-qt-capitulo-12:-widgets-en-designer-(ii)/).\n",
    "* [Los Widgets vistos a través de Designer: Tercera parte](https://pybonacci.org/2020/05/03/curso-de-creacion-de-guis-con-qt-capitulo-13-widgets-en-designer-iii/).\n",
    "* [Los Widgets vistos a través de Designer: Cuarta parte](https://pybonacci.org/2020/05/04/curso-de-creacion-de-guis-con-qt-capitulo-14-widgets-en-designer-iv/).\n",
    "* [Los Widgets vistos a través de Designer: Quinta parte](https://pybonacci.org/2020/05/05/curso-de-creacion-de-guis-con-qt-capitulo-15-widgets-en-designer-v/).\n",
    "* [Los Widgets vistos a través de Designer: Sexta parte](https://pybonacci.org/2020/05/06/curso-de-creacion-de-guis-con-qt-capitulo-16:-widgets-en-designer-(vi)/).\n",
    "* TBD… (lo actualizaré cuando tenga más claro los siguientes pasos)."
   ]
  },
  {
   "cell_type": "markdown",
   "metadata": {},
   "source": [
    "**[Los materiales para este capítulo los podéis descargar de [aquí](https://github.com/kikocorreoso/pyboqt/tree/chapter06)]**"
   ]
  },
  {
   "cell_type": "markdown",
   "metadata": {},
   "source": [
    "**[INSTALACIÓN] Si todavía no has pasado por el [inicio del curso, donde explico cómo poner a punto todo](https://pybonacci.org/2019/11/12/curso-de-creacion-de-guis-con-qt-capitulo-00:-instalacion/), ahora es un buen momento para hacerlo y después podrás seguir con esta nueva receta.**"
   ]
  },
  {
   "cell_type": "markdown",
   "metadata": {},
   "source": [
    "Habéis visto muchas veces el tipo de ventanitas que vamos a crear hoy. Su nombre en inglés es [*Splash Screen*](https://en.wikipedia.org/wiki/Splash_screen) y en castellano no tengo ni idea de cómo se puede llamar. A continuación os dejo unos cuantos enlaces con ejemplos para que quede claro a lo que nos estamos refiriendo:\n",
    "\n",
    "* [Microsoft Word](https://duckduckgo.com/?q=splashscreen+word&t=lm&iar=images&iax=images&ia=images)\n",
    "\n",
    "* [Adobe Photoshop](https://duckduckgo.com/?q=splashscreen+photoshop&t=lm&iar=images&iax=images&ia=images)\n",
    "\n",
    "* [Inkscape](https://duckduckgo.com/?q=splashscreen+inkscape&t=lm&iar=images&iax=images&ia=images)\n",
    "\n",
    "* [GIMP](https://duckduckgo.com/?q=splashscreen+gimp&t=lm&iar=images&iax=images&ia=images)\n",
    "\n",
    "* [QGIS](https://duckduckgo.com/?q=splashscreen+qgis&t=lm&iar=images&iax=images&ia=images)"
   ]
  },
  {
   "cell_type": "markdown",
   "metadata": {},
   "source": [
    "Esta ventana no es más que una ventana que sale al principio de ejecutar la aplicación y que permite que la aplicación realice una serie de cosas antes de estar funcional. Por ejemplo, imagínate que cuando haces doble click sobre la aplicación X esta tiene que conectarse a una base de datos y cargar una serie de campos antes de que podamos empezar a usarla. Esto puede llevar algún tiempo. Si no avisamos al usuario de que se está cargando después de que haya pulsado el doble click puede acabar pensando que algo va mal y que la aplicación no responde. Para evitar esto se suele mostrar el Splash Screen que puede dar cierta información al usuario de como va el arranque. Este *Splash Screen* es lo primero que se carga antes de que la aplicación principal esté totalmente funcional.\n",
    "\n",
    "Vamos a partir del último código que usamos en el [anterior capítulo]():"
   ]
  },
  {
   "cell_type": "markdown",
   "metadata": {},
   "source": [
    "```python\n",
    "'''\n",
    "Curso de creación de GUIs con Qt5 y Python\n",
    "\n",
    "Author: Kiko Correoso\n",
    "Website: pybonacci.org \n",
    "Licencia: MIT\n",
    "'''\n",
    "\n",
    "import os\n",
    "os.environ['QT_API'] = 'pyside2'\n",
    "import sys\n",
    "from pathlib import Path\n",
    "\n",
    "from qtpy.QtWidgets import QApplication, QMainWindow\n",
    "from qtpy.QtGui import QIcon\n",
    "\n",
    "class MiVentana(QMainWindow):\n",
    "    def __init__(self):\n",
    "        super().__init__()\n",
    "        self._create_ui()\n",
    "    \n",
    "    def _create_ui(self):\n",
    "        self.resize(500, 300)\n",
    "        self.move(0, 0)\n",
    "        self.setWindowTitle('Hola, QMainWindow')\n",
    "        ruta_icono = Path('.', 'imgs', 'pybofractal.png')\n",
    "        self.setWindowIcon(QIcon(str(ruta_icono)))\n",
    "        self.statusBar().showMessage('Ready')\n",
    "        self.show()\n",
    "\n",
    "if __name__ == '__main__':\n",
    "    \n",
    "    app = QApplication(sys.argv)\n",
    "    w = MiVentana()\n",
    "    sys.exit(app.exec_())\n",
    "```"
   ]
  },
  {
   "cell_type": "markdown",
   "metadata": {},
   "source": [
    "## Imagen"
   ]
  },
  {
   "cell_type": "markdown",
   "metadata": {},
   "source": [
    "Podemos usar una imagen para el fondo del *Splash Screen*. Vamos a usar una con licencia permisiva. En este caso voy a usar la que se encuentra en [este enlace](https://upload.wikimedia.org/wikipedia/commons/thumb/c/c1/Six_weeks_old_cat_%28aka%29.jpg/640px-Six_weeks_old_cat_%28aka%29.jpg).\n",
    "\n",
    "La podéis descargar y guardar en una carpeta que se llame *imgs/* con el nombre *splashscreen_background.jpg*. La carpeta debe estar en el mismo sitio donde esté nuestro fichero *.py*.\n",
    "\n",
    "Si habéis descargado el repositorio, simplemente deberéis ir a la carpeta *apps/06-SplashScreen* para ejecutar el programa desde allí."
   ]
  },
  {
   "cell_type": "markdown",
   "metadata": {},
   "source": [
    "Al anterior código le vamos a añadir una serie de cosas que destacaremos, como siempre, usando el comentario `## NUEVA LÍNEA` en cada línea nueva de código y comentaremos más tarde:"
   ]
  },
  {
   "cell_type": "markdown",
   "metadata": {},
   "source": [
    "```python\n",
    "'''\n",
    "Curso de creación de GUIs con Qt5 y Python\n",
    "\n",
    "Author: Kiko Correoso\n",
    "Website: pybonacci.org \n",
    "Licencia: MIT\n",
    "'''\n",
    "\n",
    "import os\n",
    "os.environ['QT_API'] = 'pyside2'\n",
    "import sys\n",
    "from pathlib import Path\n",
    "import time ## NUEVA LÍNEA\n",
    "\n",
    "from qtpy.QtCore import Qt ## NUEVA LÍNEA\n",
    "from qtpy.QtWidgets import QApplication, QMainWindow, QSplashScreen ## NUEVA LÍNEA\n",
    "from qtpy.QtGui import QIcon, QPixmap ## NUEVA LÍNEA\n",
    "\n",
    "class MiVentana(QMainWindow):\n",
    "    def __init__(self):\n",
    "        super().__init__()\n",
    "        self._create_ui()\n",
    "\n",
    "    def _create_ui(self):\n",
    "        self.resize(500, 300)\n",
    "        self.move(0, 0)\n",
    "        self.setWindowTitle('Hola, QMainWindow')\n",
    "        ruta_icono = Path('.', 'imgs', 'pybofractal.png')\n",
    "        self.setWindowIcon(QIcon(str(ruta_icono)))\n",
    "        self.statusBar().showMessage('Ready')\n",
    "        self.show()\n",
    "\n",
    "if __name__ == '__main__':\n",
    "\n",
    "    app = QApplication(sys.argv)\n",
    "\t\n",
    "    # Crea y muestra el splash screen\n",
    "    path = Path('imgs', 'splashscreen_background.jpg') ## NUEVA LÍNEA\n",
    "    splash_pix = QPixmap(str(path)) ## NUEVA LÍNEA\n",
    "    splash = QSplashScreen( ## NUEVA LÍNEA\n",
    "        splash_pix, ## NUEVA LÍNEA\n",
    "        Qt.WindowStaysOnTopHint ## NUEVA LÍNEA\n",
    "    ) ## NUEVA LÍNEA\n",
    "    splash.setEnabled(False) ## NUEVA LÍNEA\n",
    "    splash.show() ## NUEVA LÍNEA\n",
    "    \n",
    "    # Esto es un simple contador/temporizador para mostrar en pantalla\n",
    "    # el splash screen. En el futuro haremos que esto sea más útil.\n",
    "    for i in range(0, 5): ## NUEVA LÍNEA\n",
    "        msg = ( ## NUEVA LÍNEA\n",
    "            '<h1><font color=\"yellow\">' ## NUEVA LÍNEA\n",
    "            f'Listo en {5-i}s' ## NUEVA LÍNEA\n",
    "            '</font></h1>' ## NUEVA LÍNEA\n",
    "        ) ## NUEVA LÍNEA\n",
    "        splash.showMessage( ## NUEVA LÍNEA\n",
    "            msg, ## NUEVA LÍNEA\n",
    "            int(Qt.AlignBottom) | int(Qt.AlignHCenter),  ## NUEVA LÍNEA\n",
    "            Qt.black  ## NUEVA LÍNEA\n",
    "        ) ## NUEVA LÍNEA\n",
    "        time.sleep(1) ## NUEVA LÍNEA\n",
    "        app.processEvents() ## NUEVA LÍNEA\n",
    "\n",
    "    w = MiVentana()\n",
    "    splash.finish(w) ## NUEVA LÍNEA\n",
    "    sys.exit(app.exec_())\n",
    "```"
   ]
  },
  {
   "cell_type": "markdown",
   "metadata": {},
   "source": [
    "Muchos `## NUEVA LÍNEA`. Explico un poco el código nuevo y luego vemos cómo hacerlo funcionar."
   ]
  },
  {
   "cell_type": "markdown",
   "metadata": {},
   "source": [
    "----------------------\n",
    "```python\n",
    "from qtpy.QtCore import Qt\n",
    "```\n",
    "\n",
    "`Qt` es un [espacio de nombres con información útil que Qt (el framework)](https://doc.qt.io/qt-5/qt.html) usa internamente en todo su código. Luevo vemos lo que usamos de este espacio de nombres."
   ]
  },
  {
   "cell_type": "markdown",
   "metadata": {},
   "source": [
    "----------------------\n",
    "```python\n",
    "from qtpy.QtWidgets import QApplication, QMainWindow, QSplashScreen\n",
    "```\n",
    "\n",
    "Importamos la [clase `QSplashScreen`](https://doc.qt.io/qtforpython/PySide2/QtWidgets/QSplashScreen.html). Esta clase no es más que una nueva clase que, nuevamente, hereda de `QWidget`, como `QMainWindow`, y que tiene alguna nueva funcionalidad para que creemos la *Splash Screen* para nuestra aplicación."
   ]
  },
  {
   "cell_type": "markdown",
   "metadata": {},
   "source": [
    "----------------------\n",
    "```python\n",
    "from qtpy.QtGui import QIcon, QPixmap\n",
    "```\n",
    "\n",
    "Importamos la clase `QPixmap`. La usamos únicamente para añadir un mapa de píxeles (nuestra imagen) a la ventana del *Splash Screen*. Luego vemos cómo la estamos usando."
   ]
  },
  {
   "cell_type": "markdown",
   "metadata": {},
   "source": [
    "----------------------\n",
    "```python\n",
    "    # Crea y muestra el splash screen\n",
    "    path = Path('imgs', 'splashscreen_background.jpg')\n",
    "    splash_pix = QPixmap(str(path))\n",
    "    splash = QSplashScreen(splash_pix, Qt.WindowStaysOnTopHint)\n",
    "    splash.setEnabled(False)\n",
    "    splash.show()\n",
    "```\n",
    "\n",
    "En esta parte ya hacemos uso de algunas de las nuevas cosas que hemos importado:\n",
    "\n",
    "* `path` simplemente guarda la ruta a la imagen que vamos a usar de fondo. Esto no es código relacionado con Qt en sí.\n",
    "* `splash_pix` es una instancia de `QPixmap`. Nos guarda la imagen en una forma que entiende Qt.\n",
    "* `splash` es la instancia de `QSplashScreen`. Recibe la imagen en la forma en que la entiende Qt, `splash_pix`, y, además, le pasamos una marca o *flag*, `Qt.WindowStaysOnTopHint`, que le indica que debe permanecer delante del resto de ventanas en el escritorio.\n",
    "* `splash.setEnabled(False)` nos permite decirle al programa que no esté activo a eventos que le podamos pasar, como un click, ya que podemos tener algún efecto indeseado.\n",
    "* `splash.show()`, mediante este método mostramos el *Splash Screen* en pantalla."
   ]
  },
  {
   "cell_type": "markdown",
   "metadata": {},
   "source": [
    "Nuestro *Splash Screen* estará en pantalla hasta que le digamos. Para que se vea un rato voy a usar un temporizador y vamos a actualizad los mensajes que muestra la pantalla."
   ]
  },
  {
   "cell_type": "markdown",
   "metadata": {},
   "source": [
    "----------------------\n",
    "```python\n",
    "    # Esto es un simple contador/temporizador para mostrar en pantalla\n",
    "    # el splash screen. En el futuro haremos que esto sea más útil.\n",
    "    for i in range(0, 5):\n",
    "        msg = f'<h1><font color=\"yellow\">Listo en {5 - i} s</font></h1>'\n",
    "        splash.showMessage(msg,\n",
    "                           int(Qt.AlignBottom) | int(Qt.AlignHCenter),\n",
    "                           Qt.black)\n",
    "        time.sleep(1)\n",
    "        app.processEvents()\n",
    "```\n",
    "\n",
    "Aquí vamos a actualizar el mensaje que muestra el *Splash Screen* en pantalla. La clase `QSplashScreen` dispone de [varios métodos](https://doc.qt.io/qtforpython/PySide2/QtWidgets/QSplashScreen.html#slots) para mostrar información en la pantalla. Podríamos añadir una barra de progreso, leer del programa a medida que va cargando cosas,..., pero lo vamos a mantener simple ahora usando un temporizador\n",
    "\n",
    "Hacemos un bucle que vaya de 0 a 4 porque contaremos una serie de segundos. Dentro de este bucle:\n",
    "\n",
    "* Creamos el mensaje que queremos monstrar guardado en `msg`. Como veis, uso HTML ya que está permitido.\n",
    "* Usamos el método `showMessage` de la clase `QSplashScreen` para escribir el mensaje en la ventanita de bienvenida/Carga inicial. Le pasamos el mensaje, la posición del mensaje ((\\*) `int(Qt.AlignBottom) | int(Qt.AlignHCenter)`) y el color (`Qt.black`). En este caso, el color no tendrá efecto porque estamos pasando un código HTML y se hace caso al código HTML.\n",
    "* Dejamos que la aplicación duerma 1 segundo usando `time.sleep`.\n",
    "* Llamamos al [método `processEvents`](https://doc.qt.io/qt-5/qcoreapplication.html#processEvents) de la clase `QApplication` que nos permite ir procesando cosas que puedan estar pendientes antes de poder continuar. En este caso no estamos haciendo nada especial pero no hace daño meterlo."
   ]
  },
  {
   "cell_type": "markdown",
   "metadata": {},
   "source": [
    "Del bloque que acabamos de comentar vamos a hacer varias variaciones para que podáis ver en vivo como afectan estas variaciones. Por ejemplo, con el tema del color en el mensaje, podéis eliminar el código HTML y pasarle el color blanco, por ejemplo, para que véais cómo se verá ahora el mensaje:\n",
    "\n",
    "````python\n",
    "        # ...\n",
    "        msg = f'Listo en {5 - i} s'\n",
    "        splash.showMessage(msg,\n",
    "                           int(Qt.AlignBottom) | int(Qt.AlignHCenter),\n",
    "                           Qt.white)\n",
    "        # ...\n",
    "```"
   ]
  },
  {
   "cell_type": "markdown",
   "metadata": {},
   "source": [
    "Por otra parte, había dejado un asterisco (\\*) al lado de `int(Qt.AlignBottom) | int(Qt.AlignHCenter)` para ver si puedo explicar un poco mejor lo que hace eso. Ahí estamos definiendo la alineación del mensaje en la pantalla. Estamos usando el operador *bitwise or*, `|`, y el espacio de nombres de `Qt`. En ese espacio de nombres se definen [varias posiciones](https://doc.qt.io/qt-5/qt.html#AlignmentFlag-enum) como `AlignLeft`, `AlignTop`,... Mediante combinaciones de ellas podemos posicionar el mensaje donde nos interese. Qt recibirá un entero y sabrá que ese entero significará, por ejemplo, arriba a la derecha, centrado en medio,...\n",
    "\n",
    "Por ejemplo, según la documentación:\n",
    "\n",
    "* `AlignLeft` tiene el valor `0x0001` que en binario será 00000001.\n",
    "* `AlignVCenter` tiene el valor `0x0080` que en binario será 10000000.\n",
    "\n",
    "Si queremos que salga alineado a la izquierda y centrado en altura podemos combinar ambas con el operador `|` y nos devolverá, en binario, 10000001, que en decimal será 129. \n",
    "\n",
    "Usando los valores del espacio de nombres será más sencillo que tener que aprender todos estos números y sabiendo que los podemos combinar como he indicado podemos llegar a tener un gran control sobre lo que queremos mostrar."
   ]
  },
  {
   "cell_type": "markdown",
   "metadata": {},
   "source": [
    "Después de este breve inciso podéis cambiar el valor `int(Qt.AlignBottom) | int(Qt.AlignHCenter)` por los siguientes valores para ver el efecto de todo esto:\n",
    "\n",
    "* `int(Qt.AlignCenter)`\n",
    "* `int(Qt.AlignRight) | int(Qt.AlignTop)`\n",
    "* `int(Qt.Alignleft) | int(Qt.AlignBottom)`\n",
    "* ..."
   ]
  },
  {
   "cell_type": "markdown",
   "metadata": {},
   "source": [
    "Sigo comentando el código que nos queda una última línea nueva:"
   ]
  },
  {
   "cell_type": "markdown",
   "metadata": {},
   "source": [
    "----------------------\n",
    "```python\n",
    "    splash.finish(w)\n",
    "```\n",
    "\n",
    "En esta línea usamos el [método `finish`](https://doc.qt.io/qtforpython/PySide2/QtWidgets/QSplashScreen.html#PySide2.QtWidgets.PySide2.QtWidgets.QSplashScreen.finish) de `QSplashScreen` para que se cierre la ventana de inicio en el momento que la ventana principal, `w`, esté lista."
   ]
  },
  {
   "cell_type": "markdown",
   "metadata": {},
   "source": [
    "Si guardáis el código que hemos comentado en un programa que se llame *main00.py* y en la misma carpeta donde está este programa tenéis una carpeta *imgs/* con la imagen llamada *splashscreen_background.jpg* lo podréis ejecutar usando la línea de comandos (o Anaconda Prompt en Windows) de la siguiente forma:"
   ]
  },
  {
   "cell_type": "markdown",
   "metadata": {},
   "source": [
    "```python\n",
    "python main00.py\n",
    "```"
   ]
  },
  {
   "cell_type": "markdown",
   "metadata": {},
   "source": [
    "Si todo funciona correctamente, deberéis de ver una ventanita parecida a la siguiente:\n",
    "\n",
    "![](../imgs/06_01_splashscreen.png)"
   ]
  },
  {
   "cell_type": "markdown",
   "metadata": {},
   "source": [
    "Si cambiáis el mensaje para que no use HTML y use el color blanco, como hemos comentado más arriba, se debería ver así (se ve muy pequeñito abajo):\n",
    "\n",
    "![](../imgs/06_02_splashscreen.png)"
   ]
  },
  {
   "cell_type": "markdown",
   "metadata": {},
   "source": [
    "Si cambiáis la alineación podéis hacer que el mensaje aparezca en otros lados. Un ejemplo con el mensaje abajo a la izquierda se debería ver así:\n",
    "\n",
    "![](../imgs/06_03_splashscreen.png)"
   ]
  },
  {
   "cell_type": "markdown",
   "metadata": {},
   "source": [
    "Y aquí lo dejamos hoy. En el próximo capítulo seguiremos añadiendo cosas a nuestra *GUI*."
   ]
  }
 ],
 "metadata": {
  "kernelspec": {
   "display_name": "Python 3",
   "language": "python",
   "name": "python3"
  },
  "language_info": {
   "codemirror_mode": {
    "name": "ipython",
    "version": 3
   },
   "file_extension": ".py",
   "mimetype": "text/x-python",
   "name": "python",
   "nbconvert_exporter": "python",
   "pygments_lexer": "ipython3",
   "version": "3.7.6"
  }
 },
 "nbformat": 4,
 "nbformat_minor": 2
}
