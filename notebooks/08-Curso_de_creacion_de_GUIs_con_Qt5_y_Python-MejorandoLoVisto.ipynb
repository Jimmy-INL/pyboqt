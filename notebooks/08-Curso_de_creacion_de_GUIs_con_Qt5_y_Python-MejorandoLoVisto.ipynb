{
 "cells": [
  {
   "cell_type": "markdown",
   "metadata": {},
   "source": [
    "**[Este artículo viene de una revisión de lujo que ha hecho [Cristián Maureira-Fredes](https://maureira.xyz/) de los capítulos anteriores. Cristián trabaja como ingeniero de software en el proyecto [Qt for Python](https://wiki.qt.io/Qt_for_Python) dentro de [The Qt Company](https://qt.io/). Este artículo lo escribo yo pero a partir de las sugerencias de Cristián por lo que, en este caso, soy un mero intermediario y el autor podría ser él. Gracias, Cristián].**"
   ]
  },
  {
   "cell_type": "markdown",
   "metadata": {},
   "source": [
    "Hasta ahora hemos estado viendos cosas sencillas. Algunas no eran del todo correctas o son mejorables. **En este capítulo describo cómo mejorar algunas de las cosas que hemos venido haciendo hasta ahora**."
   ]
  },
  {
   "cell_type": "markdown",
   "metadata": {},
   "source": [
    "Índice:\n",
    "\n",
    "* [Instalación de lo que vamos a necesitar](https://pybonacci.org/2019/11/12/curso-de-creacion-de-guis-con-qt5-y-python-capitulo-00-instalacion/).\n",
    "* [Qt, versiones y diferencias](https://pybonacci.org/2019/11/21/curso-de-creacion-de-guis-con-qt5-y-python-capitulo-01-qt-versiones-y-bindings/).\n",
    "* [Hola, Mundo](https://pybonacci.org/2019/11/26/curso-de-creacion-de-guis-con-qt5-y-python-capitulo-02-hola-mundo/).\n",
    "* [Módulos en Qt](https://pybonacci.org/2019/12/02/curso-de-creacion-de-guis-con-qt5-y-python-capitulo-03-modulos-qt/).\n",
    "* [Añadimos icono a la ventana principal](https://pybonacci.org/2019/12/26/curso-de-creacion-de-guis-con-qt5-y-python-capitulo-04-icono-de-la-ventana/).\n",
    "* [Tipos de ventana en un GUI](https://pybonacci.org/2020/01/31/curso-de-creacion-de-guis-con-qt-capitulo-05-ventanas-principales-diferencias/).\n",
    "* [Ventana inicial de carga o Splashscreen](https://pybonacci.org/2020/02/26/curso-de-creacion-de-guis-con-qt-capitulo-06-splash-screen/)\n",
    "* [Menu principal. Introducción](https://pybonacci.org/2020/03/18/curso-de-creacion-de-guis-con-qt-capitulo-07-menu/).\n",
    "* [Mejorando algunas cosas vistas]() (este capítulo).\n",
    "* TBD… (lo actualizaré cuando tenga más claro los siguientes pasos)."
   ]
  },
  {
   "cell_type": "markdown",
   "metadata": {},
   "source": [
    "**[Los materiales para este capítulo los podéis descargar de [aquí](https://github.com/kikocorreoso/pyboqt/tree/chapter08)]**"
   ]
  },
  {
   "cell_type": "markdown",
   "metadata": {},
   "source": [
    "**[INSTALACIÓN] Si todavía no has pasado por el [inicio del curso, donde explico cómo poner a punto todo](https://pybonacci.org/2019/11/12/curso-de-creacion-de-guis-con-qt5-y-python-capitulo-00-instalacion/), ahora es un buen momento para hacerlo y después podrás seguir con esta nueva receta.**"
   ]
  },
  {
   "cell_type": "markdown",
   "metadata": {},
   "source": [
    "Partimos del siguiente código:"
   ]
  },
  {
   "cell_type": "markdown",
   "metadata": {},
   "source": [
    "````python\n",
    "'''\n",
    "Curso de creación de GUIs con Qt5 y Python\n",
    "\n",
    "Author: Kiko Correoso\n",
    "Website: pybonacci.org \n",
    "Licencia: MIT\n",
    "'''\n",
    "\n",
    "import os\n",
    "os.environ['QT_API'] = 'pyside2'\n",
    "import sys\n",
    "from pathlib import Path\n",
    "\n",
    "from qtpy.QtWidgets import QApplication, QMainWindow\n",
    "from qtpy.QtGui import QIcon\n",
    "\n",
    "\n",
    "class MiVentana(QMainWindow):\n",
    "    def __init__(self):\n",
    "        super().__init__()\n",
    "        self._create_ui()\n",
    "    \n",
    "    def _create_ui(self):\n",
    "        self.resize(500, 300)\n",
    "        self.move(0, 0)\n",
    "        self.setWindowTitle('Hola, QMainWindow')\n",
    "        ruta_icono = Path('.', 'imgs', 'pybofractal.png')\n",
    "        self.setWindowIcon(QIcon(str(ruta_icono)))\n",
    "        self.statusBar().showMessage('Ready')\n",
    "        self._create_menu()\n",
    "        self.show()\n",
    "\n",
    "        \n",
    "if __name__ == '__main__':\n",
    "    \n",
    "    app = QApplication(sys.argv)\n",
    "    w = MiVentana()\n",
    "    sys.exit(app.exec_())\n",
    "```"
   ]
  },
  {
   "cell_type": "markdown",
   "metadata": {},
   "source": [
    "Y, por hoy, creo que ya es suficiente. \n",
    "\n",
    "Como resumen. Hemos creado menús, submenús, añadido atajos de teclado,... Pero, de momento, no sabemos como interactuar con el GUI, es decir, no nos podemos comunicar con el mismo para que haga cosas. Eso será el objeto del próximo capítulo."
   ]
  }
 ],
 "metadata": {
  "kernelspec": {
   "display_name": "Python 3",
   "language": "python",
   "name": "python3"
  },
  "language_info": {
   "codemirror_mode": {
    "name": "ipython",
    "version": 3
   },
   "file_extension": ".py",
   "mimetype": "text/x-python",
   "name": "python",
   "nbconvert_exporter": "python",
   "pygments_lexer": "ipython3",
   "version": "3.7.6"
  }
 },
 "nbformat": 4,
 "nbformat_minor": 2
}
