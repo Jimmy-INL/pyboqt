{
 "cells": [
  {
   "cell_type": "markdown",
   "metadata": {},
   "source": [
    "**[Nuevamente, para este artículo he contado con la colaboración de [Cristián Maureira-Fredes](https://maureira.xyz/) que ha revisado todo y me ha dado una serie de correcciones y mejoras que hacen que el capítulo esté bastante mejor que el original. Cristián trabaja como ingeniero de software en el proyecto [Qt for Python](https://wiki.qt.io/Qt_for_Python) dentro de [The Qt Company](https://qt.io/)]**"
   ]
  },
  {
   "cell_type": "markdown",
   "metadata": {},
   "source": [
    "Lo interesante de los GUIs es que podamos hablarle a la computadora de una forma amigable y para poder establecer esta comunicación es necesario que cuando nosotros hagamos algo la aplicación responda de alguna forma. **En este capítulo voy a dar un repaso al sistema de gestión de eventos en Qt5 que se conoce como *Signals/Slots* y que podemos ver como los conjuntos de acciones y las posibles reacciones que desencadenarán estas acciones**."
   ]
  },
  {
   "cell_type": "markdown",
   "metadata": {},
   "source": [
    "Índice:\n",
    "\n",
    "* [Instalación de lo que vamos a necesitar](https://pybonacci.org/2019/11/12/curso-de-creacion-de-guis-con-qt5-y-python-capitulo-00-instalacion/).\n",
    "* [Qt, versiones y diferencias](https://pybonacci.org/2019/11/21/curso-de-creacion-de-guis-con-qt5-y-python-capitulo-01-qt-versiones-y-bindings/).\n",
    "* [Hola, Mundo](https://pybonacci.org/2019/11/26/curso-de-creacion-de-guis-con-qt5-y-python-capitulo-02-hola-mundo/).\n",
    "* [Módulos en Qt](https://pybonacci.org/2019/12/02/curso-de-creacion-de-guis-con-qt5-y-python-capitulo-03-modulos-qt/).\n",
    "* [Añadimos icono a la ventana principal](https://pybonacci.org/2019/12/26/curso-de-creacion-de-guis-con-qt5-y-python-capitulo-04-icono-de-la-ventana/).\n",
    "* [Tipos de ventana en un GUI](https://pybonacci.org/2020/01/31/curso-de-creacion-de-guis-con-qt-capitulo-05-ventanas-principales-diferencias/).\n",
    "* [Ventana inicial de carga o Splashscreen](https://pybonacci.org/2020/02/26/curso-de-creacion-de-guis-con-qt-capitulo-06-splash-screen/)\n",
    "* [Menu principal. Introducción](https://pybonacci.org/2020/03/18/curso-de-creacion-de-guis-con-qt-capitulo-07-menu/).\n",
    "* [Mejorando algunas cosas vistas](https://pybonacci.org/2020/03/26/curso-de-creacion-de-guis-con-qt-capitulo-08-mejorando-lo-visto/).\n",
    "* [Gestión de eventos o Acción y reacción](https://pybonacci.org/2020/03/27/curso-de-creacion-de-guis-con-qt-capitulo-09-signals-y-slots/) (este capítulo).\n",
    "* [Introducción a Designer](https://pybonacci.org/2020/04/14/curso-de-creacion-de-guis-con-qt-capitulo-10-introduccion-a-designer/).\n",
    "* [Los Widgets vistos a través de Designer: Primera parte](https://pybonacci.org/2020/05/01/curso-de-creacion-de-guis-con-qt-capitulo-11-widgets-en-designer-i/).\n",
    "* [Los Widgets vistos a través de Designer: Segunda parte](https://pybonacci.org/2020/05/02/curso-de-creacion-de-guis-con-qt-capitulo-12:-widgets-en-designer-(ii)/).\n",
    "* [Los Widgets vistos a través de Designer: Tercera parte](https://pybonacci.org/2020/05/03/curso-de-creacion-de-guis-con-qt-capitulo-13-widgets-en-designer-iii/).\n",
    "* [Los Widgets vistos a través de Designer: Cuarta parte](https://pybonacci.org/2020/05/04/curso-de-creacion-de-guis-con-qt-capitulo-14-widgets-en-designer-iv/).\n",
    "* [Los Widgets vistos a través de Designer: Quinta parte](https://pybonacci.org/2020/05/05/curso-de-creacion-de-guis-con-qt-capitulo-15-widgets-en-designer-v/).\n",
    "* [Los Widgets vistos a través de Designer: Sexta parte](https://pybonacci.org/2020/05/06/curso-de-creacion-de-guis-con-qt-capitulo-16:-widgets-en-designer-(vi)/).\n",
    "* TBD… (lo actualizaré cuando tenga más claro los siguientes pasos)."
   ]
  },
  {
   "cell_type": "markdown",
   "metadata": {},
   "source": [
    "**[Los materiales para este capítulo los podéis descargar de [aquí](https://github.com/kikocorreoso/pyboqt/tree/chapter09)]**"
   ]
  },
  {
   "cell_type": "markdown",
   "metadata": {},
   "source": [
    "**[INSTALACIÓN] Si todavía no has pasado por el [inicio del curso, donde explico cómo poner a punto todo](https://pybonacci.org/2019/11/12/curso-de-creacion-de-guis-con-qt-capitulo-00:-instalacion/), ahora es un buen momento para hacerlo y después podrás seguir con esta nueva receta.**"
   ]
  },
  {
   "cell_type": "markdown",
   "metadata": {},
   "source": [
    "Vamos a empezar a definir un poco qué es todo esto de la gestión de eventos para centrarnos y luego ya toquetearemos algo de código. Sin pretender ser muy estrictos:\n",
    "\n",
    "* Sucede algo: pulsamos sobre algún botón del ratón, ponemos el puntero del ratón sobre algún elemento, presionamos determinada tecla, emitimos un sonido,...). Esto sería un evento que emite una señal (*Signal*) o una acción.\n",
    "\n",
    "* Al ocurrir alguna acción, como las descritas antes, se puede desencadenar una o más reacciones (o no, como ha venido pasando principalmente hasta ahora). \n",
    "\n",
    "En el framework Qt, todo esto se conoce como el [mecanismo de *Signals* y *Slots*](https://doc.qt.io/qt-5/signalsandslots.html) y es la forma de comunicación entre objetos en Qt:\n",
    "\n",
    "> Se emite una señal, *signal*, cuando ocurre un evento específico. Los widgets de Qt vienen con muchas señales predefinidas. Por otro lado, un *slot* es una función o método (o clase, cualquier cosa que defina `__call__`) que se ejecutará como respuesta a una señal en particular. Al igual que con las señales, los widgets de Qt pueden tener *slots* predefinidos. Lo normal es que creemos subclases y reescribamos las señales y *slots* de los widgets para que se ajusten mejor a lo que necesitamos que hagan."
   ]
  },
  {
   "cell_type": "markdown",
   "metadata": {},
   "source": [
    "Vamos a usar un código muy simple para ver como funciona todo esto. Lo escribo y lo comento más abajo. El código está adaptado de [este ejemplo en la página de *Qt for python*](https://doc.qt.io/qtforpython/tutorials/basictutorial/clickablebutton.html):"
   ]
  },
  {
   "cell_type": "markdown",
   "metadata": {},
   "source": [
    "```python\n",
    "'''\n",
    "Curso de creación de GUIs con Qt5 y Python\n",
    "\n",
    "Author: Kiko Correoso\n",
    "Website: pybonacci.org \n",
    "Licencia: MIT\n",
    "'''\n",
    "\n",
    "import os\n",
    "os.environ['QT_API'] = 'pyside2'\n",
    "import sys\n",
    "\n",
    "from qtpy.QtWidgets import QApplication, QPushButton\n",
    "from qtpy.QtCore import Slot\n",
    "\n",
    "@Slot()\n",
    "def say_hello():\n",
    " print(\"Button pulsado, ¡Hola!\")\n",
    "\n",
    "if __name__ == '__main__':\n",
    "    \n",
    "    app = QApplication(sys.argv)\n",
    "    boton = QPushButton(\"Pulsa\")\n",
    "    boton.clicked.connect(say_hello)\n",
    "    boton.show()\n",
    "    sys.exit(app.exec_())\n",
    "```"
   ]
  },
  {
   "cell_type": "markdown",
   "metadata": {},
   "source": [
    "El anterior ejemplo no usa una ventana principal. Solo usa un *Widget* de botón que podemos pulsar (más sobre esto en próximas entregas, ahora un *Widget* solo es una pieza de Lego). Es un ejemplo mínimo para ver como funciona el mecanismo *Signal-Slot*. Como comento, la aplicación consiste de un único botón. La parte interesante aquí es la siguiente:"
   ]
  },
  {
   "cell_type": "markdown",
   "metadata": {},
   "source": [
    "-------------"
   ]
  },
  {
   "cell_type": "markdown",
   "metadata": {},
   "source": [
    "```python\n",
    "    boton.clicked.connect(say_hello)\n",
    "```"
   ]
  },
  {
   "cell_type": "markdown",
   "metadata": {},
   "source": [
    "Lo que estamos haciendo es conectar un objeto a un *Slot* que se llama `say_hello` que se 'desencaderá' cuando exista una señal (*Signal*), en este caso la señal de pulsar el botón, `clicked`."
   ]
  },
  {
   "cell_type": "markdown",
   "metadata": {},
   "source": [
    "----------------"
   ]
  },
  {
   "cell_type": "markdown",
   "metadata": {},
   "source": [
    "El *Slot*, en este caso, es algo muy simple que muestra en pantalla un texto (usando un simple `print`):\n",
    "\n",
    "```python\n",
    "@Slot()\n",
    "def say_hello():\n",
    "    print(\"Button pulsado, ¡Hola!\")\n",
    "```"
   ]
  },
  {
   "cell_type": "markdown",
   "metadata": {},
   "source": [
    "Si guardamos el anterior código en un fichero que se llame *main_00.py* y lo ejecutamos de la siguiente forma desde la carpeta donde has guardado el fichero:\n",
    "\n",
    "```python\n",
    "python main00.py\n",
    "```\n",
    "\n",
    "Veríamos algo que tendría esta pinta:\n",
    "\n",
    "![](../imgs/09_01_signalslot.gif)"
   ]
  },
  {
   "cell_type": "markdown",
   "metadata": {},
   "source": [
    "El ejemplo anterior es algo muy rápido para ver como funciona el mecanismo *Signal-Slot*. Un objeto emite una señal que llama a un *Slot* y este responde. Vamos a seguir viendo ejemplos sobre esto."
   ]
  },
  {
   "cell_type": "markdown",
   "metadata": {},
   "source": [
    "## *Signals* y *Slots* predefinidos"
   ]
  },
  {
   "cell_type": "markdown",
   "metadata": {},
   "source": [
    "Partimos, ahora, de un código que dejamos en el [capítulo 7](https://pybonacci.org/2020/03/18/curso-de-creacion-de-guis-con-qt-capitulo-07-menu/) y mejorado con lo que vimos en el [capítulo 8](https://pybonacci.org/2020/03/26/curso-de-creacion-de-guis-con-qt-capitulo-08-mejorando-lo-visto/) (quitamos los submenús que, de momento, no los vamos a usar):"
   ]
  },
  {
   "cell_type": "markdown",
   "metadata": {},
   "source": [
    "```python\n",
    "'''\n",
    "Curso de creación de GUIs con Qt5 y Python\n",
    "\n",
    "Author: Kiko Correoso\n",
    "Website: pybonacci.org \n",
    "Licencia: MIT\n",
    "'''\n",
    "\n",
    "import os\n",
    "os.environ['QT_API'] = 'pyside2'\n",
    "import sys\n",
    "from pathlib import Path\n",
    "\n",
    "from qtpy.QtWidgets import QApplication, QMainWindow, QAction\n",
    "from qtpy.QtGui import QIcon\n",
    "import qtawesome as qta\n",
    "\n",
    "\n",
    "class MiVentana(QMainWindow):\n",
    "    def __init__(self, parent=None):\n",
    "        QMainWindow.__init__(self, parent)\n",
    "        self._create_ui()\n",
    "\n",
    "    def _create_ui(self):\n",
    "        self.resize(500, 300)\n",
    "        self.move(0, 0)\n",
    "        self.setWindowTitle('Hola, QMainWindow')\n",
    "        ruta_icono = Path('.', 'imgs', 'pybofractal.png')\n",
    "        self.setWindowIcon(QIcon(str(ruta_icono)))\n",
    "        self.statusBar().showMessage('Ready')\n",
    "        self._create_menu()\n",
    "\n",
    "    def _create_menu(self):        \n",
    "        menubar = self.menuBar()\n",
    "        # File menu and its QAction's\n",
    "        file_menu = menubar.addMenu('&File')\n",
    "        exit_action = QAction(qta.icon('fa5.times-circle'),\n",
    "                              '&Exit',\n",
    "                              self)\n",
    "        exit_action.setShortcut('Ctrl+Q')\n",
    "        exit_action.setStatusTip('Exit application')\n",
    "        file_menu.addAction(exit_action)\n",
    "        # Help menu and its QAction's\n",
    "        help_menu = menubar.addMenu('&Help')\n",
    "        about_action = QAction(qta.icon('fa5s.info-circle'),\n",
    "                               '&Exit',\n",
    "                               self)\n",
    "        about_action.setShortcut('Ctrl+I')\n",
    "        about_action.setStatusTip('About...')\n",
    "        help_menu.addAction(about_action)\n",
    "\n",
    "if __name__ == '__main__':\n",
    "\n",
    "    app = QApplication(sys.argv)\n",
    "    w = MiVentana()\n",
    "    w.show()\n",
    "    sys.exit(app.exec_())\n",
    "```"
   ]
  },
  {
   "cell_type": "markdown",
   "metadata": {},
   "source": [
    "Lo anterior tenía esta pinta:\n",
    "\n",
    "![](../imgs/07_01_menu.png)"
   ]
  },
  {
   "cell_type": "markdown",
   "metadata": {},
   "source": [
    "En la anterior aplicación, muy simple y que no hace gran cosa, ya estamos usando una serie de Widgets, `QMainWindow`, `QMenuBar`, `QStatusBar`,... Como he comentado anteriormente, todavía no me he metido a explicar en detalle lo que es un Widget. Eso vendrá más adelante. De momento, lo podemos seguir viendo como pequeñas piezas de lego que nos ayudan a construir algo. Estos Widgets ya existentes y que estamos usando pueden venir con *signals* y/o *slots* ya predefinidos aunque todavía no hemos visto nada de esto explícitamente. Ahora vamos a usar alguno para que la aplicación empiece a tener algo de funcionalidad."
   ]
  },
  {
   "cell_type": "markdown",
   "metadata": {},
   "source": [
    "Si vamos a la [documentación de, por ejemplo, `QMenuBar`](https://doc.qt.io/qtforpython/PySide2/QtWidgets/QMenuBar.html) vemos que la clase tiene muchas [funciones o métodos](https://doc.qt.io/qtforpython/PySide2/QtWidgets/QMenuBar.html#functions). Ya hemos usado alguno de estos métodos como `addMenu`. Si seguimos un poco más abajo en la documentación vemos que hay una [sección que se llama *Signals*](https://doc.qt.io/qtforpython/PySide2/QtWidgets/QMenuBar.html#signals). En esa sección se puede ver que existen dos métodos que se llaman `hovered` (estar encima) y `triggered` (desencadenado o detonado). Estos son eventos típicos que podríamos usar al pasar el puntero del ratón sobre el menú (`hovered`) o cuando pulsamos sobre el menú (`triggered`)."
   ]
  },
  {
   "cell_type": "markdown",
   "metadata": {},
   "source": [
    "Por otro lado, si ahora vamos a la [documentación de `QApplication`](https://doc.qt.io/qtforpython/PySide2/QtWidgets/QApplication.html), vemos que dispone de [algunos *slots*](https://doc.qt.io/qtforpython/PySide2/QtWidgets/QApplication.html#slots) además de otras cosas. Los *slots* que tiene no nos interesan ahora pero si vamos a la sección de [funciones estáticas](https://doc.qt.io/qtforpython/PySide2/QtWidgets/QApplication.html#static-functions) vemos alguna que puede ser interesante como `closeAllWindows`."
   ]
  },
  {
   "cell_type": "markdown",
   "metadata": {},
   "source": [
    "Vamos a hacer que cuando pasemos el puntero sobre la barra de menús la aplicación se cierre. Sí, lo sé, algo muy inútil, pero es para ir viendo conceptos. En este caso, el evento será colocar el ratón sobre la barra de menús, eso disparará la señal `hovered` y queremos que cuando se dispare se cierre la aplicación."
   ]
  },
  {
   "cell_type": "markdown",
   "metadata": {},
   "source": [
    "Vamos a conectar una señal de un objeto, un `QMenuBar` en este caso, con una función de otro objeto, el método `closeAllWindows` de la instancia de `QApplication`. En este caso no es un *slot* pero nos vale como *slot* porque, como hemos comentado antes, cualquier cosa que funcione como un *callable* (función, método,...) será válido como *slot*. La conexión se hará de la siguiente forma:"
   ]
  },
  {
   "cell_type": "markdown",
   "metadata": {},
   "source": [
    "```python\n",
    "objeto_que_emite_la_señal.señal_emitida.connect(funcion_a_usar_como_slot)\n",
    "```"
   ]
  },
  {
   "cell_type": "markdown",
   "metadata": {},
   "source": [
    "Un ejemplo más real de lo anterior podría ser que la función `func` se ejecute cuando pulsemos sobre un botón (que será una instancia de un *Widget*). Cogiendo el ejemplo inicial:"
   ]
  },
  {
   "cell_type": "markdown",
   "metadata": {},
   "source": [
    "```python\n",
    "boton.clicked.connect(func)\n",
    "```"
   ]
  },
  {
   "cell_type": "markdown",
   "metadata": {},
   "source": [
    "Vamos a hacer lo que hemos comentado antes, que se cierre la aplicación cuando el puntero del ratón esté sobre la barra de menús, y así vemos un nuevo ejemplo con código real. Como siempre, pongo el código y destaco las líneas nuevas con el comentario `## NUEVA LÍNEA`:"
   ]
  },
  {
   "cell_type": "markdown",
   "metadata": {},
   "source": [
    "```python\n",
    "'''\n",
    "Curso de creación de GUIs con Qt5 y Python\n",
    "\n",
    "Author: Kiko Correoso\n",
    "Website: pybonacci.org \n",
    "Licencia: MIT\n",
    "'''\n",
    "\n",
    "import os\n",
    "os.environ['QT_API'] = 'pyside2'\n",
    "import sys\n",
    "from pathlib import Path\n",
    "\n",
    "from qtpy.QtWidgets import QApplication, QMainWindow, QAction\n",
    "from qtpy.QtGui import QIcon\n",
    "import qtawesome as qta\n",
    "\n",
    "\n",
    "class MiVentana(QMainWindow):\n",
    "    def __init__(self, parent=None):\n",
    "        QMainWindow.__init__(self, parent)\n",
    "        self._create_ui()\n",
    "        instance = QApplication.instance() ## NUEVA LÍNEA\n",
    "        self.menuBar().hovered.connect(instance.closeAllWindows) ## NUEVA LÍNEA\n",
    "\n",
    "    def _create_ui(self):\n",
    "        self.resize(500, 300)\n",
    "        self.move(0, 0)\n",
    "        self.setWindowTitle('Hola, QMainWindow')\n",
    "        ruta_icono = Path('.', 'imgs', 'pybofractal.png')\n",
    "        self.setWindowIcon(QIcon(str(ruta_icono)))\n",
    "        self.statusBar().showMessage('Ready')\n",
    "        self._create_menu()\n",
    "\n",
    "    def _create_menu(self):        \n",
    "        menubar = self.menuBar()\n",
    "        # File menu and its QAction's\n",
    "        file_menu = menubar.addMenu('&File')\n",
    "        exit_action = QAction(qta.icon('fa5.times-circle'),\n",
    "                              '&Exit',\n",
    "                              self)\n",
    "        exit_action.setShortcut('Ctrl+Q')\n",
    "        exit_action.setStatusTip('Exit application')\n",
    "        file_menu.addAction(exit_action)\n",
    "        # Help menu and its QAction's\n",
    "        help_menu = menubar.addMenu('&Help')\n",
    "        about_action = QAction(qta.icon('fa5s.info-circle'),\n",
    "                               '&Exit',\n",
    "                               self)\n",
    "        about_action.setShortcut('Ctrl+I')\n",
    "        about_action.setStatusTip('About...')\n",
    "        help_menu.addAction(about_action)\n",
    "\n",
    "if __name__ == '__main__':\n",
    "\n",
    "    app = QApplication(sys.argv)\n",
    "    w = MiVentana()\n",
    "    w.show()\n",
    "    sys.exit(app.exec_())\n",
    "```"
   ]
  },
  {
   "cell_type": "markdown",
   "metadata": {},
   "source": [
    "Si lo anterior lo guardáis en un fichero que se llame *main01.py* y, desde la carpeta donde tenéis el fichero, lo ejecutáis desde la línea de comandos haciendo:"
   ]
  },
  {
   "cell_type": "markdown",
   "metadata": {},
   "source": [
    "```\n",
    "python main01.py\n",
    "```"
   ]
  },
  {
   "cell_type": "markdown",
   "metadata": {},
   "source": [
    "Veréis nuestra ventana que he mostrado más arriba. Si ahora pasáis el puntero del ratón sobre la barra de menús veréis que se cierra la aplicación:"
   ]
  },
  {
   "cell_type": "markdown",
   "metadata": {},
   "source": [
    "![](../imgs/09_02_signalslot.gif)"
   ]
  },
  {
   "cell_type": "markdown",
   "metadata": {},
   "source": [
    "Esto sería un ejemplo, muy inútil, de cómo podemos hacer que el usuario interactúe con nuestra aplicación.\n",
    "\n",
    "Explico las líneas nuevas:\n",
    "\n",
    "----------------\n",
    "\n",
    "```python\n",
    "        instance = QApplication.instance()\n",
    "        self.menuBar().hovered.connect(instance.closeAllWindows)\n",
    "```\n",
    "\n",
    "* [`QApplication.instance`](https://doc.qt.io/qtforpython/PySide2/QtCore/QCoreApplication.html#PySide2.QtCore.PySide2.QtCore.QCoreApplication.instance) nos proporciona un puntero a la instancia de la aplicación.\n",
    "* `self.menuBar().hovered.connect(instance.closeAllWindows)` conecta el objeto con la función estática que hemos comentado antes (`closeAllWindows`) cuando ocurre la señal `hovered` (pasar por encima)."
   ]
  },
  {
   "cell_type": "markdown",
   "metadata": {},
   "source": [
    "## Creando un *slot*"
   ]
  },
  {
   "cell_type": "markdown",
   "metadata": {},
   "source": [
    "Como he venido comentando, podemos usar nuestras propias funciones para que reaccionen a eventos. Ahora vamos a añadir un poco de funcionalidad para que nuestra aplicación empiece a ser un poco más útil. Pongo el código y destaco las líneas nuevas con el comentario de siempre, `## NUEVA LÍNEA`:"
   ]
  },
  {
   "cell_type": "markdown",
   "metadata": {},
   "source": [
    "```python\n",
    "'''\n",
    "Curso de creación de GUIs con Qt5 y Python\n",
    "\n",
    "Author: Kiko Correoso\n",
    "Website: pybonacci.org \n",
    "Licencia: MIT\n",
    "'''\n",
    "\n",
    "import os\n",
    "os.environ['QT_API'] = 'pyside2'\n",
    "import sys\n",
    "from pathlib import Path\n",
    "\n",
    "from qtpy.QtWidgets import ( ## NUEVA LÍNEA\n",
    "    QApplication, QMainWindow, QAction, QMessageBox ## NUEVA LÍNEA\n",
    ") ## NUEVA LÍNEA\n",
    "from qtpy.QtGui import QIcon\n",
    "from qtpy.QtCore import Slot ## NUEVA LÍNEA\n",
    "import qtawesome as qta\n",
    "\n",
    "\n",
    "class MiVentana(QMainWindow):\n",
    "    def __init__(self, parent=None):\n",
    "        QMainWindow.__init__(self, parent)\n",
    "        self._create_ui()\n",
    "\n",
    "    def _create_ui(self):\n",
    "        self.resize(500, 300)\n",
    "        #self.move(0, 0)\n",
    "        self.setWindowTitle('Hola, QMainWindow')\n",
    "        ruta_icono = Path('.', 'imgs', 'pybofractal.png')\n",
    "        self.setWindowIcon(QIcon(str(ruta_icono)))\n",
    "        self.statusBar().showMessage('Ready')\n",
    "        self._create_menu()\n",
    "\n",
    "    def _create_menu(self):\n",
    "        menubar = self.menuBar()\n",
    "        # File menu and its QAction's\n",
    "        file_menu = menubar.addMenu('&File')\n",
    "        exit_action = QAction(qta.icon('fa5.times-circle'),\n",
    "                              '&Exit',\n",
    "                              self)\n",
    "        exit_action.setShortcut('Ctrl+Q')\n",
    "        exit_action.setStatusTip('Exit application')\n",
    "        exit_action.triggered.connect( ## NUEVA LÍNEA\n",
    "            QApplication.instance().closeAllWindows ## NUEVA LÍNEA\n",
    "        ) ## NUEVA LÍNEA\n",
    "        file_menu.addAction(exit_action)\n",
    "        # Help menu and its QAction's\n",
    "        help_menu = menubar.addMenu('&Help')\n",
    "        about_action = QAction(qta.icon('fa5s.info-circle'), ## NUEVA LÍNEA\n",
    "                               '&About', ## NUEVA LÍNEA\n",
    "                               self) ## NUEVA LÍNEA\n",
    "        about_action.setShortcut('Ctrl+I')\n",
    "        about_action.setStatusTip('About...')\n",
    "        about_action.triggered.connect( ## NUEVA LÍNEA\n",
    "            self._show_about_dialog ## NUEVA LÍNEA\n",
    "        ) ## NUEVA LÍNEA\n",
    "        help_menu.addAction(about_action)\n",
    "\n",
    "    @Slot()\n",
    "    def _show_about_dialog(self): ## NUEVA LÍNEA\n",
    "        msg_box = QMessageBox() ## NUEVA LÍNEA\n",
    "        msg_box.setIcon(QMessageBox.Information) ## NUEVA LÍNEA\n",
    "        msg_box.setText(\"Pybonacci app v -37.3\") ## NUEVA LÍNEA\n",
    "        msg_box.setWindowTitle(\"Ejemplo de Slot\") ## NUEVA LÍNEA\n",
    "        msg_box.setStandardButtons(QMessageBox.Close) ## NUEVA LÍNEA\n",
    "        msg_box.exec_() ## NUEVA LÍNEA\n",
    "\n",
    "if __name__ == '__main__':\n",
    "\n",
    "    app = QApplication(sys.argv)\n",
    "    w = MiVentana()\n",
    "    w.show()\n",
    "    sys.exit(app.exec_())\n",
    "```"
   ]
  },
  {
   "cell_type": "markdown",
   "metadata": {},
   "source": [
    "Con respecto al anterior código han desaparecido algunas líneas puesto que no eran muy útiles y no forman parte de este nuevo ejemplo.\n",
    "\n",
    "Voy a pasar a explicar un poco el código nuevo:"
   ]
  },
  {
   "cell_type": "markdown",
   "metadata": {},
   "source": [
    "----------------------\n",
    "```python\n",
    "from qtpy.QtWidgets import (\n",
    "    QApplication, QMainWindow, QAction, QMessageBox\n",
    ")\n",
    "```\n",
    "\n",
    "Importo `QMessageBox`. `QMessageBox` es un nuevo Widget que no voy a explicar ahora ya que se explicará en detalle más adelante. Ya sabéis, una nueva pieza de Lego, de momento."
   ]
  },
  {
   "cell_type": "markdown",
   "metadata": {},
   "source": [
    "------------------------\n",
    "```python\n",
    "from qtpy.QtCore import Slot ## NUEVA LÍNEA\n",
    "```\n",
    "\n",
    "Importamos `Slot` como hemos hecho con el primer ejemplo del botón."
   ]
  },
  {
   "cell_type": "markdown",
   "metadata": {},
   "source": [
    "----------------------\n",
    "```python\n",
    "        #self.move(0, 0)\n",
    "```\n",
    "\n",
    "Esa línea, `_create_ui` la comento para que la ventana no aparezca arriba a la derecha. De momento la dejo solo comentada."
   ]
  },
  {
   "cell_type": "markdown",
   "metadata": {},
   "source": [
    "----------------------\n",
    "```python\n",
    "        exit_action.triggered.connect(\n",
    "            QApplication.instance().closeAllWindows\n",
    "        )\n",
    "```\n",
    "\n",
    "En el método `_create_menu` hemos añadido la anterior línea a la `QAction` de salida de la aplicación. Cuando pulsemos sobre *Exit* en el menú *File* la aplicación se cerrará. Es lo mismo que hemos hecho antes cuando pasábamos el ratón sobre la barra de menús pero ahora usamos el *slot* en un lugar que tenga más sentido."
   ]
  },
  {
   "cell_type": "markdown",
   "metadata": {},
   "source": [
    "----------------------\n",
    "```python\n",
    "        about_action = QAction(qta.icon('fa5s.info-circle'), ## NUEVA LÍNEA\n",
    "                               '&About', ## NUEVA LÍNEA\n",
    "                               self) ## NUEVA LÍNEA\n",
    "```\n",
    "\n",
    "También en el método `_create_menu`, simplemente cambio `&Exit` por `&About`. El anterior `&Exit` no pintaba nada ahí y ahora lo estoy corrigiendo para que tenga sentido."
   ]
  },
  {
   "cell_type": "markdown",
   "metadata": {},
   "source": [
    "----------------------\n",
    "```python\n",
    "        about_action.triggered.connect(\n",
    "            self._show_about_dialog\n",
    "        )\n",
    "```\n",
    "\n",
    "También en el método `_create_menu` hemos añadido la anterior línea a la `QAction` de información de la aplicación. Cuando pulsemos sobre *About* en el menú *Help* la aplicación llamará al método `_show_about_dialog`."
   ]
  },
  {
   "cell_type": "markdown",
   "metadata": {},
   "source": [
    "----------------------\n",
    "```python\n",
    "    @Slot()\n",
    "    def _show_about_dialog(self):\n",
    "        msg_box = QMessageBox()\n",
    "        msg_box.setIcon(QMessageBox.Information)\n",
    "        msg_box.setText(\"Pybonacci app v -37.3\")\n",
    "        msg_box.setWindowTitle(\"Ejemplo de Slot\")\n",
    "        msg_box.setStandardButtons(QMessageBox.Close)\n",
    "        msg_box.exec_()\n",
    "```\n",
    "\n",
    "Y, por último, añadimos un nuevo método, `_show_about_dialog` que se ejecutará cuando pulsemos sobre la opción *About* del menú *Help*. De momento no entro en detalles sobre `QMessageBox` pero veremos una ventanita con algo de información y con un único botón."
   ]
  },
  {
   "cell_type": "markdown",
   "metadata": {},
   "source": [
    "Si lo anterior lo guardáis en un fichero que se llame *main02.py* y, desde la carpeta donde tenéis el fichero, lo ejecutáis desde la línea de comandos haciendo:"
   ]
  },
  {
   "cell_type": "markdown",
   "metadata": {},
   "source": [
    "```\n",
    "python main02.py\n",
    "```"
   ]
  },
  {
   "cell_type": "markdown",
   "metadata": {},
   "source": [
    "Veréis de nuevo la ventana. Si ahora pulsáis en `Help > About` os debería salir una ventanita con un botón. Si la cerráis y luego pulsáis sobre `File > Exit` se debería cerrar la aplicación:"
   ]
  },
  {
   "cell_type": "markdown",
   "metadata": {},
   "source": [
    "![](../imgs/09_03_signalslot.gif)"
   ]
  },
  {
   "cell_type": "markdown",
   "metadata": {},
   "source": [
    "Bueno. Parece que nuestra aplicación, poco a poco, va siendo más útil o, al menos, hace cosas algo más interesantes."
   ]
  },
  {
   "cell_type": "markdown",
   "metadata": {},
   "source": [
    "¿Es necesario usar el decorador `Slot` en los *callables*?\n",
    "\n",
    "La aplicación anterior funcionaría perfectamente si no usamos el decorador `Slot`. Entonces, ¿para qué usarlo? Leyendo la [documentación de PyQt5](https://www.riverbankcomputing.com/static/Docs/PyQt5/signals_slots.html#the-pyqtslot-decorator) nos dan varias razones:\n",
    "\n",
    "* Podemos definir tipos y otras cosas (no voy a entrar en esto ahora).\n",
    "* Puede ahorrar memoria.\n",
    "* Puede ser más rápido."
   ]
  },
  {
   "cell_type": "markdown",
   "metadata": {},
   "source": [
    "**[INCISO]**\n",
    "\n",
    "En PyQt5, las señales y *slots*, se definen usando `pyqtSignal` y `pyqtSlot` y se importan así:\n",
    "\n",
    "`from PyQt5.QtCore import pyqtSignal, pyqtSlot`\n",
    "\n",
    "En *Qt for Python* o PySide2 se definen usando `Signal` y `Slot` y se importan así:\n",
    "\n",
    "`from PySide2.QtCore import Signal, Slot`"
   ]
  },
  {
   "cell_type": "markdown",
   "metadata": {},
   "source": [
    "## Eventos"
   ]
  },
  {
   "cell_type": "markdown",
   "metadata": {},
   "source": [
    "Ahora voy a hacer un pequeño inciso en la explicación del mecanismo *Signals/Slots* para hablar muy superficialmente de los eventos en Qt.\n",
    "\n",
    "Los eventos son un mecanismo parecido a las señales y *slots* para conseguir cosas similares pero es de más bajo nivel y con fines un poco diferentes. \n",
    "\n",
    "Las señales y *slots* son ideales cuando queremos responder a alguna acción que quiera hacer el usuario pero sin preocuparnos mucho en los detalles sobre cómo el usuario ha pedido las cosas. También podemos usar las señales y los *slots* para personalizar ligeramente algún comportamiento de algún Widget.\n",
    "\n",
    "Por otro lado, si necesitamos que el comportamiento cambie drásticamente, normalmente cuando estamos creando nuestros propios Widgets, necesitaremos gestionar los eventos de una forma más cruda (más bajo nivel).\n",
    "\n",
    "Por tanto, los eventos se encuentran a nivel de clase y todas las instancias de clase reaccionarán de la misma forma al evento en cuestión. Por otro lado, las señales se establecen en el objeto, instancia de clase, y cada objeto podrá tener su propia conexión entre señal y *slot*. Podéis echarle un ojo a esta [respuesta en StackOverflow](https://stackoverflow.com/a/3794944) si queréis algo más formal. Este párrafo es una traducción del primer comentario a esa respuesta que me ha parecido una buena síntesis del tema. También le podéis echar un ojo a la [documentación oficial](https://doc.qt.io/qtforpython/overviews/eventsandfilters.html).\n",
    "\n",
    "No quiero profundizar más ahora sobre esto para no complicar más este capítulo. Supongo que lo veremos más adelante en algún capítulo futuro usando ejemplos concretos."
   ]
  },
  {
   "cell_type": "markdown",
   "metadata": {},
   "source": [
    "## Resumen"
   ]
  },
  {
   "cell_type": "markdown",
   "metadata": {},
   "source": [
    "Lo que me gustaría que quedase claro es lo siguiente:\n",
    "\n",
    "* El mecanismo de alto nivel para lidiar con eventos en Qt se conoce como el mecanismo *Signal-Slot*.\n",
    "\n",
    "* Los eventos ocurrirán, principalmente, cuando el usuario quiera interactuar con la aplicación.\n",
    "\n",
    "* Una señal se emite cuando sucede un evento en particular. Un evento, como hemos visto, puede ser un *click*, posar el puntero sobre algo,...\n",
    "\n",
    "* Un *slot* puede ser cualquier *callable* Python. Funciones, métodos,... Cualquier cosa que implemente el método `__call__`.\n",
    "\n",
    "* Un *slot* se ejecutará cuando se emite la señal a la que está conectado.\n",
    "\n",
    "Por tanto, un evento dispara una señal, la señal puede avisar a uno o más *slots* si los hemos conectado con la señal. El *slot* o los *slots* son los que lidiaran con el evento."
   ]
  },
  {
   "cell_type": "markdown",
   "metadata": {},
   "source": [
    "Y, por hoy, creo que ya es suficiente."
   ]
  }
 ],
 "metadata": {
  "kernelspec": {
   "display_name": "Python 3",
   "language": "python",
   "name": "python3"
  },
  "language_info": {
   "codemirror_mode": {
    "name": "ipython",
    "version": 3
   },
   "file_extension": ".py",
   "mimetype": "text/x-python",
   "name": "python",
   "nbconvert_exporter": "python",
   "pygments_lexer": "ipython3",
   "version": "3.7.6"
  }
 },
 "nbformat": 4,
 "nbformat_minor": 2
}
