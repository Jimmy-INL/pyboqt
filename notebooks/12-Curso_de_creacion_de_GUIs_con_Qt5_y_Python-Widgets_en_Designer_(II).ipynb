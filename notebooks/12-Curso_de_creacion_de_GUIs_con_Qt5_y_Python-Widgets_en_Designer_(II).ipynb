{
 "cells": [
  {
   "cell_type": "markdown",
   "metadata": {},
   "source": [
    "En el mundo Qt tenemos una herramienta [RAD (Rapid Application Development)](https://es.wikipedia.org/wiki/Desarrollo_r%C3%A1pido_de_aplicaciones).  Esta herramienta se llama Qt Designer y nos permite crear prototipos de nuestras aplicaciones de forma rápida y visual. **En este nuevo capítulo voy a hacer un repaso a los widgets de botones que están disponibles dentro de Designer.**"
   ]
  },
  {
   "cell_type": "markdown",
   "metadata": {},
   "source": [
    "Índice:\n",
    "\n",
    "* [Instalación de lo que vamos a necesitar](https://pybonacci.org/2019/11/12/curso-de-creacion-de-guis-con-qt5-y-python-capitulo-00-instalacion/).\n",
    "* [Qt, versiones y diferencias](https://pybonacci.org/2019/11/21/curso-de-creacion-de-guis-con-qt5-y-python-capitulo-01-qt-versiones-y-bindings/).\n",
    "* [Hola, Mundo](https://pybonacci.org/2019/11/26/curso-de-creacion-de-guis-con-qt5-y-python-capitulo-02-hola-mundo/).\n",
    "* [Módulos en Qt](https://pybonacci.org/2019/12/02/curso-de-creacion-de-guis-con-qt5-y-python-capitulo-03-modulos-qt/).\n",
    "* [Añadimos icono a la ventana principal](https://pybonacci.org/2019/12/26/curso-de-creacion-de-guis-con-qt5-y-python-capitulo-04-icono-de-la-ventana/).\n",
    "* [Tipos de ventana en un GUI](https://pybonacci.org/2020/01/31/curso-de-creacion-de-guis-con-qt-capitulo-05-ventanas-principales-diferencias/).\n",
    "* [Ventana inicial de carga o Splashscreen](https://pybonacci.org/2020/02/26/curso-de-creacion-de-guis-con-qt-capitulo-06-splash-screen/)\n",
    "* [Menu principal. Introducción](https://pybonacci.org/2020/03/18/curso-de-creacion-de-guis-con-qt-capitulo-07-menu/).\n",
    "* [Mejorando algunas cosas vistas](https://pybonacci.org/2020/03/26/curso-de-creacion-de-guis-con-qt-capitulo-08-mejorando-lo-visto/).\n",
    "* [Gestión de eventos o Acción y reacción](https://pybonacci.org/2020/03/27/curso-de-creacion-de-guis-con-qt-capitulo-09-signals-y-slots/).\n",
    "* [Introducción a Designer](https://pybonacci.org/2020/04/14/curso-de-creacion-de-guis-con-qt-capitulo-10-introduccion-a-designer/).\n",
    "* [Los Widgets vistos a través de Designer: Primera parte](https://pybonacci.org/2020/05/01/curso-de-creacion-de-guis-con-qt-capitulo-11-widgets-en-designer-i/).\n",
    "* [Los Widgets vistos a través de Designer: Segunda parte](https://pybonacci.org/2020/05/02/curso-de-creacion-de-guis-con-qt-capitulo-12:-widgets-en-designer-(ii)/) (este capítulo).\n",
    "* [Los Widgets vistos a través de Designer: Tercera parte](https://pybonacci.org/2020/05/03/curso-de-creacion-de-guis-con-qt-capitulo-13-widgets-en-designer-iii/).\n",
    "* [Los Widgets vistos a través de Designer: Cuarta parte](https://pybonacci.org/2020/05/04/curso-de-creacion-de-guis-con-qt-capitulo-14-widgets-en-designer-iv/).\n",
    "* [Los Widgets vistos a través de Designer: Quinta parte](https://pybonacci.org/2020/05/05/curso-de-creacion-de-guis-con-qt-capitulo-15-widgets-en-designer-v/).\n",
    "* [Los Widgets vistos a través de Designer: Sexta parte](https://pybonacci.org/2020/05/06/curso-de-creacion-de-guis-con-qt-capitulo-16:-widgets-en-designer-(vi)/).\n",
    "* TBD… (lo actualizaré cuando tenga más claro los siguientes pasos)."
   ]
  },
  {
   "cell_type": "markdown",
   "metadata": {},
   "source": [
    "[Los materiales para este capítulo los podéis descargar de [aquí](https://github.com/kikocorreoso/pyboqt/tree/chapter12)]"
   ]
  },
  {
   "cell_type": "markdown",
   "metadata": {},
   "source": [
    "**[INSTALACIÓN] Si todavía no has pasado por el [inicio del curso, donde explico cómo poner a punto todo](https://pybonacci.org/2019/11/12/curso-de-creacion-de-guis-con-qt-capitulo-00:-instalacion/), ahora es un buen momento para hacerlo y después podrás seguir con esta nueva receta.**"
   ]
  },
  {
   "cell_type": "markdown",
   "metadata": {},
   "source": [
    "Hoy nos toca darle un repaso a los widgets de tipo botón que tenemos disponibles por defecto dentro de Qt."
   ]
  },
  {
   "cell_type": "markdown",
   "metadata": {},
   "source": [
    "El vídeo está a continuación:"
   ]
  },
  {
   "cell_type": "code",
   "execution_count": 1,
   "metadata": {},
   "outputs": [
    {
     "data": {
      "text/html": [
       "<video src=\"https://libre.video/download/videos/2b5276a5-22db-4e7b-9196-ea2f8f85e720-720.mp4\" controls  >\n",
       "      Your browser does not support the <code>video</code> element.\n",
       "    </video>"
      ],
      "text/plain": [
       "<IPython.core.display.Video object>"
      ]
     },
     "execution_count": 1,
     "metadata": {},
     "output_type": "execute_result"
    }
   ],
   "source": [
    "from IPython.display import Video\n",
    "\n",
    "Video(\"https://libre.video/download/videos/2b5276a5-22db-4e7b-9196-ea2f8f85e720-720.mp4\")"
   ]
  },
  {
   "cell_type": "markdown",
   "metadata": {},
   "source": [
    "Transcripción del vídeo a continuación:"
   ]
  },
  {
   "cell_type": "markdown",
   "metadata": {},
   "source": [
    "*Seguimos viendo los widgets en designer. Empezamos con la sección de botones. En la sección de Buttons podéis ver cosas que son bastante habituales. Vamos a meterlas todas en el Widget principal. Esto lo podéis hacer pulsando y arrastrando. Arrastramos un Push button, un tool button, un radio button, un checkbox, un commandlinkbutton y un DialogButtonBox. Creo que todos hemos usado la mayoría de estos por lo que tampoco voy a comentar mucho sobre ellos. Para ver la ventana en acción podéis ir al menú Form y allí pulsar sobre Preview... o, directamente, pulsar Ctrl+R, que será más rápido. Si pulso Ctrl+R veréis la ventana en acción. Podemos pulsar sobre el push button, aunque de momento no hace nada. Sobre el tool button, que tampoco es muy útil de momento. Si pulso sobre el radio button veréis que se ve seleccionado o deseleccionado. Lo mismo pasa con el checkbox. El commandlinkbutton es un tipo de botón especial que ahora comentaré más en detalle. Y, por último, el dialog button box es un widget que dispone de varias cosas, en este caso dos botones, de Aceptar o Cancelar, y también lo voy a comentar a continuación. Veamos el commandlinkbutton usando la GUI de PyCharm como ejemplo. Si abro PyCharm veis la siguiente ventana. Lo que vemos ahí es similar a un commandlinkbutton. Si pulso sobre el primer botón me llevaría a una nueva ventana. Los commandlinkbutton se suelen usar para cosas así y fue introducido en Windows Vista. Es un botón con un icono, texto y, si quieres, un subtexto. En Qt hereda de QPushButton. Voy a meter varios en la ventana y pulso Ctrl+R. Eso podría ser similar a la pantalla inicial de PyCharm. No se ve muy bien pero cada uno tiene un icono. Voy a meter un icono nuevo para que se vea más claramente y, además, voy a añadir una descripción. El icono lo meto desde un recurso que es algo que ya explicaré más adelante. Este podría ser el resultado final. Por otro lado, los dialogbuttonbox nos pueden servir para crear algo similar a la plantilla que tenemos al inicio, cuando abrimos designer. La voy a abrir un momento. Tenemos un dialog button con los botones abajo. Y tenemos un dialog button con los botones a la derecha. Termino aquí este vídeo y seguiremos viendo más widgets en el siguiente vídeo.*"
   ]
  },
  {
   "cell_type": "markdown",
   "metadata": {},
   "source": [
    "Bueno. Ya hemos visto algunas piezas de Lego. Así que paramos de momento y en el próximo capítulo me meteré unas pocas piezas nuevas de Lego."
   ]
  }
 ],
 "metadata": {
  "kernelspec": {
   "display_name": "Python 3",
   "language": "python",
   "name": "python3"
  },
  "language_info": {
   "codemirror_mode": {
    "name": "ipython",
    "version": 3
   },
   "file_extension": ".py",
   "mimetype": "text/x-python",
   "name": "python",
   "nbconvert_exporter": "python",
   "pygments_lexer": "ipython3",
   "version": "3.7.6"
  }
 },
 "nbformat": 4,
 "nbformat_minor": 4
}
