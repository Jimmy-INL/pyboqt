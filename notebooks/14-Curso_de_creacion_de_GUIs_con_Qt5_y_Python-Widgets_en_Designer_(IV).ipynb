{
 "cells": [
  {
   "cell_type": "markdown",
   "metadata": {},
   "source": [
    "En el mundo Qt tenemos una herramienta [RAD (Rapid Application Development)](https://es.wikipedia.org/wiki/Desarrollo_r%C3%A1pido_de_aplicaciones).  Esta herramienta se llama Qt Designer y nos permite crear prototipos de nuestras aplicaciones de forma rápida y visual. **En este nuevo capítulo sigo dando un repaso a los widgets disponibles dentro de Designer y los contenedores son una parte extremadamente importante para poder organizar la funcionalidad y que tenga cierto sentido.**"
   ]
  },
  {
   "cell_type": "markdown",
   "metadata": {},
   "source": [
    "Índice:\n",
    "\n",
    "* [Instalación de lo que vamos a necesitar](https://pybonacci.org/2019/11/12/curso-de-creacion-de-guis-con-qt5-y-python-capitulo-00-instalacion/).\n",
    "* [Qt, versiones y diferencias](https://pybonacci.org/2019/11/21/curso-de-creacion-de-guis-con-qt5-y-python-capitulo-01-qt-versiones-y-bindings/).\n",
    "* [Hola, Mundo](https://pybonacci.org/2019/11/26/curso-de-creacion-de-guis-con-qt5-y-python-capitulo-02-hola-mundo/).\n",
    "* [Módulos en Qt](https://pybonacci.org/2019/12/02/curso-de-creacion-de-guis-con-qt5-y-python-capitulo-03-modulos-qt/).\n",
    "* [Añadimos icono a la ventana principal](https://pybonacci.org/2019/12/26/curso-de-creacion-de-guis-con-qt5-y-python-capitulo-04-icono-de-la-ventana/).\n",
    "* [Tipos de ventana en un GUI](https://pybonacci.org/2020/01/31/curso-de-creacion-de-guis-con-qt-capitulo-05-ventanas-principales-diferencias/).\n",
    "* [Ventana inicial de carga o Splashscreen](https://pybonacci.org/2020/02/26/curso-de-creacion-de-guis-con-qt-capitulo-06-splash-screen/)\n",
    "* [Menu principal. Introducción](https://pybonacci.org/2020/03/18/curso-de-creacion-de-guis-con-qt-capitulo-07-menu/).\n",
    "* [Mejorando algunas cosas vistas](https://pybonacci.org/2020/03/26/curso-de-creacion-de-guis-con-qt-capitulo-08-mejorando-lo-visto/).\n",
    "* [Gestión de eventos o Acción y reacción](https://pybonacci.org/2020/03/27/curso-de-creacion-de-guis-con-qt-capitulo-09-signals-y-slots/).\n",
    "* [Introducción a Designer](https://pybonacci.org/2020/04/14/curso-de-creacion-de-guis-con-qt-capitulo-10-introduccion-a-designer/).\n",
    "* [Los Widgets vistos a través de Designer: Primera parte](https://pybonacci.org/2020/05/01/curso-de-creacion-de-guis-con-qt-capitulo-11-widgets-en-designer-i/).\n",
    "* [Los Widgets vistos a través de Designer: Segunda parte](https://pybonacci.org/2020/05/02/curso-de-creacion-de-guis-con-qt-capitulo-12:-widgets-en-designer-(ii)/).\n",
    "* [Los Widgets vistos a través de Designer: Tercera parte](https://pybonacci.org/2020/05/03/curso-de-creacion-de-guis-con-qt-capitulo-13-widgets-en-designer-iii/).\n",
    "* [Los Widgets vistos a través de Designer: Cuarta parte](https://pybonacci.org/2020/05/04/curso-de-creacion-de-guis-con-qt-capitulo-14-widgets-en-designer-iv/) (este capítulo).\n",
    "* [Los Widgets vistos a través de Designer: Quinta parte](https://pybonacci.org/2020/05/05/curso-de-creacion-de-guis-con-qt-capitulo-15-widgets-en-designer-v/).\n",
    "* [Los Widgets vistos a través de Designer: Sexta parte](https://pybonacci.org/2020/05/06/curso-de-creacion-de-guis-con-qt-capitulo-16:-widgets-en-designer-(vi)/).\n",
    "* TBD… (lo actualizaré cuando tenga más claro los siguientes pasos)."
   ]
  },
  {
   "cell_type": "markdown",
   "metadata": {},
   "source": [
    "[Los materiales para este capítulo los podéis descargar de [aquí](https://github.com/kikocorreoso/pyboqt/tree/chapter14)]"
   ]
  },
  {
   "cell_type": "markdown",
   "metadata": {},
   "source": [
    "**[INSTALACIÓN] Si todavía no has pasado por el [inicio del curso, donde explico cómo poner a punto todo](https://pybonacci.org/2019/11/12/curso-de-creacion-de-guis-con-qt-capitulo-00:-instalacion/), ahora es un buen momento para hacerlo y después podrás seguir con esta nueva receta.**"
   ]
  },
  {
   "cell_type": "markdown",
   "metadata": {},
   "source": [
    "Llega el momento de ver los widgets que nos sirven como continente para otros widgets y que nos permiten darle sentido al GUI organizando las cosas por funcionalidad."
   ]
  },
  {
   "cell_type": "markdown",
   "metadata": {},
   "source": [
    "El vídeo está a continuación:"
   ]
  },
  {
   "cell_type": "code",
   "execution_count": 1,
   "metadata": {},
   "outputs": [
    {
     "data": {
      "text/html": [
       "<video src=\"https://libre.video/download/videos/5ab6618f-bfc1-4f57-93c8-51c6c5964f91-720.mp4\" controls  >\n",
       "      Your browser does not support the <code>video</code> element.\n",
       "    </video>"
      ],
      "text/plain": [
       "<IPython.core.display.Video object>"
      ]
     },
     "execution_count": 1,
     "metadata": {},
     "output_type": "execute_result"
    }
   ],
   "source": [
    "from IPython.display import Video\n",
    "\n",
    "Video(\"https://libre.video/download/videos/5ab6618f-bfc1-4f57-93c8-51c6c5964f91-720.mp4\")"
   ]
  },
  {
   "cell_type": "markdown",
   "metadata": {},
   "source": [
    "Transcripción del vídeo a continuación:"
   ]
  },
  {
   "cell_type": "markdown",
   "metadata": {},
   "source": [
    "*Paso ahora a la sección de Containers. Empiezo con el GroupBox. Como su propio nombre indica sirve para agupar cosas. Voy a crear uno y le voy a meter unos cuantos radiobuttons. Voy a meter también unos cuantos radiobuttons pero, esta vez, fuera del groupbox. Véis que tengo unos radiobuttons dentro del groupbox y otros que están fuera. Si le doy a ver la ventana en acción usando Ctrl+R y pulso sobre los radiobuttons de dentro del groupbox verás que cuando selecciono uno se deselecciona el otro que estuviera seleccionado. Si intento hacer lo mismo con los que están fuera del groupbox esto no sucede así. El groupbox, además de permitirme agrupar cosas me ayuda a tener comportamientos por defecto. Cierro, borro y hablo ahora del ScrollArea. Esto me permite hacer scroll y que no haya cosas que dejen de verse y estar accesibles en la pantalla, por ejemplo, cuando redimensionamos o estamos en pantallas con otras resoluciones. Voy a meter unos pocos widgets dentro de la ventana para ver un poco esto. Meto tres textedit. Ahora previsualizo el GUI y cambio el tamaño. Veis que cuando es muy pequeño algunos de los textedit desaparecen y no puedo acceder a los mismos. Si alguien abriese esa ventana y el tamaño fuese muy pequeño sería horrible porque no sabría lo que tiene la ventana. Esto se puede aliviar si uso un layout (hablaré sobre los layouts más adelante). Meto todo en layouts verticales. Le doy a previsualizar y, si os fijáis,  ahora cuando redimensiono me salen unas barras de scroll. Seguimos, paso ahora al ToolBox, este me gusta poco porque me resulta feo, poco intuitivo e incómodo. Lo que hace es que me permite tener varias secciones pero, repito, de una forma un tanto fea en mi humilde opinión. Me gusta más usar un TabWidget. Creo que se consigue lo mismo pero de una forma más elegante. El StackedWidget también nos permite tener una serie de secciones. Creo uno, le meto algún widget a cada sección. Creo una sección nueva, etc. Paso ahora a los frames. Pueden ser muy versátiles. Se pueden usar como contenedores, se pueden usar como separador, se pueden usar para dar estilo a una zona del GUI. No os preocupéis por el tema de los estilos que lo veremos en detalle en otro momento. Del Widget en sí no voy a hablar. Es lo que estoy usando en todo momento y el resto de cosas que estamos viendo son evoluciones de esto (nuestras piezas de lego). Un MDI area o Multiple Document Interface area o área de interfaz de múltiples documentos es algo un poco en desuso. Aquí lo podéis ver en acción. Por último, en esta sección tenemos el DockWidget que nos permite tener una zona que se puede trasladar y anclar a diferentes zonas de la ventana como estáis viendo. Se puede cerrar. Si tengo un MainWindow lo puedo anclar a zonas de la ventana. En el propio Designer tenemos y podemos experimentar con ello. Hemos visto un montonazo de widgets contenedores. Otro día seguimos con más.*"
   ]
  },
  {
   "cell_type": "markdown",
   "metadata": {},
   "source": [
    "Los contenedores son una parte importante puesto que nos permiten darle sentido al GUI y que cada cosa esté organizada para el usuario."
   ]
  }
 ],
 "metadata": {
  "kernelspec": {
   "display_name": "Python 3",
   "language": "python",
   "name": "python3"
  },
  "language_info": {
   "codemirror_mode": {
    "name": "ipython",
    "version": 3
   },
   "file_extension": ".py",
   "mimetype": "text/x-python",
   "name": "python",
   "nbconvert_exporter": "python",
   "pygments_lexer": "ipython3",
   "version": "3.7.6"
  }
 },
 "nbformat": 4,
 "nbformat_minor": 4
}
