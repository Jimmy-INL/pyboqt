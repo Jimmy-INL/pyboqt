{
 "cells": [
  {
   "cell_type": "markdown",
   "metadata": {},
   "source": [
    "Vamos a seguir evolucionando hacia hacer GUIs cada vez más sofisticados. **En este capítulo describo Los tipos de ventanas principales que podemos usar en nuestras aplicaciones y los rasgos principales que las diferencian**."
   ]
  },
  {
   "cell_type": "markdown",
   "metadata": {},
   "source": [
    "## Índice:\n",
    "\n",
    "* [Instalación de lo que vamos a necesitar](https://pybonacci.org/2019/11/12/curso-de-creacion-de-guis-con-qt-capitulo-00:-instalacion/).\n",
    "* [Qt, versiones y diferencias](https://pybonacci.org/2019/11/21/curso-de-creacion-de-guis-con-qt5-y-python-capitulo-01-qt-versiones-y-bindings/).\n",
    "* [Hola, Mundo](https://pybonacci.org/2019/11/26/curso-de-creacion-de-guis-con-qt5-y-python-capitulo-02-hola-mundo/).\n",
    "* [Módulos en Qt](https://pybonacci.org/2019/12/02/curso-de-creacion-de-guis-con-qt5-y-python-capitulo-03-modulos-qt/).\n",
    "* [Añadimos icono a la ventana principal](https://pybonacci.org/2019/12/26/curso-de-creacion-de-guis-con-qt5-y-python-capitulo-04-icono-de-la-ventana/).\n",
    "* [Tipos de ventana en un GUI](https://pybonacci.org/2020/01/31/curso-de-creacion-de-guis-con-qt-capitulo-05-ventanas-principales-diferencias/) (este capítulo).\n",
    "* [Ventana de inicio – SplashScreen](https://pybonacci.org/2020/02/26/curso-de-creacion-de-guis-con-qt-capitulo-06-splash-screen/).\n",
    "* [Menu principal. Introducción](https://pybonacci.org/2020/03/18/curso-de-creacion-de-guis-con-qt-capitulo-07-menu/).\n",
    "* [Mejorando algunas cosas vistas](https://pybonacci.org/2020/03/26/curso-de-creacion-de-guis-con-qt-capitulo-08-mejorando-lo-visto/).\n",
    "* [Gestión de eventos o Acción y reacción](https://pybonacci.org/2020/03/27/curso-de-creacion-de-guis-con-qt-capitulo-09-signals-y-slots/).\n",
    "* [Introducción a Designer](https://pybonacci.org/2020/04/14/curso-de-creacion-de-guis-con-qt-capitulo-10-introduccion-a-designer/).\n",
    "* [Los Widgets vistos a través de Designer: Primera parte](https://pybonacci.org/2020/05/01/curso-de-creacion-de-guis-con-qt-capitulo-11-widgets-en-designer-i/).\n",
    "* [Los Widgets vistos a través de Designer: Segunda parte](https://pybonacci.org/2020/05/02/curso-de-creacion-de-guis-con-qt-capitulo-12:-widgets-en-designer-(ii)/).\n",
    "* [Los Widgets vistos a través de Designer: Tercera parte](https://pybonacci.org/2020/05/03/curso-de-creacion-de-guis-con-qt-capitulo-13-widgets-en-designer-iii/).\n",
    "* [Los Widgets vistos a través de Designer: Cuarta parte](https://pybonacci.org/2020/05/04/curso-de-creacion-de-guis-con-qt-capitulo-14-widgets-en-designer-iv/).\n",
    "* [Los Widgets vistos a través de Designer: Quinta parte](https://pybonacci.org/2020/05/05/curso-de-creacion-de-guis-con-qt-capitulo-15-widgets-en-designer-v/).\n",
    "* [Los Widgets vistos a través de Designer: Sexta parte](https://pybonacci.org/2020/05/06/curso-de-creacion-de-guis-con-qt-capitulo-16:-widgets-en-designer-(vi)/).\n",
    "* TBD… (lo actualizaré cuando tenga más claro los siguientes pasos)."
   ]
  },
  {
   "cell_type": "markdown",
   "metadata": {},
   "source": [
    "**[Los materiales para este capítulo los podéis descargar de [aquí](https://github.com/kikocorreoso/pyboqt/tree/chapter05)]**"
   ]
  },
  {
   "cell_type": "markdown",
   "metadata": {},
   "source": [
    "**[INSTALACIÓN] Si todavía no has pasado por el [inicio del curso, donde explico cómo poner a punto todo](https://pybonacci.org/2019/11/12/curso-de-creacion-de-guis-con-qt-capitulo-00:-instalacion/), ahora es un buen momento para hacerlo y después podrás seguir con esta nueva receta.**"
   ]
  },
  {
   "cell_type": "markdown",
   "metadata": {},
   "source": [
    "Hasta ahora hemos usado la clase `QWidget` para crear nuestras ventanas, las cuales no son muy útiles de momento... Pero tenemos varias formas de crear ventanas usando otras clases. \n",
    "\n",
    "Normalmente, `QWidget` no será la clase que usaremos para crear la ventana principal de nuestra aplicación. `QWidget` será usada para crear subventanas que llamaremos desde la aplicación principal. \n",
    "\n",
    "En la aplicación principal querremos usar una instancia de `QMainWindow`. Que no es más que un `QWidget` un poco más trabajado.\n",
    "\n",
    "Hay una tercera forma de ventana que son los `QDialog`s que son ventanas con botones típicos de 'Si' o 'No', 'Aceptar' o 'Cancelar', 'Cerrar',...\n",
    "\n",
    "Vamos a definir un poco más formalmente estas cosas usando [esta respuesta que he encontrado en StackOverflow](https://stackoverflow.com/questions/3298792/whats-the-difference-between-qmainwindow-qwidget-and-qdialog/3302386#3302386)."
   ]
  },
  {
   "cell_type": "markdown",
   "metadata": {},
   "source": [
    "## `QWidget`"
   ]
  },
  {
   "cell_type": "markdown",
   "metadata": {},
   "source": [
    "Un `QWidget` es la clase base para todos los *widget*s que vamos a usar. Cualquier clase que herede de `QWidget` se podría mostrar como una ventana cuando no tiene un padre. Un padre será otra ventana que hará de contenedor de nuestro `QWidget`. Lo que hemos venido haciendo hasta ahora es usar la clase `QWidget` sin padre, es decir, como la ventana principal. Esto tiene sentido cuando estemos haciendo aplicaciones muy sencillas que no necesiten, por ejemplo, un menú o una barra de herramientas."
   ]
  },
  {
   "cell_type": "markdown",
   "metadata": {},
   "source": [
    "## `QDialog`"
   ]
  },
  {
   "cell_type": "markdown",
   "metadata": {},
   "source": [
    "`QDialog` se basa en `QWidget`. Dispone de funciones que hacen que funcione de forma conveniente con botones típicos como 'Aceptar', 'Cancelar', 'Sí', 'No',... Es decir, lo usaremos cuando queramos establecer un diálogo entre la aplicación y el usuario donde le daremos opciones al usuario sobre las que tendrá que responder y retroalimentar a la aplicación para que sepa cómo tiene que proceder."
   ]
  },
  {
   "cell_type": "markdown",
   "metadata": {},
   "source": [
    "## `QMainWindow`"
   ]
  },
  {
   "cell_type": "markdown",
   "metadata": {},
   "source": [
    "La clase `QMainWindow` ha sido diseñada para contemplar necesidades básicas que debería tener una ventana principal de una aplicación. Dispone de lugares apropiados para, por ejemplo, una barra de menús, una barra de estado o una barra de herramientas. La realidad es que esta clase hereda de `QWidget` y le añade la funcionalidad específica para que actúe de ventana principal."
   ]
  },
  {
   "cell_type": "markdown",
   "metadata": {},
   "source": [
    "## Refactorizando"
   ]
  },
  {
   "cell_type": "markdown",
   "metadata": {},
   "source": [
    "Como hicimos en el [capítulo anterior](https://pybonacci.org/2019/12/26/curso-de-creacion-de-guis-con-qt5-y-python-capitulo-04-icono-de-la-ventana/) vamos a reformatear nuestra aplicación para que use `QMainWindow` como ventana principal. Ahí va el código que luego pasaremos a explicar:"
   ]
  },
  {
   "cell_type": "markdown",
   "metadata": {},
   "source": [
    "```python\n",
    "'''\n",
    "Curso de creación de GUIs con Qt5 y Python\n",
    "\n",
    "Author: Kiko Correoso\n",
    "Website: pybonacci.org \n",
    "Licencia: MIT\n",
    "'''\n",
    "\n",
    "import os\n",
    "os.environ['QT_API'] = 'pyside2'\n",
    "import sys\n",
    "from pathlib import Path\n",
    "\n",
    "from qtpy.QtWidgets import QApplication, QMainWindow ## NUEVA LÍNEA\n",
    "from qtpy.QtGui import QIcon\n",
    "\n",
    "class MiVentana(QMainWindow): ## NUEVA LÍNEA\n",
    "    def __init__(self):\n",
    "        super().__init__()\n",
    "        self._create_ui()\n",
    "    \n",
    "    def _create_ui(self):\n",
    "        self.resize(500, 300)\n",
    "        self.move(0, 0)\n",
    "        self.setWindowTitle('Hola, QMainWindow')\n",
    "        ruta_icono = Path('.', 'imgs', 'pybofractal.png')\n",
    "        self.setWindowIcon(QIcon(str(ruta_icono)))\n",
    "        self.show()\n",
    "\n",
    "if __name__ == '__main__':\n",
    "    \n",
    "    app = QApplication(sys.argv)\n",
    "    w = MiVentana()\n",
    "    sys.exit(app.exec_())\n",
    "```"
   ]
  },
  {
   "cell_type": "markdown",
   "metadata": {},
   "source": [
    "Como véis, el código es prácticamente igual que antes pero donde antes usábamos `QWidget` ahora estamos usando `QMainWindow` (en el `import` y en la definición de la clase). Este código lo tenéis guardado en el fichero *main00.py* en la carpeta *apps/05-QWidget_QMainWindow_QDialog/* del [repositorio](https://github.com/kikocorreoso/pyboqt)."
   ]
  },
  {
   "cell_type": "markdown",
   "metadata": {},
   "source": [
    "Si vemos todo lo disponible en nuestra instancia `w` de nuestra clase `MiVentana` vemos lo siguiente:"
   ]
  },
  {
   "cell_type": "markdown",
   "metadata": {},
   "source": [
    "```python\n",
    "print(dir(w))\n",
    "```\n",
    "\n",
    "```python\n",
    "['AllowNestedDocks', 'AllowTabbedDocks', 'AnimatedDocks', 'DockOption', 'DockOptions', 'DrawChildren', 'DrawWindowBackground', 'ForceTabbedDocks', 'GroupedDragging', 'IgnoreMask', 'PaintDeviceMetric', 'PdmDepth', 'PdmDevicePixelRatio', 'PdmDevicePixelRatioScaled', 'PdmDpiX', 'PdmDpiY', 'PdmHeight', 'PdmHeightMM', 'PdmNumColors', 'PdmPhysicalDpiX', 'PdmPhysicalDpiY', 'PdmWidth', 'PdmWidthMM', 'RenderFlag', 'RenderFlags', 'VerticalTabs', '__class__', '__delattr__', '__dict__', '__dir__', '__doc__', '__eq__', '__format__', '__ge__', '__getattribute__', '__gt__', '__hash__', '__init__', '__init_subclass__', '__le__', '__lt__', '__module__', '__ne__', '__new__', '__reduce__', '__reduce_ex__', '__repr__', '__setattr__', '__sizeof__', '__str__', '__subclasshook__', '_create_ui', 'acceptDrops', 'accessibleDescription', 'accessibleName', 'actionEvent', 'actions', 'activateWindow', 'addAction', 'addActions', 'addDockWidget', 'addToolBar', 'addToolBarBreak', 'adjustSize', 'autoFillBackground', 'backgroundRole', 'backingStore', 'baseSize', 'blockSignals', 'centralWidget', 'changeEvent', 'childAt', 'childEvent', 'children', 'childrenRect', 'childrenRegion', 'clearFocus', 'clearMask', 'close', 'closeEvent', 'colorCount', 'connect', 'connectNotify', 'contentsMargins', 'contentsRect', 'contextMenuEvent', 'contextMenuPolicy', 'corner', 'create', 'createPopupMenu', 'createWinId', 'createWindowContainer', 'cursor', 'customContextMenuRequested', 'customEvent', 'deleteLater', 'depth', 'destroy', 'destroyed', 'devType', 'devicePixelRatio', 'devicePixelRatioF', 'devicePixelRatioFScale', 'disconnect', 'disconnectNotify', 'dockOptions', 'dockWidgetArea', 'documentMode', 'dragEnterEvent', 'dragLeaveEvent', 'dragMoveEvent', 'dropEvent', 'dumpObjectInfo', 'dumpObjectTree', 'dynamicPropertyNames', 'effectiveWinId', 'emit', 'ensurePolished', 'enterEvent', 'event', 'eventFilter', 'find', 'findChild', 'findChildren', 'focusInEvent', 'focusNextChild', 'focusNextPrevChild', 'focusOutEvent', 'focusPolicy', 'focusPreviousChild', 'focusProxy', 'focusWidget', 'font', 'fontInfo', 'fontMetrics', 'foregroundRole', 'frameGeometry', 'frameSize', 'geometry', 'getContentsMargins', 'grab', 'grabGesture', 'grabKeyboard', 'grabMouse', 'grabShortcut', 'graphicsEffect', 'graphicsProxyWidget', 'hasFocus', 'hasHeightForWidth', 'hasMouseTracking', 'height', 'heightForWidth', 'heightMM', 'hide', 'hideEvent', 'iconSize', 'iconSizeChanged', 'inherits', 'initPainter', 'inputMethodEvent', 'inputMethodHints', 'inputMethodQuery', 'insertAction', 'insertActions', 'insertToolBar', 'insertToolBarBreak', 'installEventFilter', 'internalWinId', 'isActiveWindow', 'isAncestorOf', 'isAnimated', 'isDockNestingEnabled', 'isEnabled', 'isEnabledTo', 'isEnabledToTLW', 'isFullScreen', 'isHidden', 'isLeftToRight', 'isMaximized', 'isMinimized', 'isModal', 'isRightToLeft', 'isSeparator', 'isSignalConnected', 'isTopLevel', 'isVisible', 'isVisibleTo', 'isWidgetType', 'isWindow', 'isWindowModified', 'isWindowType', 'keyPressEvent', 'keyReleaseEvent', 'keyboardGrabber', 'killTimer', 'layout', 'layoutDirection', 'leaveEvent', 'locale', 'logicalDpiX', 'logicalDpiY', 'lower', 'mapFrom', 'mapFromGlobal', 'mapFromParent', 'mapTo', 'mapToGlobal', 'mapToParent', 'mask', 'maximumHeight', 'maximumSize', 'maximumWidth', 'menuBar', 'menuWidget', 'metaObject', 'metric', 'minimumHeight', 'minimumSize', 'minimumSizeHint', 'minimumWidth', 'mouseDoubleClickEvent', 'mouseGrabber', 'mouseMoveEvent', 'mousePressEvent', 'mouseReleaseEvent', 'move', 'moveEvent', 'moveToThread', 'nativeParentWidget', 'nextInFocusChain', 'normalGeometry', 'objectName', 'objectNameChanged', 'overrideWindowFlags', 'overrideWindowState', 'paintEngine', 'paintEvent', 'painters', 'paintingActive', 'palette', 'parent', 'parentWidget', 'physicalDpiX', 'physicalDpiY', 'pos', 'previousInFocusChain', 'property', 'raise_', 'receivers', 'rect', 'redirected', 'registerUserData', 'releaseKeyboard', 'releaseMouse', 'releaseShortcut', 'removeAction', 'removeDockWidget', 'removeEventFilter', 'removeToolBar', 'removeToolBarBreak', 'render', 'repaint', 'resize', 'resizeDocks', 'resizeEvent', 'restoreDockWidget', 'restoreGeometry', 'restoreState', 'saveGeometry', 'saveState', 'scroll', 'sender', 'senderSignalIndex', 'setAcceptDrops', 'setAccessibleDescription', 'setAccessibleName', 'setAnimated', 'setAttribute', 'setAutoFillBackground', 'setBackgroundRole', 'setBaseSize', 'setCentralWidget', 'setContentsMargins', 'setContextMenuPolicy', 'setCorner', 'setCursor', 'setDisabled', 'setDockNestingEnabled', 'setDockOptions', 'setDocumentMode', 'setEnabled', 'setFixedHeight', 'setFixedSize', 'setFixedWidth', 'setFocus', 'setFocusPolicy', 'setFocusProxy', 'setFont', 'setForegroundRole', 'setGeometry', 'setGraphicsEffect', 'setHidden', 'setIconSize', 'setInputMethodHints', 'setLayout', 'setLayoutDirection', 'setLocale', 'setMask', 'setMaximumHeight', 'setMaximumSize', 'setMaximumWidth', 'setMenuBar', 'setMenuWidget', 'setMinimumHeight', 'setMinimumSize', 'setMinimumWidth', 'setMouseTracking', 'setObjectName', 'setPalette', 'setParent', 'setProperty', 'setShortcutAutoRepeat', 'setShortcutEnabled', 'setSizeIncrement', 'setSizePolicy', 'setStatusBar', 'setStatusTip', 'setStyle', 'setStyleSheet', 'setTabOrder', 'setTabPosition', 'setTabShape', 'setToolButtonStyle', 'setToolTip', 'setToolTipDuration', 'setUnifiedTitleAndToolBarOnMac', 'setUpdatesEnabled', 'setVisible', 'setWhatsThis', 'setWindowFilePath', 'setWindowFlags', 'setWindowIcon', 'setWindowIconText', 'setWindowModality', 'setWindowModified', 'setWindowOpacity', 'setWindowRole', 'setWindowState', 'setWindowTitle', 'sharedPainter', 'show', 'showEvent', 'showFullScreen', 'showMaximized', 'showMinimized', 'showNormal', 'signalsBlocked', 'size', 'sizeHint', 'sizeIncrement', 'sizePolicy', 'splitDockWidget', 'stackUnder', 'startTimer', 'staticMetaObject', 'statusBar', 'statusTip', 'style', 'styleSheet', 'tabPosition', 'tabShape', 'tabifiedDockWidgets', 'tabifyDockWidget', 'tabletEvent', 'takeCentralWidget', 'testAttribute', 'thread', 'timerEvent', 'toolBarArea', 'toolBarBreak', 'toolButtonStyle', 'toolButtonStyleChanged', 'toolTip', 'toolTipDuration', 'topLevelWidget', 'tr', 'underMouse', 'ungrabGesture', 'unifiedTitleAndToolBarOnMac', 'unsetCursor', 'unsetLayoutDirection', 'unsetLocale', 'update', 'updateGeometry', 'updateMicroFocus', 'updatesEnabled', 'visibleRegion', 'whatsThis', 'wheelEvent', 'width', 'widthMM', 'winId', 'window', 'windowFilePath', 'windowFlags', 'windowHandle', 'windowIcon', 'windowIconChanged', 'windowIconText', 'windowIconTextChanged', 'windowModality', 'windowOpacity', 'windowRole', 'windowState', 'windowTitle', 'windowTitleChanged', 'windowType', 'x', 'y']\n",
    "```"
   ]
  },
  {
   "cell_type": "markdown",
   "metadata": {},
   "source": [
    "¡¡¡Guauuu!!! Tenemos unas cuantas cosas para toquetear. Algunas ya las hemos estado usando, como los métodos `resize`, `move`, `setWindowTitle`, `setWindowIcon` o `show`. Algunas otras las iremos viendo cuando tenga sentido verlas. De momento quedaos con que es un objeto con bastante funcionalidad."
   ]
  },
  {
   "cell_type": "markdown",
   "metadata": {},
   "source": [
    "## Barra de estado"
   ]
  },
  {
   "cell_type": "markdown",
   "metadata": {},
   "source": [
    "Para que este capítulo no sea tan corto, antes de terminar el mismo vamos a hacer alguna cosita más con esta nueva ventana principal más potente que la que habíamos usado hasta ahora. Vamos a toquetear alguna cosa más para añadir una barra de estado para nuestra aplicación. Como antes, dejo primero el código y luego comentamos:"
   ]
  },
  {
   "cell_type": "markdown",
   "metadata": {},
   "source": [
    "```python\n",
    "'''\n",
    "Curso de creación de GUIs con Qt5 y Python\n",
    "\n",
    "Author: Kiko Correoso\n",
    "Website: pybonacci.org \n",
    "Licencia: MIT\n",
    "'''\n",
    "\n",
    "import os\n",
    "os.environ['QT_API'] = 'pyside2'\n",
    "import sys\n",
    "from pathlib import Path\n",
    "\n",
    "from qtpy.QtWidgets import QApplication, QMainWindow\n",
    "from qtpy.QtGui import QIcon\n",
    "\n",
    "class MiVentana(QMainWindow):\n",
    "    def __init__(self):\n",
    "        super().__init__()\n",
    "        self._create_ui()\n",
    "    \n",
    "    def _create_ui(self):\n",
    "        self.resize(500, 300)\n",
    "        self.move(0, 0)\n",
    "        self.setWindowTitle('Hola, QMainWindow')\n",
    "        ruta_icono = Path('.', 'imgs', 'pybofractal.png')\n",
    "        self.setWindowIcon(QIcon(str(ruta_icono)))\n",
    "        self.statusBar().showMessage('Ready') ## NUEVA LÍNEA\n",
    "        self.show()\n",
    "\n",
    "if __name__ == '__main__':\n",
    "    \n",
    "    app = QApplication(sys.argv)\n",
    "    w = MiVentana()\n",
    "    sys.exit(app.exec_())\n",
    "```"
   ]
  },
  {
   "cell_type": "markdown",
   "metadata": {},
   "source": [
    "Lo único que hemos añadido ha sido la línea:\n",
    "\n",
    "```python\n",
    "self.statusBar().showMessage('Ready')\n",
    "```\n",
    "\n",
    "en la cual usamos el método `showMessage` del widget `QStatusBar`. El widget `QStatusBar` lo obtenemos llamando al método `statusBar` del `QMainWindow`. Como he comentado, `QMainWindow` no es más que un `QWidget` con esteroides y entre estos esteroides tenemos la posibilidad de acceder a una barra de estado que ya ha sido incluida en `QMainWindow`. Si os fijáis de nuevo en todo lo que dispone un `QMainWindow` (el `print(dir(w))` que hemos hecho más arriba) veréis cosas como `menuBar` o `centralWidget`,... Pero no nos adelantemos que luego se complica. Seguimos dando pasitos cortos y sencillos.\n",
    "\n",
    "Este código lo tenéis guardado en el fichero *main01.py* en la carpeta *apps/05-QWidget_QMainWindow_QDialog/* del [repositorio](https://github.com/kikocorreoso/pyboqt)."
   ]
  },
  {
   "cell_type": "markdown",
   "metadata": {},
   "source": [
    "El resultado con la barra de estado lo podéis ver en la imagen siguiente donde abajo a la derecha veis el mensaje que estamos mostrando (*Ready*)."
   ]
  },
  {
   "cell_type": "markdown",
   "metadata": {},
   "source": [
    "![](../imgs/05_01_screenshot.png)"
   ]
  },
  {
   "cell_type": "markdown",
   "metadata": {},
   "source": [
    "Y aquí lo dejamos hoy. En el próximo capítulo seguiremos añadiendo cosas a nuestra *GUI*."
   ]
  }
 ],
 "metadata": {
  "kernelspec": {
   "display_name": "Python 3",
   "language": "python",
   "name": "python3"
  },
  "language_info": {
   "codemirror_mode": {
    "name": "ipython",
    "version": 3
   },
   "file_extension": ".py",
   "mimetype": "text/x-python",
   "name": "python",
   "nbconvert_exporter": "python",
   "pygments_lexer": "ipython3",
   "version": "3.7.6"
  }
 },
 "nbformat": 4,
 "nbformat_minor": 2
}
