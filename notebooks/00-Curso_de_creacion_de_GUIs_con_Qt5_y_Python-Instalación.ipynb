{
 "cells": [
  {
   "cell_type": "markdown",
   "metadata": {},
   "source": [
    "Vamos a empezar un viaje, espero que placentero, por el mundo de las aplicaciones de escritorio usando Python y Qt. **En este capítulo voy a dar un vistazo general del propósito del curso y vamos a prepararnos para el mismo instalando las cosas que necesitaremos**."
   ]
  },
  {
   "cell_type": "markdown",
   "metadata": {},
   "source": [
    "## Índice:\n",
    "\n",
    "* [Instalación de lo que vamos a necesitar](https://pybonacci.org/2019/11/12/curso-de-creacion-de-guis-con-qt-capitulo-00:-instalacion/) (este capítulo).\n",
    "* [Qt, versiones y diferencias](https://pybonacci.org/2019/11/21/curso-de-creacion-de-guis-con-qt5-y-python-capitulo-01-qt-versiones-y-bindings/).\n",
    "* [Hola, Mundo](https://pybonacci.org/2019/11/26/curso-de-creacion-de-guis-con-qt5-y-python-capitulo-02-hola-mundo/).\n",
    "* [Módulos en Qt](https://pybonacci.org/2019/12/02/curso-de-creacion-de-guis-con-qt5-y-python-capitulo-03-modulos-qt/).\n",
    "* [Añadimos icono a la ventana principal](https://pybonacci.org/2019/12/26/curso-de-creacion-de-guis-con-qt5-y-python-capitulo-04-icono-de-la-ventana/).\n",
    "* [Tipos de ventana en un GUI](https://pybonacci.org/2020/01/31/curso-de-creacion-de-guis-con-qt-capitulo-05-ventanas-principales-diferencias/).\n",
    "* [Ventana de inicio – SplashScreen](https://pybonacci.org/2020/02/26/curso-de-creacion-de-guis-con-qt-capitulo-06-splash-screen/).\n",
    "* [Menu principal. Introducción](https://pybonacci.org/2020/03/18/curso-de-creacion-de-guis-con-qt-capitulo-07-menu/).\n",
    "* [Mejorando algunas cosas vistas](https://pybonacci.org/2020/03/26/curso-de-creacion-de-guis-con-qt-capitulo-08-mejorando-lo-visto/).\n",
    "* [Gestión de eventos o Acción y reacción](https://pybonacci.org/2020/03/27/curso-de-creacion-de-guis-con-qt-capitulo-09-signals-y-slots/).\n",
    "* [Introducción a Designer](https://pybonacci.org/2020/04/14/curso-de-creacion-de-guis-con-qt-capitulo-10-introduccion-a-designer/).\n",
    "* [Los Widgets vistos a través de Designer: Primera parte](https://pybonacci.org/2020/05/01/curso-de-creacion-de-guis-con-qt-capitulo-11-widgets-en-designer-i/).\n",
    "* [Los Widgets vistos a través de Designer: Segunda parte](https://pybonacci.org/2020/05/02/curso-de-creacion-de-guis-con-qt-capitulo-12:-widgets-en-designer-(ii)/).\n",
    "* [Los Widgets vistos a través de Designer: Tercera parte](https://pybonacci.org/2020/05/03/curso-de-creacion-de-guis-con-qt-capitulo-13-widgets-en-designer-iii/).\n",
    "* [Los Widgets vistos a través de Designer: Cuarta parte](https://pybonacci.org/2020/05/04/curso-de-creacion-de-guis-con-qt-capitulo-14-widgets-en-designer-iv/).\n",
    "* [Los Widgets vistos a través de Designer: Quinta parte](https://pybonacci.org/2020/05/05/curso-de-creacion-de-guis-con-qt-capitulo-15-widgets-en-designer-v/).\n",
    "* [Los Widgets vistos a través de Designer: Sexta parte](https://pybonacci.org/2020/05/06/curso-de-creacion-de-guis-con-qt-capitulo-16:-widgets-en-designer-(vi)/).\n",
    "* TBD… (lo actualizaré cuando tenga más claro los siguientes pasos)."
   ]
  },
  {
   "cell_type": "markdown",
   "metadata": {},
   "source": [
    "Después de un largo tiempo:\n",
    "\n",
    "[![](../imgs/Tuit.png)](https://twitter.com/Dr_Meteo/status/929813524167176192?ref_src=twsrc%5Etfw)\n",
    "\n",
    "me encuentro con que el tutorial lleva un buen tiempo aparcado y pensando que, si lo comienzo, no sé hasta donde llegará... \n",
    "\n",
    "Por tanto, me gustaría, antes de empezar, advertiros que:\n",
    "\n",
    "- Tengo muchas ideas para el tutorial por lo que hay muchas cosas abiertas y puede que acabe siendo algo errático...\n",
    "- No tengo claro que el tiempo del que dispongo me permitirá poder llevarlo a buen puerto.\n",
    "\n",
    "Pero como el camino se hace caminando voy a empezar el tutorial. Mejor un poco que nada.\n",
    "\n",
    "Lo dicho, ¡ahí vamos!"
   ]
  },
  {
   "cell_type": "markdown",
   "metadata": {},
   "source": [
    "## Idea principal del tutorial"
   ]
  },
  {
   "cell_type": "markdown",
   "metadata": {},
   "source": [
    "La idea básica es ver Qt5 desde Python alejándonos del típico 'Hola, Mundo' e intentando llegar a hacer una aplicación completa para distribuir. Espero que, independientemente de lo que consigamos al final, vayamos haciendo pequeñas tareas, pasemos un buen rato y aprendamos cosas.\n",
    "\n",
    "Como he comentado, la idea del 'producto' final todavía no la tengo clara y varias ideas van rondando por mi cabeza.\n",
    "\n",
    "Cada entrada del blog será una pequeña receta. Las distintas recetas irán dando forma a la aplicación general que, repito, todavía no tengo muy clara. Por tanto, tendremos un hilo conductor, que será nuestra aplicación general e iremos dando pasos para adelante y para detrás con las recetas, muchas de las cuales se irán integrando en nuestra aplicación general."
   ]
  },
  {
   "cell_type": "markdown",
   "metadata": {},
   "source": [
    "## Empezando"
   ]
  },
  {
   "cell_type": "markdown",
   "metadata": {},
   "source": [
    "Como siempre, hay que empezar por el principio y, en este caso, el principio va a ser preparar nuestro entorno de trabajo:\n",
    "\n",
    "1. Necesitaremos instalar un intérprete de CPython. En todo momento considero que usáis Anaconda o Miniconda que es el entorno que voy a usar a lo largo de todo el tutorial. Por tanto, el primer paso sería instalar Anaconda o Miniconda si no lo tenéis instalado.\n",
    "\n",
    "2. El segundo paso sería crear un entorno virtual donde se incluya todo lo que vamos a ir necesitando."
   ]
  },
  {
   "cell_type": "markdown",
   "metadata": {},
   "source": [
    "## 1. Instalación de Anaconda o Miniconda\n",
    "\n",
    "Para lo primero he preparado varios vídeos intentando que la instalación os resulte lo más sencilla posible. Recordad, no tenéis que instalar Anaconda y Miniconda, solo uno de los dos. Os recomiendo Miniconda por ser mucho más ligero y porque no os instala paquetes que, seguramente, no usaréis jamás:\n",
    "\n",
    "**Instalación de Anaconda en Linux (o MacOS)**\n",
    "\n",
    "<iframe width=\"560\" height=\"315\" src=\"https://www.youtube-nocookie.com/embed/b9LV1J7vPuw?rel=0\" frameborder=\"0\" allow=\"autoplay; encrypted-media\" allowfullscreen></iframe>\n",
    "\n",
    "**Instalación de Anaconda en Windows**\n",
    "\n",
    "<iframe width=\"560\" height=\"315\" src=\"https://www.youtube-nocookie.com/embed/MSnNTODnSBg?rel=0\" frameborder=\"0\" allow=\"autoplay; encrypted-media\" allowfullscreen></iframe>\n",
    "\n",
    "**Instalación de Miniconda en Linux (o MacOS)**\n",
    "\n",
    "<iframe width=\"560\" height=\"315\" src=\"https://www.youtube-nocookie.com/embed/liqnwft_cbs?rel=0\" frameborder=\"0\" allow=\"autoplay; encrypted-media\" allowfullscreen></iframe>\n",
    "\n",
    "**Instalación de Miniconda en Windows**\n",
    "\n",
    "<iframe width=\"560\" height=\"315\" src=\"https://www.youtube-nocookie.com/embed/aYhlDfGhwuU?rel=0\" frameborder=\"0\" allow=\"autoplay; encrypted-media\" allowfullscreen></iframe>"
   ]
  },
  {
   "cell_type": "markdown",
   "metadata": {},
   "source": [
    "## 2. Creando un entorno virtual\n",
    "\n",
    "Para lo segundo, una vez que ya esté instalado Anaconda o Miniconda, tenéis que hacer lo siguiente desde una terminal ([Anaconda Prompt en windows](https://stackoverflow.com/a/47915189)).\n",
    "\n",
    "<div class=\"alert alert-danger\">\n",
    "Copiais lo siguiente en la línea de comandos y pulsáis Intro:\n",
    "\n",
    "```\n",
    "python -c \"import urllib.request; urllib.request.urlretrieve('https://raw.githubusercontent.com/kikocorreoso/pyboqt/master/environment.yml', 'environment.yml')\"\n",
    "```\n",
    "\n",
    "Lo anterior os habrá descargado un fichero que se llama *environment.yml* en la carpeta donde esté localizada la línea de comandos.\n",
    "</div>\n",
    "\n",
    "Después tenéis que copiar lo siguiente en la línea de comandos y pulsáis Intro:\n",
    "\n",
    "```\n",
    "conda env create -f environment.yml\n",
    "```\n",
    "\n",
    "Lo anterior os instalará todo lo que vamos a necesitar en un entorno virtual *conda* que se llamará *pyboqt*.\n",
    "\n",
    "Por último, para activar el entorno virtual, haced lo siguiente desde la línea de comandos:\n",
    "\n",
    "```\n",
    "conda activate pyboqt\n",
    "```\n",
    "\n",
    "Para desactivar el entorno virtual podéis hacer (desde la línea de comandos):\n",
    "\n",
    "```\n",
    "conda deactivate\n",
    "```"
   ]
  },
  {
   "cell_type": "markdown",
   "metadata": {},
   "source": [
    "## Estamos listos"
   ]
  },
  {
   "cell_type": "markdown",
   "metadata": {},
   "source": [
    "Con lo anterior deberiamos estar listos para poder empezar este tutorial. En las primeras entregas vamos a ver, por supuesto, el 'Hola Mundo' de rigor y algunas generalidades más del mundo Qt5.\n",
    "\n",
    "¡¡¡¡Estad atentos!!!!"
   ]
  }
 ],
 "metadata": {
  "kernelspec": {
   "display_name": "Python 3",
   "language": "python",
   "name": "python3"
  },
  "language_info": {
   "codemirror_mode": {
    "name": "ipython",
    "version": 3
   },
   "file_extension": ".py",
   "mimetype": "text/x-python",
   "name": "python",
   "nbconvert_exporter": "python",
   "pygments_lexer": "ipython3",
   "version": "3.7.6"
  }
 },
 "nbformat": 4,
 "nbformat_minor": 2
}
