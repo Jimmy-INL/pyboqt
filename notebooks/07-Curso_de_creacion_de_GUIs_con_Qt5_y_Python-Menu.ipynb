{
 "cells": [
  {
   "cell_type": "markdown",
   "metadata": {},
   "source": [
    "Una ventana de una aplicación compleja dispone de muchas cosas y entre estas cosas suele haber un menú para poder acceder a la mayor parte de la funcionalidad de la misma de forma ordenada y organizada. **En este capítulo describo cómo escribir menús y submenus de la ventana principal y algunas peculiaridades más de Qt**."
   ]
  },
  {
   "cell_type": "markdown",
   "metadata": {},
   "source": [
    "Índice:\n",
    "\n",
    "* [Instalación de lo que vamos a necesitar](https://pybonacci.org/2019/11/12/curso-de-creacion-de-guis-con-qt5-y-python-capitulo-00-instalacion/).\n",
    "* [Qt, versiones y diferencias](https://pybonacci.org/2019/11/21/curso-de-creacion-de-guis-con-qt5-y-python-capitulo-01-qt-versiones-y-bindings/).\n",
    "* [Hola, Mundo](https://pybonacci.org/2019/11/26/curso-de-creacion-de-guis-con-qt5-y-python-capitulo-02-hola-mundo/).\n",
    "* [Módulos en Qt](https://pybonacci.org/2019/12/02/curso-de-creacion-de-guis-con-qt5-y-python-capitulo-03-modulos-qt/).\n",
    "* [Añadimos icono a la ventana principal](https://pybonacci.org/2019/12/26/curso-de-creacion-de-guis-con-qt5-y-python-capitulo-04-icono-de-la-ventana/).\n",
    "* [Tipos de ventana en un GUI](https://pybonacci.org/2020/01/31/curso-de-creacion-de-guis-con-qt-capitulo-05-ventanas-principales-diferencias/).\n",
    "* [Ventana inicial de carga o Splashscreen](https://pybonacci.org/2020/02/26/curso-de-creacion-de-guis-con-qt-capitulo-06-splash-screen/)\n",
    "* [Menu principal. Introducción](https://pybonacci.org/2020/03/18/curso-de-creacion-de-guis-con-qt-capitulo-07-menu/) (este capítulo).\n",
    "* [Mejorando algunas cosas vistas](https://pybonacci.org/2020/03/26/curso-de-creacion-de-guis-con-qt-capitulo-08-mejorando-lo-visto/).\n",
    "* [Gestión de eventos o Acción y reacción](https://pybonacci.org/2020/03/27/curso-de-creacion-de-guis-con-qt-capitulo-09-signals-y-slots/).\n",
    "* [Introducción a Designer](https://pybonacci.org/2020/04/14/curso-de-creacion-de-guis-con-qt-capitulo-10-introduccion-a-designer/).\n",
    "* [Los Widgets vistos a través de Designer: Primera parte](https://pybonacci.org/2020/05/01/curso-de-creacion-de-guis-con-qt-capitulo-11-widgets-en-designer-i/).\n",
    "* [Los Widgets vistos a través de Designer: Segunda parte](https://pybonacci.org/2020/05/02/curso-de-creacion-de-guis-con-qt-capitulo-12:-widgets-en-designer-(ii)/).\n",
    "* [Los Widgets vistos a través de Designer: Tercera parte](https://pybonacci.org/2020/05/03/curso-de-creacion-de-guis-con-qt-capitulo-13-widgets-en-designer-iii/).\n",
    "* [Los Widgets vistos a través de Designer: Cuarta parte](https://pybonacci.org/2020/05/04/curso-de-creacion-de-guis-con-qt-capitulo-14-widgets-en-designer-iv/).\n",
    "* [Los Widgets vistos a través de Designer: Quinta parte](https://pybonacci.org/2020/05/05/curso-de-creacion-de-guis-con-qt-capitulo-15-widgets-en-designer-v/).\n",
    "* [Los Widgets vistos a través de Designer: Sexta parte](https://pybonacci.org/2020/05/06/curso-de-creacion-de-guis-con-qt-capitulo-16:-widgets-en-designer-(vi)/).\n",
    "* TBD… (lo actualizaré cuando tenga más claro los siguientes pasos)."
   ]
  },
  {
   "cell_type": "markdown",
   "metadata": {},
   "source": [
    "**[Los materiales para este capítulo los podéis descargar de [aquí](https://github.com/kikocorreoso/pyboqt/tree/chapter07)]**"
   ]
  },
  {
   "cell_type": "markdown",
   "metadata": {},
   "source": [
    "**[INSTALACIÓN] Si todavía no has pasado por el [inicio del curso, donde explico cómo poner a punto todo](https://pybonacci.org/2019/11/12/curso-de-creacion-de-guis-con-qt5-y-python-capitulo-00-instalacion/), ahora es un buen momento para hacerlo y después podrás seguir con esta nueva receta.**"
   ]
  },
  {
   "cell_type": "markdown",
   "metadata": {},
   "source": [
    "Partimos del último código que dejamos en el [capítulo 5](https://pybonacci.org/2020/01/31/curso-de-creacion-de-guis-con-qt-capitulo-05-ventanas-principales-diferencias/) (de momento aparcamos [el *Splash Screen*](https://pybonacci.org/2020/02/26/curso-de-creacion-de-guis-con-qt-capitulo-06-splash-screen/)):"
   ]
  },
  {
   "cell_type": "markdown",
   "metadata": {},
   "source": [
    "```python\n",
    "'''\n",
    "Curso de creación de GUIs con Qt5 y Python\n",
    "\n",
    "Author: Kiko Correoso\n",
    "Website: pybonacci.org \n",
    "Licencia: MIT\n",
    "'''\n",
    "\n",
    "import os\n",
    "os.environ['QT_API'] = 'pyside2'\n",
    "import sys\n",
    "from pathlib import Path\n",
    "\n",
    "from qtpy.QtWidgets import QApplication, QMainWindow\n",
    "from qtpy.QtGui import QIcon\n",
    "\n",
    "class MiVentana(QMainWindow):\n",
    "    def __init__(self):\n",
    "        super().__init__()\n",
    "        self._create_ui()\n",
    "    \n",
    "    def _create_ui(self):\n",
    "        self.resize(500, 300)\n",
    "        self.move(0, 0)\n",
    "        self.setWindowTitle('Hola, QMainWindow')\n",
    "        ruta_icono = Path('.', 'imgs', 'pybofractal.png')\n",
    "        self.setWindowIcon(QIcon(str(ruta_icono)))\n",
    "        self.statusBar().showMessage('Ready')\n",
    "        self.show()\n",
    "\n",
    "if __name__ == '__main__':\n",
    "    \n",
    "    app = QApplication(sys.argv)\n",
    "    w = MiVentana()\n",
    "    sys.exit(app.exec_())\n",
    "```"
   ]
  },
  {
   "cell_type": "markdown",
   "metadata": {},
   "source": [
    "## Barra de menú y menús"
   ]
  },
  {
   "cell_type": "markdown",
   "metadata": {},
   "source": [
    "Al código anterior le quiero añadir un menu. Si inspeccionamos `w`, la instancia de `MiVentana`, vemos que tiene lo siguiente:"
   ]
  },
  {
   "cell_type": "markdown",
   "metadata": {},
   "source": [
    "```python\n",
    "print(dir(w))\n",
    "```"
   ]
  },
  {
   "cell_type": "markdown",
   "metadata": {},
   "source": [
    "Nos devuelve lo siguiente:\n",
    "\n",
    "```python\n",
    "['AllowNestedDocks', 'AllowTabbedDocks', 'AnimatedDocks', 'DockOption', 'DockOptions', 'DrawChildren', 'DrawWindowBackground', 'ForceTabbedDocks', 'GroupedDragging', 'IgnoreMask', 'PaintDeviceMetric', 'PdmDepth', 'PdmDevicePixelRatio', 'PdmDevicePixelRatioScaled', 'PdmDpiX', 'PdmDpiY', 'PdmHeight', 'PdmHeightMM', 'PdmNumColors', 'PdmPhysicalDpiX', 'PdmPhysicalDpiY', 'PdmWidth', 'PdmWidthMM', 'RenderFlag', 'RenderFlags', 'VerticalTabs', '__class__', '__delattr__', '__dict__', '__dir__', '__doc__', '__eq__', '__format__', '__ge__', '__getattr__', '__getattribute__', '__gt__', '__hash__', '__init__', '__init_subclass__', '__le__', '__lt__', '__module__', '__ne__', '__new__', '__reduce__', '__reduce_ex__', '__repr__', '__setattr__', '__sizeof__', '__str__', '__subclasshook__', '__weakref__', '_create_menu', '_create_ui', 'acceptDrops', 'accessibleDescription', 'accessibleName', 'actionEvent', 'actions', 'activateWindow', 'addAction', 'addActions', 'addDockWidget', 'addToolBar', 'addToolBarBreak', 'adjustSize', 'autoFillBackground', 'backgroundRole', 'baseSize', 'blockSignals', 'centralWidget', 'changeEvent', 'childAt', 'childEvent', 'children', 'childrenRect', 'childrenRegion', 'clearFocus', 'clearMask', 'close', 'closeEvent', 'colorCount', 'connectNotify', 'contentsMargins', 'contentsRect', 'contextMenuEvent', 'contextMenuPolicy', 'corner', 'create', 'createPopupMenu', 'createWindowContainer', 'cursor', 'customContextMenuRequested', 'customEvent', 'deleteLater', 'depth', 'destroy', 'destroyed', 'devType', 'devicePixelRatio', 'devicePixelRatioF', 'devicePixelRatioFScale', 'disconnect', 'disconnectNotify', 'dockOptions', 'dockWidgetArea', 'documentMode', 'dragEnterEvent', 'dragLeaveEvent', 'dragMoveEvent', 'dropEvent', 'dumpObjectInfo', 'dumpObjectTree', 'dynamicPropertyNames', 'effectiveWinId', 'ensurePolished', 'enterEvent', 'event', 'eventFilter', 'find', 'findChild', 'findChildren', 'focusInEvent', 'focusNextChild', 'focusNextPrevChild', 'focusOutEvent', 'focusPolicy', 'focusPreviousChild', 'focusProxy', 'focusWidget', 'font', 'fontInfo', 'fontMetrics', 'foregroundRole', 'frameGeometry', 'frameSize', 'geometry', 'getContentsMargins', 'grab', 'grabGesture', 'grabKeyboard', 'grabMouse', 'grabShortcut', 'graphicsEffect', 'graphicsProxyWidget', 'hasFocus', 'hasHeightForWidth', 'hasMouseTracking', 'hasTabletTracking', 'height', 'heightForWidth', 'heightMM', 'hide', 'hideEvent', 'iconSize', 'iconSizeChanged', 'inherits', 'initPainter', 'inputMethodEvent', 'inputMethodHints', 'inputMethodQuery', 'insertAction', 'insertActions', 'insertToolBar', 'insertToolBarBreak', 'installEventFilter', 'isActiveWindow', 'isAncestorOf', 'isAnimated', 'isDockNestingEnabled', 'isEnabled', 'isEnabledTo', 'isFullScreen', 'isHidden', 'isLeftToRight', 'isMaximized', 'isMinimized', 'isModal', 'isRightToLeft', 'isSeparator', 'isSignalConnected', 'isVisible', 'isVisibleTo', 'isWidgetType', 'isWindow', 'isWindowModified', 'isWindowType', 'keyPressEvent', 'keyReleaseEvent', 'keyboardGrabber', 'killTimer', 'layout', 'layoutDirection', 'leaveEvent', 'locale', 'logicalDpiX', 'logicalDpiY', 'lower', 'mapFrom', 'mapFromGlobal', 'mapFromParent', 'mapTo', 'mapToGlobal', 'mapToParent', 'mask', 'maximumHeight', 'maximumSize', 'maximumWidth', 'menuBar', 'menuWidget', 'metaObject', 'metric', 'minimumHeight', 'minimumSize', 'minimumSizeHint', 'minimumWidth', 'mouseDoubleClickEvent', 'mouseGrabber', 'mouseMoveEvent', 'mousePressEvent', 'mouseReleaseEvent', 'move', 'moveEvent', 'moveToThread', 'nativeEvent', 'nativeParentWidget', 'nextInFocusChain', 'normalGeometry', 'objectName', 'objectNameChanged', 'overrideWindowFlags', 'overrideWindowState', 'paintEngine', 'paintEvent', 'paintingActive', 'palette', 'parent', 'parentWidget', 'physicalDpiX', 'physicalDpiY', 'pos', 'previousInFocusChain', 'property', 'pyqtConfigure', 'raise_', 'receivers', 'rect', 'releaseKeyboard', 'releaseMouse', 'releaseShortcut', 'removeAction', 'removeDockWidget', 'removeEventFilter', 'removeToolBar', 'removeToolBarBreak', 'render', 'repaint', 'resize', 'resizeDocks', 'resizeEvent', 'restoreDockWidget', 'restoreGeometry', 'restoreState', 'saveGeometry', 'saveState', 'scroll', 'sender', 'senderSignalIndex', 'setAcceptDrops', 'setAccessibleDescription', 'setAccessibleName', 'setAnimated', 'setAttribute', 'setAutoFillBackground', 'setBackgroundRole', 'setBaseSize', 'setCentralWidget', 'setContentsMargins', 'setContextMenuPolicy', 'setCorner', 'setCursor', 'setDisabled', 'setDockNestingEnabled', 'setDockOptions', 'setDocumentMode', 'setEnabled', 'setFixedHeight', 'setFixedSize', 'setFixedWidth', 'setFocus', 'setFocusPolicy', 'setFocusProxy', 'setFont', 'setForegroundRole', 'setGeometry', 'setGraphicsEffect', 'setHidden', 'setIconSize', 'setInputMethodHints', 'setLayout', 'setLayoutDirection', 'setLocale', 'setMask', 'setMaximumHeight', 'setMaximumSize', 'setMaximumWidth', 'setMenuBar', 'setMenuWidget', 'setMinimumHeight', 'setMinimumSize', 'setMinimumWidth', 'setMouseTracking', 'setObjectName', 'setPalette', 'setParent', 'setProperty', 'setShortcutAutoRepeat', 'setShortcutEnabled', 'setSizeIncrement', 'setSizePolicy', 'setStatusBar', 'setStatusTip', 'setStyle', 'setStyleSheet', 'setTabOrder', 'setTabPosition', 'setTabShape', 'setTabletTracking', 'setToolButtonStyle', 'setToolTip', 'setToolTipDuration', 'setUnifiedTitleAndToolBarOnMac', 'setUpdatesEnabled', 'setVisible', 'setWhatsThis', 'setWindowFilePath', 'setWindowFlag', 'setWindowFlags', 'setWindowIcon', 'setWindowIconText', 'setWindowModality', 'setWindowModified', 'setWindowOpacity', 'setWindowRole', 'setWindowState', 'setWindowTitle', 'sharedPainter', 'show', 'showEvent', 'showFullScreen', 'showMaximized', 'showMinimized', 'showNormal', 'signalsBlocked', 'size', 'sizeHint', 'sizeIncrement', 'sizePolicy', 'splitDockWidget', 'stackUnder', 'startTimer', 'staticMetaObject', 'statusBar', 'statusTip', 'style', 'styleSheet', 'tabPosition', 'tabShape', 'tabifiedDockWidgetActivated', 'tabifiedDockWidgets', 'tabifyDockWidget', 'tabletEvent', 'takeCentralWidget', 'testAttribute', 'thread', 'timerEvent', 'toolBarArea', 'toolBarBreak', 'toolButtonStyle', 'toolButtonStyleChanged', 'toolTip', 'toolTipDuration', 'tr', 'underMouse', 'ungrabGesture', 'unifiedTitleAndToolBarOnMac', 'unsetCursor', 'unsetLayoutDirection', 'unsetLocale', 'update', 'updateGeometry', 'updateMicroFocus', 'updatesEnabled', 'visibleRegion', 'whatsThis', 'wheelEvent', 'width', 'widthMM', 'winId', 'window', 'windowFilePath', 'windowFlags', 'windowHandle', 'windowIcon', 'windowIconChanged', 'windowIconText', 'windowIconTextChanged', 'windowModality', 'windowOpacity', 'windowRole', 'windowState', 'windowTitle', 'windowTitleChanged', 'windowType', 'x', 'y']\n",
    "```"
   ]
  },
  {
   "cell_type": "markdown",
   "metadata": {},
   "source": [
    "Los observadores puede que se hayan dado cuenta de la existencia de `menuBar`... Como ya comentamos en el [capítulo 5](https://pybonacci.org/2020/01/31/curso-de-creacion-de-guis-con-qt-capitulo-05-ventanas-principales-diferencias/) un `QMainWindow` no es más que un `QWidget` con algunas cosas más. Entre estas cosas ya [vimos (en el capítulo 5)](https://pybonacci.org/2020/01/31/curso-de-creacion-de-guis-con-qt-capitulo-05-ventanas-principales-diferencias/) que tenía un `statusBar` y, vemos ahora, también tiene un `menuBar`. Vamos a hacer uso del mismo. Escribo un poco de código nuevo. Cada nueva línea de código se puede identificar porque lleva el comentario `## NUEVA LÍNEA` al final, como hemos venido haciendo hasta ahora:"
   ]
  },
  {
   "cell_type": "markdown",
   "metadata": {},
   "source": [
    "```python\n",
    "'''\n",
    "Curso de creación de GUIs con Qt5 y Python\n",
    "\n",
    "Author: Kiko Correoso\n",
    "Website: pybonacci.org \n",
    "Licencia: MIT\n",
    "'''\n",
    "\n",
    "import os\n",
    "os.environ['QT_API'] = 'pyside2'\n",
    "import sys\n",
    "from pathlib import Path\n",
    "\n",
    "from qtpy.QtWidgets import QApplication, QMainWindow\n",
    "from qtpy.QtGui import QIcon\n",
    "\n",
    "class MiVentana(QMainWindow):\n",
    "    def __init__(self):\n",
    "        super().__init__()\n",
    "        self._create_ui()\n",
    "    \n",
    "    def _create_ui(self):\n",
    "        self.resize(500, 300)\n",
    "        self.move(0, 0)\n",
    "        self.setWindowTitle('Hola, QMainWindow')\n",
    "        ruta_icono = Path('.', 'imgs', 'pybofractal.png')\n",
    "        self.setWindowIcon(QIcon(str(ruta_icono)))\n",
    "        self.statusBar().showMessage('Ready')\n",
    "        self._create_menu() ## NUEVA LÍNEA\n",
    "        self.show()\n",
    "    \n",
    "    def _create_menu(self): ## NUEVA LÍNEA\n",
    "        menubar = self.menuBar() ## NUEVA LÍNEA\n",
    "        file_menu = menubar.addMenu('&File') ## NUEVA LÍNEA\n",
    "        help_menu = menubar.addMenu('&Help') ## NUEVA LÍNEA\n",
    "\n",
    "if __name__ == '__main__':\n",
    "    \n",
    "    app = QApplication(sys.argv)\n",
    "    w = MiVentana()\n",
    "    sys.exit(app.exec_())\n",
    "```"
   ]
  },
  {
   "cell_type": "markdown",
   "metadata": {},
   "source": [
    "Podéis guardar el anterior código en un fichero que se llame *main00.py* o, si habéis descargado el [repositorio](https://github.com/kikocorreoso/pyboqt/releases/tag/chapter07), podéis usar el que se encuentra en la carpeta *apps/07-MenuPrincipal*. Lo podéis ejecutar con el terminal en el mismo sitio donde está el programa haciendo (si no os sale el icono es porque no lo tenéis metido en la carpeta *apps/07-MenuPrincipal/imgs*:\n",
    "\n",
    "```\n",
    "python main00.py\n",
    "```\n",
    "\n",
    "Si todo funciona correctamente deberíais ver una ventana como la siguiente:\n",
    "\n",
    "![](../imgs/07_01_menu.png)"
   ]
  },
  {
   "cell_type": "markdown",
   "metadata": {},
   "source": [
    "En esa ventana se ve que tenemos dos menús, uno llamado *File* y otro llamado *Help*. Si pulsáis sobre ellos no pasará nada porque nos falta meter más cosas. Pero antes vamos a comentar el código nuevo."
   ]
  },
  {
   "cell_type": "markdown",
   "metadata": {},
   "source": [
    "----------------------\n",
    "```python\n",
    "        self._create_menu()\n",
    "```\n",
    "\n",
    "Esta es fácil... Dentro del método `_create_ui` llamamos al método `_create_menu`. En el segundo es dónde me he dedicado a gestionar la creación del menú."
   ]
  },
  {
   "cell_type": "markdown",
   "metadata": {},
   "source": [
    "----------------------\n",
    "```python\n",
    "    def _create_menu(self)\n",
    "        menubar = self.menuBar()\n",
    "        file_menu = menubar.addMenu('&File')\n",
    "        help_menu = menubar.addMenu('&Help')\n",
    "```\n",
    "\n",
    "En este método, primero creamos una instancia de `QMenuBar` usando el método `menuBar` del `QMainWindow` y la guardamos en la variable `menubar`. En la instancia de `QMenuBar` tenemos el método `addMenu` que nos permite añadir menús a la barra de menús. El método `addMenu` recibe un *string*. En el *string* estoy usando un símbolo `&` y luego lo que quiero que aparezca en el manú (e.g., `'&File'` para que se vea *File* en el GUI. ¿Para qué sirve el *ampersand*, \"&\"? Es una forma rápida y sencilla de navegación. Cuando esté el GUI activo, si pulso sobre la tecla \"Alt\" hay varias letras del GUI que se verán subrrayadas, en el caso de nuestro GUI serán la F y la H. Si después de pulsar \"Alt\" pulsamos \"F\" será una forma de usar el teclado para navegar por nuestro GUI. Este sería un buen momento para experimentar y ejecutar el código cambiando la siguiente linea:\n",
    "\n",
    "```python\n",
    "        file_menu = menubar.addMenu('&File')\n",
    "```\n",
    "\n",
    "Con\n",
    "\n",
    "```python\n",
    "        file_menu = menubar.addMenu('File')\n",
    "```\n",
    "\n",
    "o\n",
    "\n",
    "```python\n",
    "        file_menu = menubar.addMenu('Fil&e')\n",
    "```\n",
    "\n",
    "Si quitamos el *ampersand*, \"&\", perdemos la navegación rápida con teclado para el menú *File*. Si movemos el *ampersand*, \"&\", a otra letra podremos usar esa otra letra para nuestra navegación rápida con teclado."
   ]
  },
  {
   "cell_type": "markdown",
   "metadata": {},
   "source": [
    "Muy bien, ya tenemos un menú pero lo normal es que el menú se despliegue y nos muestre opciones."
   ]
  },
  {
   "cell_type": "markdown",
   "metadata": {},
   "source": [
    "Pero antes vamos a hacer un inciso para hablar de `qtawesome`."
   ]
  },
  {
   "cell_type": "markdown",
   "metadata": {},
   "source": [
    "## `qtawesome`"
   ]
  },
  {
   "cell_type": "markdown",
   "metadata": {},
   "source": [
    "Todas las aplicaciones quedan más bonitas y usables si usamos iconos bonitos y que nos informen de forma rápida de posibles interacciones que podemos hacer con el GUI. Una forma sencilla de integrar este tipo de iconos es usando la [biblioteca `qtawesome`](https://github.com/spyder-ide/qtawesome) desarrollada por el equipo de gente detrás de [**spyder-ide**](https://www.spyder-ide.org/). Esta biblioteca nos permite integrar de forma sencilla iconos de varios paquetes como [FontAwesome](https://fontawesome.com/), [ElusiveIcons](http://elusiveicons.com/icons/) o [MaterialDesignIcons](https://cdn.materialdesignicons.com/4.5.95/).\n",
    "\n",
    "Por tanto, para poder usar `qtawesome` antes lo tendréis que instalar en el entorno `pyboqt` que venimos usando. Para ello, hacemos lo siguiente en la terminal (o Anaconda Prompt si estás en Windows):"
   ]
  },
  {
   "cell_type": "markdown",
   "metadata": {},
   "source": [
    "```\n",
    "conda activate pyboqt\n",
    "```"
   ]
  },
  {
   "cell_type": "markdown",
   "metadata": {},
   "source": [
    "```\n",
    "conda install qtawesome\n",
    "```"
   ]
  },
  {
   "cell_type": "markdown",
   "metadata": {},
   "source": [
    "Para usar un icono de, por ejemplo, FontAwesome podemos hacer lo siguiente:"
   ]
  },
  {
   "cell_type": "markdown",
   "metadata": {},
   "source": [
    "```python\n",
    "import qtawesome as qta\n",
    "\n",
    "icono = qta.icon('fa5.times-circle')\n",
    "```"
   ]
  },
  {
   "cell_type": "markdown",
   "metadata": {},
   "source": [
    "Y en `icono` ya tendriamos una instancia de `QIcon` con el icono [*times-circle* de FontAwesome](https://fontawesome.com/icons/times-circle?style=solid) listo para usarlo en el GUI.\n",
    "\n",
    "Esto ha sido un vistazo muy rápido a `qtawesome`. Para saber más le puedes echar un ojo a la [documentación](https://qtawesome.readthedocs.io/en/latest/). Para lo que vamos a hacer hoy con lo que he explicado nos vale."
   ]
  },
  {
   "cell_type": "markdown",
   "metadata": {},
   "source": [
    "## Elementos del menú"
   ]
  },
  {
   "cell_type": "markdown",
   "metadata": {},
   "source": [
    "Volvemos a los menús..."
   ]
  },
  {
   "cell_type": "markdown",
   "metadata": {},
   "source": [
    "Para ver cómo añadir elementos a un menú vamos a volver a escribir nuevo código y lo vamos explicando. Y, como siempre, las nuevas líneas vendrán destacadas con el comentario `## NUEVA LÍNEA`:"
   ]
  },
  {
   "cell_type": "markdown",
   "metadata": {},
   "source": [
    "```python\n",
    "'''\n",
    "Curso de creación de GUIs con Qt5 y Python\n",
    "\n",
    "Author: Kiko Correoso\n",
    "Website: pybonacci.org \n",
    "Licencia: MIT\n",
    "'''\n",
    "\n",
    "import os\n",
    "os.environ['QT_API'] = 'pyside2'\n",
    "import sys\n",
    "from pathlib import Path\n",
    "\n",
    "from qtpy.QtWidgets import QApplication, QMainWindow, QAction ## NUEVA LÍNEA\n",
    "from qtpy.QtGui import QIcon\n",
    "import qtawesome as qta ## NUEVA LÍNEA\n",
    "\n",
    "\n",
    "class MiVentana(QMainWindow):\n",
    "    def __init__(self):\n",
    "        super().__init__()\n",
    "        self._create_ui()\n",
    "    \n",
    "    def _create_ui(self):\n",
    "        self.resize(500, 300)\n",
    "        self.move(0, 0)\n",
    "        self.setWindowTitle('Hola, QMainWindow')\n",
    "        ruta_icono = Path('.', 'imgs', 'pybofractal.png')\n",
    "        self.setWindowIcon(QIcon(str(ruta_icono)))\n",
    "        self.statusBar().showMessage('Ready')\n",
    "        self._create_menu()\n",
    "        self.show()\n",
    "    \n",
    "    def _create_menu(self):        \n",
    "        menubar = self.menuBar()\n",
    "        # File menu and its QAction's\n",
    "        file_menu = menubar.addMenu('&File')\n",
    "        exit_action = QAction(qta.icon('fa5.times-circle'),  ## NUEVA LÍNEA\n",
    "                              '&Exit',  ## NUEVA LÍNEA\n",
    "                              self) ## NUEVA LÍNEA\n",
    "        exit_action.setShortcut('Ctrl+Q') ## NUEVA LÍNEA\n",
    "        exit_action.setStatusTip('Exit application') ## NUEVA LÍNEA\n",
    "        file_menu.addAction(exit_action) ## NUEVA LÍNEA\n",
    "        # Help menu and its QAction's\n",
    "        help_menu = menubar.addMenu('&Help')\n",
    "        about_action = QAction(qta.icon('fa5s.info-circle'), ## NUEVA LÍNEA \n",
    "                               '&Exit',  ## NUEVA LÍNEA\n",
    "                               self) ## NUEVA LÍNEA\n",
    "        about_action.setShortcut('Ctrl+I') ## NUEVA LÍNEA\n",
    "        about_action.setStatusTip('About...') ## NUEVA LÍNEA\n",
    "        help_menu.addAction(about_action) ## NUEVA LÍNEA\n",
    "\n",
    "if __name__ == '__main__':\n",
    "    \n",
    "    app = QApplication(sys.argv)\n",
    "    w = MiVentana()\n",
    "    sys.exit(app.exec_())\n",
    "```"
   ]
  },
  {
   "cell_type": "markdown",
   "metadata": {},
   "source": [
    "Empezamos, de nuevo, a comentar las nuevas líneas:"
   ]
  },
  {
   "cell_type": "markdown",
   "metadata": {},
   "source": [
    "----------------------\n",
    "```python\n",
    "from qtpy.QtWidgets import QApplication, QMainWindow, QAction ## NUEVA LÍNEA\n",
    "```\n",
    "\n",
    "Añadimos el widget `QAction` en el `import`. Luego lo explico más en detalle."
   ]
  },
  {
   "cell_type": "markdown",
   "metadata": {},
   "source": [
    "----------------------\n",
    "```python\n",
    "import qtawesome as qta ## NUEVA LÍNEA\n",
    "\n",
    "```\n",
    "\n",
    "Esto lo hemos explicado en la sección anterior. importamos la biblioteca `qtawesome` para poder integrar fácilmente iconos en nuestra aplicación."
   ]
  },
  {
   "cell_type": "markdown",
   "metadata": {},
   "source": [
    "----------------------\n",
    "```python\n",
    "        exit_action = QAction(qta.icon('fa5.times-circle'), '&Exit', self)\n",
    "        exit_action.setShortcut('Ctrl+Q')\n",
    "        exit_action.setStatusTip('Exit application')\n",
    "        file_menu.addAction(exit_action)\n",
    "```\n",
    "\n",
    "En el método `_create_menu` estábamos creando la barra de menús y habíamos metido dos menús vacios (*File* y *Help*). En lás lineas destacadas aquí encima lo que estamos haciendo es crear una \"acción\" y la metemos en uno de los menús. \n",
    "\n",
    "Pero, ¿Qué es una acción? En los GUIs hay acciones comunes que se pueden realizar de varias formas. Por ejemplo, para cerrar la aplicación podemos ir al menú \"Archivo\" y luego pulsar sobre el elemento \"Cerrar\" (\"File\" -> \"Close\" en inglés). Otra forma típica de cerrar es usar \"Ctrl+Q\", que suele ser un atajo de teclado para cerrar la aplicación. Una tercera forma sería pulsando sobre el icono cerrar de la barra de herramientas (que todavía no hemos visto). Como todas esas acciones deben tener el mismo resultado se puede usar la clase `QAction` para tener una abstracción de ese comportamiento que luego podremos usar en las diferentes formas de cerrar la aplicación.\n",
    "\n",
    "* `exit_action = QAction(qta.icon('fa5.times-circle'), '&Exit', self)`: En la primera línea de código es donde se usa la clase `QAction`. Para crear una instancia podemos pasar un icono, texto y clase padre o solo texto y la clase padre. En este caso uso la primera forma que incluye un icono. En el icono, en lugar de usar `QIcon` y una figura que tengamos en el disco duro hacemos lo mismo pero usando `qtawesome` como he explicado antes. Luego, el texto que queremos que muestre el elemento del menú y, por último, la clase padre será el propio `QMainWindow` (como `self` en este caso).\n",
    "\n",
    "* `exit_action.setShortcut('Ctrl+Q')`: Usamos el método `setShortcut` de `QAction` para añadir un atajo de teclado a la aplicación. En este caso usamos `Ctrl+Q` como atajo de teclado para que la aplicación se cierre (pero de momento no hará nada).\n",
    "\n",
    "* `exit_action.setStatusTip('Exit application')`:  Con el método `setStatusTip` añadimos en mensaje que aparecerá en la barra de estado cuando el puntero del ratón esté sobre el elemento del menú.\n",
    "\n",
    "* `file_menu.addAction(exit_action)`: Por último, anadimos el elemento del menú a su menú usando el método `addAction` de la instancia de `QMenu` llamada `file_menu` y que hemos creado mediante el método `addMenu` de `QMenuBar`."
   ]
  },
  {
   "cell_type": "markdown",
   "metadata": {},
   "source": [
    "Como podéis ver en la última línea, esto es un poco como un Lego donde tenemos un montón de piezas y las vamos uniendo de alguna forma para obtener, al final, nuestra figura final."
   ]
  },
  {
   "cell_type": "markdown",
   "metadata": {},
   "source": [
    "El resto de código del método `_create_menu` es repetir lo que acabo de explicar pero para el segundo menú, *Help*."
   ]
  },
  {
   "cell_type": "markdown",
   "metadata": {},
   "source": [
    "Si guardáis el anterior código completo en un fichero que se llame *main01.py* y lo ejecutáis, al igual que hemos hecho antes, deberéis ver algo parecido a lo siguiente:\n",
    "\n",
    "![](../imgs/07_02_menu.png)"
   ]
  },
  {
   "cell_type": "markdown",
   "metadata": {},
   "source": [
    "En la anterior imagen podemos ver que al pulsar sobre *File* se despliega su menú. En ese menú podemos ver el icono (el circulito con la X), el texto que le hemos indicado y su atajo de teclado. Al poner el puntero del ratón sobre el elemento *Exit* vemos que aparece en la barra de estado (`status_bar`) el mensaje que habíamos definido, \"Exit application\"."
   ]
  },
  {
   "cell_type": "markdown",
   "metadata": {},
   "source": [
    "Si pulsáis con el botón izquierdo del ratón sobre la opción *Exit* o si usáis el atajo de teclado \"Ctrl+Q\" el GUI no hace absolutamente nada. Eso es algo que veremos en el próximo capítulo..."
   ]
  },
  {
   "cell_type": "markdown",
   "metadata": {},
   "source": [
    "En este capítulo vamos a seguir trabajando nuestro menú,"
   ]
  },
  {
   "cell_type": "markdown",
   "metadata": {},
   "source": [
    "## Añadiendo un submenú"
   ]
  },
  {
   "cell_type": "markdown",
   "metadata": {},
   "source": [
    "En un menú podemos añadir acciones o, también, otros menús. Vamos a ver como. Nuevamente, añadimos primero el código completo resaltando las líneas nuevas con el comentario `## NUEVA LÍNEA`."
   ]
  },
  {
   "cell_type": "markdown",
   "metadata": {},
   "source": [
    "````python\n",
    "'''\n",
    "Curso de creación de GUIs con Qt5 y Python\n",
    "\n",
    "Author: Kiko Correoso\n",
    "Website: pybonacci.org \n",
    "Licencia: MIT\n",
    "'''\n",
    "\n",
    "import os\n",
    "os.environ['QT_API'] = 'pyside2'\n",
    "import sys\n",
    "from pathlib import Path\n",
    "\n",
    "from qtpy.QtWidgets import (QApplication, QMainWindow,  ## NUEVA LÍNEA\n",
    "                            QAction, QMenu) ## NUEVA LÍNEA\n",
    "from qtpy.QtGui import QIcon\n",
    "import qtawesome as qta\n",
    "\n",
    "\n",
    "class MiVentana(QMainWindow):\n",
    "    def __init__(self):\n",
    "        super().__init__()\n",
    "        self._create_ui()\n",
    "    \n",
    "    def _create_ui(self):\n",
    "        self.resize(500, 300)\n",
    "        self.move(0, 0)\n",
    "        self.setWindowTitle('Hola, QMainWindow')\n",
    "        ruta_icono = Path('.', 'imgs', 'pybofractal.png')\n",
    "        self.setWindowIcon(QIcon(str(ruta_icono)))\n",
    "        self.statusBar().showMessage('Ready')\n",
    "        self._create_menu()\n",
    "        self.show()\n",
    "    \n",
    "    def _create_menu(self):        \n",
    "        menubar = self.menuBar()\n",
    "        # File menu and its QAction's\n",
    "        file_menu = menubar.addMenu('&File')\n",
    "        exit_action = QAction(qta.icon('fa5.times-circle'),\n",
    "                              '&Exit',\n",
    "                              self)\n",
    "        exit_action.setShortcut('Ctrl+Q')\n",
    "        exit_action.setStatusTip('Exit application')\n",
    "        file_menu.addAction(exit_action)\n",
    "        # Help menu and its QAction's\n",
    "        help_menu = menubar.addMenu('&Help')\n",
    "        about_action = QAction(qta.icon('fa5s.info-circle'),\n",
    "                               '&Exit',\n",
    "                               self)\n",
    "        about_action.setShortcut('Ctrl+I')\n",
    "        about_action.setStatusTip('About...')\n",
    "        help_menu.addAction(about_action)\n",
    "        # NewMenu menu with a SubMenu and its QAction's\n",
    "        new_menu = menubar.addMenu('NewMenu') ## NUEVA LÍNEA\n",
    "        new_submenu = QMenu('SubMenu', self) ## NUEVA LÍNEA\n",
    "        first_action = QAction('SubMenuAction1', self) ## NUEVA LÍNEA\n",
    "        second_action = QAction('SubMenuAction2', self) ## NUEVA LÍNEA\n",
    "        new_submenu.addAction(first_action) ## NUEVA LÍNEA\n",
    "        new_submenu.addAction(second_action) ## NUEVA LÍNEA\n",
    "        new_menu.addMenu(new_submenu) ## NUEVA LÍNEA\n",
    "\n",
    "if __name__ == '__main__':\n",
    "    \n",
    "    app = QApplication(sys.argv)\n",
    "    w = MiVentana()\n",
    "    sys.exit(app.exec_())\n",
    "```"
   ]
  },
  {
   "cell_type": "markdown",
   "metadata": {},
   "source": [
    "Podéis guardar el anterior código en un fichero que se llame *main02.py o, si habéis descargado el [repositorio](https://github.com/kikocorreoso/pyboqt/releases/tag/chapter07), podéis usar el que se encuentra en la carpeta *apps/07-MenuPrincipal*. Lo podéis ejecutar con el terminal en el mismo sitio donde está el programa haciendo (si no os sale el icono es porque no lo tenéis metido en la carpeta *apps/07-MenuPrincipal/imgs*.\n",
    "\n",
    "```python\n",
    "python main02.py\n",
    "```"
   ]
  },
  {
   "cell_type": "markdown",
   "metadata": {},
   "source": [
    "Vemos el resultado:\n",
    "\n",
    "![](../imgs/07_03_menu.png)"
   ]
  },
  {
   "cell_type": "markdown",
   "metadata": {},
   "source": [
    "Y comentamos el nuevo código:"
   ]
  },
  {
   "cell_type": "markdown",
   "metadata": {},
   "source": [
    "-----------------------\n",
    "```python\n",
    "from qtpy.QtWidgets import (QApplication, QMainWindow,  ## NUEVA LÍNEA\n",
    "                            QAction, QMenu) ## NUEVA LÍNEA\n",
    "```\n",
    "\n",
    "Añadimos `QMenu` a los widgets que importamos."
   ]
  },
  {
   "cell_type": "markdown",
   "metadata": {},
   "source": [
    "-----------------------\n",
    "```python\n",
    "        new_menu = menubar.addMenu('NewMenu')\n",
    "        new_submenu = QMenu('SubMenu', self)\n",
    "        first_action = QAction('SubMenuAction1', self)\n",
    "        second_action = QAction('SubMenuAction2', self)\n",
    "        new_submenu.addAction(first_action)\n",
    "        new_submenu.addAction(second_action)\n",
    "        new_menu.addMenu(new_submenu)\n",
    "```\n",
    "\n",
    "De nuevo, dentro del método `_create_menu` metemos algo más de código para meter un menú dentro de otros menú (submenú). Paso a comentar el código:\n",
    "\n",
    "* `new_menu = menubar.addMenu('NewMenu')`: Esto ya lo hemos visto antes. Añadimos un nuevo menú a la barra de menús.\n",
    "\n",
    "* `new_submenu = QMenu('SubMenu', self)`: Ahora creamos un menú nuevo pero en lugar de usar el método `addMenu` del objeto `QMenuBar` usamos directamente la [clase `QMenu`](https://doc.qt.io/qtforpython/PySide2/QtWidgets/QMenu.html).\n",
    "\n",
    "* Las líneas `first_action = QAction('SubMenuAction1', self)` y `second_action = QAction('SubMenuAction2', self)`: Son similares a lo visto antes. Simplemente ahora no añadimos atajo de teclado ni mensaje para la barra de estado.\n",
    "\n",
    "* Las líneas `new_submenu.addAction(first_action)' y 'new_submenu.addAction(second_action)`: Esto también lo hemos visto antes. Añadimos ambas acciones al submenú.\n",
    "\n",
    "* Por último, `new_menu.addMenu(new_submenu)`: añade el submenú al menú `new_menu`."
   ]
  },
  {
   "cell_type": "markdown",
   "metadata": {},
   "source": [
    "Lo dicho anteriormente, pequeñas piezas de Lego que al montarlas correctamente van adquieriendo forma."
   ]
  },
  {
   "cell_type": "markdown",
   "metadata": {},
   "source": [
    "Y, por hoy, creo que ya es suficiente. \n",
    "\n",
    "Como resumen. Hemos creado menús, submenús, añadido atajos de teclado,... Pero, de momento, no sabemos como interactuar con el GUI, es decir, no nos podemos comunicar con el mismo para que haga cosas. Eso será el objeto del próximo capítulo."
   ]
  }
 ],
 "metadata": {
  "kernelspec": {
   "display_name": "Python 3",
   "language": "python",
   "name": "python3"
  },
  "language_info": {
   "codemirror_mode": {
    "name": "ipython",
    "version": 3
   },
   "file_extension": ".py",
   "mimetype": "text/x-python",
   "name": "python",
   "nbconvert_exporter": "python",
   "pygments_lexer": "ipython3",
   "version": "3.7.6"
  }
 },
 "nbformat": 4,
 "nbformat_minor": 2
}
