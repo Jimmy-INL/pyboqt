{
 "cells": [
  {
   "cell_type": "markdown",
   "metadata": {},
   "source": [
    "En el mundo Qt tenemos una herramienta [RAD (Rapid Application Development)](https://es.wikipedia.org/wiki/Desarrollo_r%C3%A1pido_de_aplicaciones).  Esta herramienta se llama Qt Designer y nos permite crear prototipos de nuestras aplicaciones de forma rápida y visual. En este capítulo voy a ver un poco lo que es Qt Designer y vamos a ver las diferentes partes de la herramienta."
   ]
  },
  {
   "cell_type": "markdown",
   "metadata": {},
   "source": [
    "Índice:\n",
    "\n",
    "* [Instalación de lo que vamos a necesitar](https://pybonacci.org/2019/11/12/curso-de-creacion-de-guis-con-qt5-y-python-capitulo-00-instalacion/).\n",
    "* [Qt, versiones y diferencias](https://pybonacci.org/2019/11/21/curso-de-creacion-de-guis-con-qt5-y-python-capitulo-01-qt-versiones-y-bindings/).\n",
    "* [Hola, Mundo](https://pybonacci.org/2019/11/26/curso-de-creacion-de-guis-con-qt5-y-python-capitulo-02-hola-mundo/).\n",
    "* [Módulos en Qt](https://pybonacci.org/2019/12/02/curso-de-creacion-de-guis-con-qt5-y-python-capitulo-03-modulos-qt/).\n",
    "* [Añadimos icono a la ventana principal](https://pybonacci.org/2019/12/26/curso-de-creacion-de-guis-con-qt5-y-python-capitulo-04-icono-de-la-ventana/).\n",
    "* [Tipos de ventana en un GUI](https://pybonacci.org/2020/01/31/curso-de-creacion-de-guis-con-qt-capitulo-05-ventanas-principales-diferencias/).\n",
    "* [Ventana inicial de carga o Splashscreen](https://pybonacci.org/2020/02/26/curso-de-creacion-de-guis-con-qt-capitulo-06-splash-screen/)\n",
    "* [Menu principal. Introducción](https://pybonacci.org/2020/03/18/curso-de-creacion-de-guis-con-qt-capitulo-07-menu/).\n",
    "* [Mejorando algunas cosas vistas](https://pybonacci.org/2020/03/26/curso-de-creacion-de-guis-con-qt-capitulo-08-mejorando-lo-visto/).\n",
    "* [Gestión de eventos o Acción y reacción](https://pybonacci.org/2020/03/27/curso-de-creacion-de-guis-con-qt-capitulo-09-signals-y-slots/).\n",
    "* [Introducción a Designer](https://pybonacci.org/2020/04/14/curso-de-creacion-de-guis-con-qt-capitulo-10-introduccion-a-designer/) (este capítulo).\n",
    "* [Los Widgets vistos a través de Designer: Primera parte](https://pybonacci.org/2020/05/01/curso-de-creacion-de-guis-con-qt-capitulo-11-widgets-en-designer-i/).\n",
    "* [Los Widgets vistos a través de Designer: Segunda parte](https://pybonacci.org/2020/05/02/curso-de-creacion-de-guis-con-qt-capitulo-12:-widgets-en-designer-(ii)/).\n",
    "* [Los Widgets vistos a través de Designer: Tercera parte](https://pybonacci.org/2020/05/03/curso-de-creacion-de-guis-con-qt-capitulo-13-widgets-en-designer-iii/).\n",
    "* [Los Widgets vistos a través de Designer: Cuarta parte](https://pybonacci.org/2020/05/04/curso-de-creacion-de-guis-con-qt-capitulo-14-widgets-en-designer-iv/).\n",
    "* [Los Widgets vistos a través de Designer: Quinta parte](https://pybonacci.org/2020/05/05/curso-de-creacion-de-guis-con-qt-capitulo-15-widgets-en-designer-v/).\n",
    "* [Los Widgets vistos a través de Designer: Sexta parte](https://pybonacci.org/2020/05/06/curso-de-creacion-de-guis-con-qt-capitulo-16:-widgets-en-designer-(vi)/).\n",
    "* TBD… (lo actualizaré cuando tenga más claro los siguientes pasos)."
   ]
  },
  {
   "cell_type": "markdown",
   "metadata": {},
   "source": [
    "[Los materiales para este capítulo los podéis descargar de [aquí](https://github.com/kikocorreoso/pyboqt/tree/chapter10)]"
   ]
  },
  {
   "cell_type": "markdown",
   "metadata": {},
   "source": [
    "**[INSTALACIÓN] Si todavía no has pasado por el [inicio del curso, donde explico cómo poner a punto todo](https://pybonacci.org/2019/11/12/curso-de-creacion-de-guis-con-qt-capitulo-00:-instalacion/), ahora es un buen momento para hacerlo y después podrás seguir con esta nueva receta.**"
   ]
  },
  {
   "cell_type": "markdown",
   "metadata": {},
   "source": [
    "## ¿Qué es Qt Designer?"
   ]
  },
  {
   "cell_type": "markdown",
   "metadata": {},
   "source": [
    "Traduciendo de la [documentación oficial](https://doc.qt.io/qt-5/qtdesigner-manual.html):"
   ]
  },
  {
   "cell_type": "markdown",
   "metadata": {},
   "source": [
    "> Qt Designer es la herramienta Qt para diseñar y crear interfaces gráficas de usuario (graphical user interfaces, GUIs) con Widgets Qt. Puedes integrar y personalizar tus ventanas y diálogos usando la forma lo-que-ves-es-lo-que-obtienes (what-you-see-is-what-you-get, WYSIWYG) y, además, las puedes probar usando diferentes estilos y resoluciones."
   ]
  },
  {
   "cell_type": "markdown",
   "metadata": {},
   "source": [
    "La verdad que el manual oficial de Designer está muy bien. Lo único que va a aportar esto que estoy haciendo aquí es que lo vamos a hacer en español y de forma más visual."
   ]
  },
  {
   "cell_type": "markdown",
   "metadata": {},
   "source": [
    "Normalmente, Designer debería estar disponible en tu equipo si seguiste las instrucciones del [capítulo 00 donde instalábamos las cosas](https://pybonacci.org/2019/11/12/curso-de-creacion-de-guis-con-qt5-y-python-capitulo-00-instalacion/). Para poder empezar a usarlo, lo siguiente debería ser suficiente. Primero escribimos (siempre desde una línea de comandos/cmd/shell/...):"
   ]
  },
  {
   "cell_type": "markdown",
   "metadata": {},
   "source": [
    "`conda activate pyboqt`"
   ]
  },
  {
   "cell_type": "markdown",
   "metadata": {},
   "source": [
    "Para activar el entorno virtual que venimos utilizando desde el principio del curso. Luego, desde la misma línea de comandos/cdm/shell/... escribimos:"
   ]
  },
  {
   "cell_type": "markdown",
   "metadata": {},
   "source": [
    "`designer`"
   ]
  },
  {
   "cell_type": "markdown",
   "metadata": {},
   "source": [
    "Y se debería abrir una nueva ventana (ver ejemplo debajo)."
   ]
  },
  {
   "cell_type": "markdown",
   "metadata": {},
   "source": [
    "![](../imgs/10_start_designer.gif)"
   ]
  },
  {
   "cell_type": "markdown",
   "metadata": {},
   "source": [
    "Si no os ha funcionado lo anterior, por favor, usad los comentarios e intentaré resolver el problema."
   ]
  },
  {
   "cell_type": "markdown",
   "metadata": {},
   "source": [
    "La ventana que se os debe haber abierto, si habéis usado los dos comandos anteriores que os he indicado, es la interfaz de Qt Designer."
   ]
  },
  {
   "cell_type": "markdown",
   "metadata": {},
   "source": [
    "Pongo un vídeo en el que comento las diferentes partes o secciones que podemos ver en la pantalla. Tú puedes toquetear tu propia ventana de Qt Designer:"
   ]
  },
  {
   "cell_type": "code",
   "execution_count": 2,
   "metadata": {},
   "outputs": [
    {
     "data": {
      "text/html": [
       "<video src=\"https://libre.video/download/videos/e7c86aaa-97f0-4c01-bef2-19c19f078988-480.mp4\" controls  >\n",
       "      Your browser does not support the <code>video</code> element.\n",
       "    </video>"
      ],
      "text/plain": [
       "<IPython.core.display.Video object>"
      ]
     },
     "execution_count": 2,
     "metadata": {},
     "output_type": "execute_result"
    }
   ],
   "source": [
    "from IPython.display import Video\n",
    "\n",
    "Video(\"https://libre.video/download/videos/e7c86aaa-97f0-4c01-bef2-19c19f078988-480.mp4\")"
   ]
  },
  {
   "cell_type": "markdown",
   "metadata": {},
   "source": [
    "Transcripción del vídeo a continuación:"
   ]
  },
  {
   "cell_type": "markdown",
   "metadata": {},
   "source": [
    "*Cuando abrimos designer, el GUI se inicia con una ventanita o diálogo que nos permite seleccionar el tipo de ventana que queremos crear. Lo que tenemos aquí son plantillas y podemos elegir entre varias. Por ejemplo, tenemos un diálogo con botones en la parte inferior, un diálogo con botones en la parte derecha, un diálogo sin botones, un widget, que es la base de todos los widgets, y nos puede servir de base para crear nuestros propios widgets. Si extendéis el siguiente panel tenéis una serie de widgets que pueden servir de base para crear otras cosas. Podríamos elegir, por ejemplo, un Wizard, que nos podría servir de base para crear un asistente de instalación,…*\n",
    "\n",
    "*Vamos a crear ahora un QMainWindow. Cuando usamos Designer es para diseñar cosas algo complejas y lo más complejo suele ser la ventana principal de una aplicación. Esta ventana principal suele tener barra de menús, barra de estado y una parte central donde pasa la acción. Hablé sobre los tipos de ventana en el [capítulo 05](https://pybonacci.org/2020/01/31/curso-de-creacion-de-guis-con-qt-capitulo-05-ventanas-principales-diferencias/).*\n",
    "\n",
    "*Cuando hemos seleccionado la plantilla con la que vamos a trabajar accedemos a lo que es, propiamente, Designer.*\n",
    "\n",
    "*-Dentro de Designer tenemos nuestra barra de menús,*\n",
    "\n",
    "*-nuestra barra de estado,*\n",
    "\n",
    "*-tenemos también una barra con herramientas o ToolBox. El creador de la aplicación suele poner aquí, normalmente, los comandos que considera más útiles para que tengamos un acceso más rápido a los mismos.*\n",
    "\n",
    "*-A la izquierda de la ventana tenemos el WidgetBox o caja de Widgets donde podemos ver un montón de Widgets organizados por funcionalidad. En otro vídeo entraremos más en detalle sobre esto.*\n",
    "\n",
    "*-A la derecha de la ventana se agrupan varias cosas, en la parte de arriba tenemos el inspector de objetos. Cada Widget que agregamos a la ventana aparece en un árbol donde podemos ver que hay cierta jerarquía con padres e hijos, es decir, si un Widget está dentro de otro. Ya sabéis, lo que he ido comentando a lo largo del curso, nuestras piezas de lego. Por ejemplo, si quito el MenuBar tendré un widget menos. Lo mismo puedo hacer con el Status Bar.*\n",
    "\n",
    "*-Debajo tenemos las propiedades del Widget que hayamos seleccionado, dependiendo del Widget seleccionado se verán unas propiedades u otras ya que cada tipo de Widget sirve para unas cosas u otras.*\n",
    "\n",
    "*-Más abajo, también a la derecha, podemos ver el navegador de recursos. Una ventana permite tener recursos asociados, por ejemplo, iconos usados en la ventana, ficheros de traducción del GUI,… Aquí es dónde los podríamos añadir y usar.*\n",
    "\n",
    "*-También, abajo a la derecha tenemos el editor de acciones. Hablamos de las acciones cuando vimos el menú principal en el [capítulo 07](https://pybonacci.org/2020/03/18/curso-de-creacion-de-guis-con-qt-capitulo-07-menu/).*\n",
    "\n",
    "*-Finalmente, también en la parte de abajo a la derecha, tenemos una tercera opción, el editor de señales y Slots. Hablé sobre ello en el [capítulo 09](https://pybonacci.org/2020/03/27/curso-de-creacion-de-guis-con-qt-capitulo-09-signals-y-slots/).*\n",
    "\n",
    "*-Y, por supuesto, tenemos la zona central que es donde está nuestro lienzo, nuestra plantilla, que es con la que vamos a trabajar en todo momento.*"
   ]
  },
  {
   "cell_type": "markdown",
   "metadata": {},
   "source": [
    "En este primer vídeo hemos visto las distintas partes de Designer. En el próximo capítulo entraremos más en detalle en cómo empezar a usar Designer y en como usar más en detalle cada una de las partes de Designer que hemos comentado en este capítulo."
   ]
  }
 ],
 "metadata": {
  "kernelspec": {
   "display_name": "Python 3",
   "language": "python",
   "name": "python3"
  },
  "language_info": {
   "codemirror_mode": {
    "name": "ipython",
    "version": 3
   },
   "file_extension": ".py",
   "mimetype": "text/x-python",
   "name": "python",
   "nbconvert_exporter": "python",
   "pygments_lexer": "ipython3",
   "version": "3.7.6"
  }
 },
 "nbformat": 4,
 "nbformat_minor": 4
}
